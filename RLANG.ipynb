{
 "cells": [
  {
   "cell_type": "markdown",
   "metadata": {
    "deletable": true,
    "editable": true
   },
   "source": [
    "# R PROGRAMMING"
   ]
  },
  {
   "cell_type": "code",
   "execution_count": 1,
   "metadata": {
    "collapsed": false,
    "deletable": true,
    "editable": true
   },
   "outputs": [
    {
     "name": "stderr",
     "output_type": "stream",
     "text": [
      "\n",
      "Attaching package: ‘dplyr’\n",
      "\n",
      "The following objects are masked from ‘package:stats’:\n",
      "\n",
      "    filter, lag\n",
      "\n",
      "The following objects are masked from ‘package:base’:\n",
      "\n",
      "    intersect, setdiff, setequal, union\n",
      "\n"
     ]
    }
   ],
   "source": [
    "library(readr)\n",
    "library(dplyr)"
   ]
  },
  {
   "cell_type": "code",
   "execution_count": 2,
   "metadata": {
    "collapsed": false,
    "deletable": true,
    "editable": true
   },
   "outputs": [
    {
     "name": "stderr",
     "output_type": "stream",
     "text": [
      "Parsed with column specification:\n",
      "cols(\n",
      "  Film = col_character(),\n",
      "  Genre = col_character(),\n",
      "  `Lead Studio` = col_character(),\n",
      "  `Audience score %` = col_integer(),\n",
      "  Profitability = col_double(),\n",
      "  `Rotten Tomatoes %` = col_integer(),\n",
      "  `Worldwide Gross` = col_character(),\n",
      "  Year = col_integer()\n",
      ")\n"
     ]
    }
   ],
   "source": [
    "movies <- read_csv('movies.csv')"
   ]
  },
  {
   "cell_type": "code",
   "execution_count": 3,
   "metadata": {
    "collapsed": false,
    "deletable": true,
    "editable": true
   },
   "outputs": [
    {
     "data": {
      "text/html": [
       "<table>\n",
       "<thead><tr><th scope=col>Film</th><th scope=col>Genre</th><th scope=col>Lead Studio</th><th scope=col>Audience score %</th><th scope=col>Profitability</th><th scope=col>Rotten Tomatoes %</th><th scope=col>Worldwide Gross</th><th scope=col>Year</th></tr></thead>\n",
       "<tbody>\n",
       "\t<tr><td>Zack and Miri Make a Porno        </td><td>Romance                           </td><td>The Weinstein Company             </td><td>70                                </td><td>1.747542                          </td><td>64                                </td><td>$41.94                            </td><td>2008                              </td></tr>\n",
       "\t<tr><td>Youth in Revolt                   </td><td>Comedy                            </td><td>The Weinstein Company             </td><td>52                                </td><td>1.090000                          </td><td>68                                </td><td>$19.62                            </td><td>2010                              </td></tr>\n",
       "\t<tr><td>You Will Meet a Tall Dark Stranger</td><td>Comedy                            </td><td>Independent                       </td><td>35                                </td><td>1.211818                          </td><td>43                                </td><td>$26.66                            </td><td>2010                              </td></tr>\n",
       "\t<tr><td>When in Rome                      </td><td>Comedy                            </td><td>Disney                            </td><td>44                                </td><td>0.000000                          </td><td>15                                </td><td>$43.04                            </td><td>2010                              </td></tr>\n",
       "\t<tr><td>What Happens in Vegas             </td><td>Comedy                            </td><td>Fox                               </td><td>72                                </td><td>6.267647                          </td><td>28                                </td><td>$219.37                           </td><td>2008                              </td></tr>\n",
       "\t<tr><td>Water For Elephants               </td><td>Drama                             </td><td>20th Century Fox                  </td><td>72                                </td><td>3.081421                          </td><td>60                                </td><td>$117.09                           </td><td>2011                              </td></tr>\n",
       "</tbody>\n",
       "</table>\n"
      ],
      "text/latex": [
       "\\begin{tabular}{r|llllllll}\n",
       " Film & Genre & Lead Studio & Audience score \\% & Profitability & Rotten Tomatoes \\% & Worldwide Gross & Year\\\\\n",
       "\\hline\n",
       "\t Zack and Miri Make a Porno         & Romance                            & The Weinstein Company              & 70                                 & 1.747542                           & 64                                 & \\$41.94                           & 2008                              \\\\\n",
       "\t Youth in Revolt                    & Comedy                             & The Weinstein Company              & 52                                 & 1.090000                           & 68                                 & \\$19.62                           & 2010                              \\\\\n",
       "\t You Will Meet a Tall Dark Stranger & Comedy                             & Independent                        & 35                                 & 1.211818                           & 43                                 & \\$26.66                           & 2010                              \\\\\n",
       "\t When in Rome                       & Comedy                             & Disney                             & 44                                 & 0.000000                           & 15                                 & \\$43.04                           & 2010                              \\\\\n",
       "\t What Happens in Vegas              & Comedy                             & Fox                                & 72                                 & 6.267647                           & 28                                 & \\$219.37                          & 2008                              \\\\\n",
       "\t Water For Elephants                & Drama                              & 20th Century Fox                   & 72                                 & 3.081421                           & 60                                 & \\$117.09                          & 2011                              \\\\\n",
       "\\end{tabular}\n"
      ],
      "text/markdown": [
       "\n",
       "Film | Genre | Lead Studio | Audience score % | Profitability | Rotten Tomatoes % | Worldwide Gross | Year | \n",
       "|---|---|---|---|---|---|\n",
       "| Zack and Miri Make a Porno         | Romance                            | The Weinstein Company              | 70                                 | 1.747542                           | 64                                 | $41.94                             | 2008                               | \n",
       "| Youth in Revolt                    | Comedy                             | The Weinstein Company              | 52                                 | 1.090000                           | 68                                 | $19.62                             | 2010                               | \n",
       "| You Will Meet a Tall Dark Stranger | Comedy                             | Independent                        | 35                                 | 1.211818                           | 43                                 | $26.66                             | 2010                               | \n",
       "| When in Rome                       | Comedy                             | Disney                             | 44                                 | 0.000000                           | 15                                 | $43.04                             | 2010                               | \n",
       "| What Happens in Vegas              | Comedy                             | Fox                                | 72                                 | 6.267647                           | 28                                 | $219.37                            | 2008                               | \n",
       "| Water For Elephants                | Drama                              | 20th Century Fox                   | 72                                 | 3.081421                           | 60                                 | $117.09                            | 2011                               | \n",
       "\n",
       "\n"
      ],
      "text/plain": [
       "  Film                               Genre   Lead Studio          \n",
       "1 Zack and Miri Make a Porno         Romance The Weinstein Company\n",
       "2 Youth in Revolt                    Comedy  The Weinstein Company\n",
       "3 You Will Meet a Tall Dark Stranger Comedy  Independent          \n",
       "4 When in Rome                       Comedy  Disney               \n",
       "5 What Happens in Vegas              Comedy  Fox                  \n",
       "6 Water For Elephants                Drama   20th Century Fox     \n",
       "  Audience score % Profitability Rotten Tomatoes % Worldwide Gross Year\n",
       "1 70               1.747542      64                $41.94          2008\n",
       "2 52               1.090000      68                $19.62          2010\n",
       "3 35               1.211818      43                $26.66          2010\n",
       "4 44               0.000000      15                $43.04          2010\n",
       "5 72               6.267647      28                $219.37         2008\n",
       "6 72               3.081421      60                $117.09         2011"
      ]
     },
     "metadata": {},
     "output_type": "display_data"
    }
   ],
   "source": [
    "head(movies)"
   ]
  },
  {
   "cell_type": "code",
   "execution_count": 4,
   "metadata": {
    "collapsed": false,
    "deletable": true,
    "editable": true
   },
   "outputs": [
    {
     "data": {
      "text/html": [
       "<table>\n",
       "<thead><tr><th scope=col>Film</th><th scope=col>Genre</th><th scope=col>Lead Studio</th><th scope=col>Audience score %</th><th scope=col>Profitability</th><th scope=col>Rotten Tomatoes %</th><th scope=col>Worldwide Gross</th><th scope=col>Year</th></tr></thead>\n",
       "<tbody>\n",
       "\t<tr><td>Youth in Revolt                   </td><td>Comedy                            </td><td>The Weinstein Company             </td><td>52                                </td><td> 1.0900000                        </td><td>68                                </td><td>$19.62                            </td><td>2010                              </td></tr>\n",
       "\t<tr><td>You Will Meet a Tall Dark Stranger</td><td>Comedy                            </td><td>Independent                       </td><td>35                                </td><td> 1.2118182                        </td><td>43                                </td><td>$26.66                            </td><td>2010                              </td></tr>\n",
       "\t<tr><td>When in Rome                      </td><td>Comedy                            </td><td>Disney                            </td><td>44                                </td><td> 0.0000000                        </td><td>15                                </td><td>$43.04                            </td><td>2010                              </td></tr>\n",
       "\t<tr><td>What Happens in Vegas             </td><td>Comedy                            </td><td>Fox                               </td><td>72                                </td><td> 6.2676470                        </td><td>28                                </td><td>$219.37                           </td><td>2008                              </td></tr>\n",
       "\t<tr><td>Valentine's Day                   </td><td>Comedy                            </td><td>Warner Bros.                      </td><td>54                                </td><td> 4.1840385                        </td><td>17                                </td><td>$217.57                           </td><td>2010                              </td></tr>\n",
       "\t<tr><td>The Ugly Truth                    </td><td>Comedy                            </td><td>Independent                       </td><td>68                                </td><td> 5.4026316                        </td><td>14                                </td><td>$205.30                           </td><td>2009                              </td></tr>\n",
       "\t<tr><td>The Proposal                      </td><td>Comedy                            </td><td>Disney                            </td><td>74                                </td><td> 7.8675000                        </td><td>43                                </td><td>$314.70                           </td><td>2009                              </td></tr>\n",
       "\t<tr><td>The Invention of Lying            </td><td>Comedy                            </td><td>Warner Bros.                      </td><td>47                                </td><td> 1.7513514                        </td><td>56                                </td><td>$32.40                            </td><td>2009                              </td></tr>\n",
       "\t<tr><td>The Heartbreak Kid                </td><td>Comedy                            </td><td>Paramount                         </td><td>41                                </td><td> 2.1294442                        </td><td>30                                </td><td>$127.77                           </td><td>2007                              </td></tr>\n",
       "\t<tr><td>The Back-up Plan                  </td><td>Comedy                            </td><td>CBS                               </td><td>47                                </td><td> 2.2025714                        </td><td>20                                </td><td>$77.09                            </td><td>2010                              </td></tr>\n",
       "\t<tr><td>She's Out of My League            </td><td>Comedy                            </td><td>Paramount                         </td><td>60                                </td><td> 2.4405000                        </td><td>57                                </td><td>$48.81                            </td><td>2010                              </td></tr>\n",
       "\t<tr><td>Sex and the City Two              </td><td>Comedy                            </td><td>Warner Bros.                      </td><td>49                                </td><td> 2.8835000                        </td><td>15                                </td><td>$288.35                           </td><td>2010                              </td></tr>\n",
       "\t<tr><td>Sex and the City 2                </td><td>Comedy                            </td><td>Warner Bros.                      </td><td>49                                </td><td> 2.8835000                        </td><td>15                                </td><td>$288.35                           </td><td>2010                              </td></tr>\n",
       "\t<tr><td>Sex and the City                  </td><td>Comedy                            </td><td>Warner Bros.                      </td><td>81                                </td><td> 7.2217958                        </td><td>49                                </td><td>$415.25                           </td><td>2008                              </td></tr>\n",
       "\t<tr><td>Penelope                          </td><td>Comedy                            </td><td>Summit                            </td><td>74                                </td><td> 1.3827997                        </td><td>52                                </td><td>$20.74                            </td><td>2008                              </td></tr>\n",
       "\t<tr><td>Over Her Dead Body                </td><td>Comedy                            </td><td>New Line                          </td><td>47                                </td><td> 2.0710000                        </td><td>15                                </td><td>$20.71                            </td><td>2008                              </td></tr>\n",
       "\t<tr><td>Our Family Wedding                </td><td>Comedy                            </td><td>Independent                       </td><td>49                                </td><td> 0.0000000                        </td><td>14                                </td><td>$21.37                            </td><td>2010                              </td></tr>\n",
       "\t<tr><td>No Reservations                   </td><td>Comedy                            </td><td>Warner Bros.                      </td><td>64                                </td><td> 3.3071804                        </td><td>39                                </td><td>$92.60                            </td><td>2007                              </td></tr>\n",
       "\t<tr><td>Nick and Norah's Infinite Playlist</td><td>Comedy                            </td><td>Sony                              </td><td>67                                </td><td> 3.3527293                        </td><td>73                                </td><td>$33.53                            </td><td>2008                              </td></tr>\n",
       "\t<tr><td>Miss Pettigrew Lives for a Day    </td><td>Comedy                            </td><td>Independent                       </td><td>70                                </td><td> 0.2528949                        </td><td>78                                </td><td>$15.17                            </td><td>2008                              </td></tr>\n",
       "\t<tr><td>Marley and Me                     </td><td>Comedy                            </td><td>Fox                               </td><td>77                                </td><td> 3.7467818                        </td><td>63                                </td><td>$206.07                           </td><td>2008                              </td></tr>\n",
       "\t<tr><td>Mamma Mia!                        </td><td>Comedy                            </td><td>Universal                         </td><td>76                                </td><td> 9.2344539                        </td><td>53                                </td><td>$609.47                           </td><td>2008                              </td></tr>\n",
       "\t<tr><td>Mamma Mia!                        </td><td>Comedy                            </td><td>Universal                         </td><td>76                                </td><td> 9.2344539                        </td><td>53                                </td><td>$609.47                           </td><td>2008                              </td></tr>\n",
       "\t<tr><td><span style=white-space:pre-wrap>Love &amp; Other Drugs                </span></td><td>Comedy                                                                        </td><td><span style=white-space:pre-wrap>Fox                  </span>                 </td><td>55                                                                            </td><td> 1.8176667                                                                    </td><td>48                                                                            </td><td>$54.53                                                                        </td><td>2010                                                                          </td></tr>\n",
       "\t<tr><td>Life as We Know It                </td><td>Comedy                            </td><td>Independent                       </td><td>62                                </td><td> 2.5305263                        </td><td>28                                </td><td>$96.16                            </td><td>2010                              </td></tr>\n",
       "\t<tr><td>License to Wed                    </td><td>Comedy                            </td><td>Warner Bros.                      </td><td>55                                </td><td> 1.9802064                        </td><td> 8                                </td><td>$69.31                            </td><td>2007                              </td></tr>\n",
       "\t<tr><td>Letters to Juliet                 </td><td>Comedy                            </td><td>Summit                            </td><td>62                                </td><td> 2.6393333                        </td><td>40                                </td><td>$79.18                            </td><td>2010                              </td></tr>\n",
       "\t<tr><td>Leap Year                         </td><td>Comedy                            </td><td>Universal                         </td><td>49                                </td><td> 1.7152632                        </td><td>21                                </td><td>$32.59                            </td><td>2010                              </td></tr>\n",
       "\t<tr><td>Knocked Up                        </td><td>Comedy                            </td><td>Universal                         </td><td>83                                </td><td> 6.6364018                        </td><td>91                                </td><td>$219                              </td><td>2007                              </td></tr>\n",
       "\t<tr><td>Just Wright                       </td><td>Comedy                            </td><td>Fox                               </td><td>58                                </td><td> 1.7974167                        </td><td>45                                </td><td>$21.57                            </td><td>2010                              </td></tr>\n",
       "\t<tr><td>It's Complicated                  </td><td>Comedy                            </td><td>Universal                         </td><td>63                                </td><td> 2.6423529                        </td><td>56                                </td><td>$224.60                           </td><td>2009                              </td></tr>\n",
       "\t<tr><td>I Love You Phillip Morris         </td><td>Comedy                            </td><td>Independent                       </td><td>57                                </td><td> 1.3400000                        </td><td>71                                </td><td>$20.10                            </td><td>2010                              </td></tr>\n",
       "\t<tr><td>High School Musical 3: Senior Year</td><td>Comedy                            </td><td>Disney                            </td><td>76                                </td><td>22.9131365                        </td><td>65                                </td><td>$252.04                           </td><td>2008                              </td></tr>\n",
       "\t<tr><td>He's Just Not That Into You       </td><td>Comedy                            </td><td>Warner Bros.                      </td><td>60                                </td><td> 7.1536000                        </td><td>42                                </td><td>$178.84                           </td><td>2009                              </td></tr>\n",
       "\t<tr><td>Good Luck Chuck                   </td><td>Comedy                            </td><td>Lionsgate                         </td><td>61                                </td><td> 2.3676851                        </td><td> 3                                </td><td>$59.19                            </td><td>2007                              </td></tr>\n",
       "\t<tr><td>Going the Distance                </td><td>Comedy                            </td><td>Warner Bros.                      </td><td>56                                </td><td> 1.3140625                        </td><td>53                                </td><td>$42.05                            </td><td>2010                              </td></tr>\n",
       "\t<tr><td>Ghosts of Girlfriends Past        </td><td>Comedy                            </td><td>Warner Bros.                      </td><td>47                                </td><td> 2.0444000                        </td><td>27                                </td><td>$102.22                           </td><td>2009                              </td></tr>\n",
       "\t<tr><td>Four Christmases                  </td><td>Comedy                            </td><td>Warner Bros.                      </td><td>52                                </td><td> 2.0229250                        </td><td>26                                </td><td>$161.83                           </td><td>2008                              </td></tr>\n",
       "\t<tr><td>Enchanted                         </td><td>Comedy                            </td><td>Disney                            </td><td>80                                </td><td> 4.0057371                        </td><td>93                                </td><td>$340.49                           </td><td>2007                              </td></tr>\n",
       "\t<tr><td>Beginners                         </td><td>Comedy                            </td><td>Independent                       </td><td>80                                </td><td> 4.4718750                        </td><td>84                                </td><td>$14.31                            </td><td>2011                              </td></tr>\n",
       "\t<tr><td>27 Dresses                        </td><td>Comedy                            </td><td>Fox                               </td><td>71                                </td><td> 5.3436218                        </td><td>40                                </td><td>$160.31                           </td><td>2008                              </td></tr>\n",
       "</tbody>\n",
       "</table>\n"
      ],
      "text/latex": [
       "\\begin{tabular}{r|llllllll}\n",
       " Film & Genre & Lead Studio & Audience score \\% & Profitability & Rotten Tomatoes \\% & Worldwide Gross & Year\\\\\n",
       "\\hline\n",
       "\t Youth in Revolt                    & Comedy                             & The Weinstein Company              & 52                                 &  1.0900000                         & 68                                 & \\$19.62                           & 2010                              \\\\\n",
       "\t You Will Meet a Tall Dark Stranger & Comedy                             & Independent                        & 35                                 &  1.2118182                         & 43                                 & \\$26.66                           & 2010                              \\\\\n",
       "\t When in Rome                       & Comedy                             & Disney                             & 44                                 &  0.0000000                         & 15                                 & \\$43.04                           & 2010                              \\\\\n",
       "\t What Happens in Vegas              & Comedy                             & Fox                                & 72                                 &  6.2676470                         & 28                                 & \\$219.37                          & 2008                              \\\\\n",
       "\t Valentine's Day                    & Comedy                             & Warner Bros.                       & 54                                 &  4.1840385                         & 17                                 & \\$217.57                          & 2010                              \\\\\n",
       "\t The Ugly Truth                     & Comedy                             & Independent                        & 68                                 &  5.4026316                         & 14                                 & \\$205.30                          & 2009                              \\\\\n",
       "\t The Proposal                       & Comedy                             & Disney                             & 74                                 &  7.8675000                         & 43                                 & \\$314.70                          & 2009                              \\\\\n",
       "\t The Invention of Lying             & Comedy                             & Warner Bros.                       & 47                                 &  1.7513514                         & 56                                 & \\$32.40                           & 2009                              \\\\\n",
       "\t The Heartbreak Kid                 & Comedy                             & Paramount                          & 41                                 &  2.1294442                         & 30                                 & \\$127.77                          & 2007                              \\\\\n",
       "\t The Back-up Plan                   & Comedy                             & CBS                                & 47                                 &  2.2025714                         & 20                                 & \\$77.09                           & 2010                              \\\\\n",
       "\t She's Out of My League             & Comedy                             & Paramount                          & 60                                 &  2.4405000                         & 57                                 & \\$48.81                           & 2010                              \\\\\n",
       "\t Sex and the City Two               & Comedy                             & Warner Bros.                       & 49                                 &  2.8835000                         & 15                                 & \\$288.35                          & 2010                              \\\\\n",
       "\t Sex and the City 2                 & Comedy                             & Warner Bros.                       & 49                                 &  2.8835000                         & 15                                 & \\$288.35                          & 2010                              \\\\\n",
       "\t Sex and the City                   & Comedy                             & Warner Bros.                       & 81                                 &  7.2217958                         & 49                                 & \\$415.25                          & 2008                              \\\\\n",
       "\t Penelope                           & Comedy                             & Summit                             & 74                                 &  1.3827997                         & 52                                 & \\$20.74                           & 2008                              \\\\\n",
       "\t Over Her Dead Body                 & Comedy                             & New Line                           & 47                                 &  2.0710000                         & 15                                 & \\$20.71                           & 2008                              \\\\\n",
       "\t Our Family Wedding                 & Comedy                             & Independent                        & 49                                 &  0.0000000                         & 14                                 & \\$21.37                           & 2010                              \\\\\n",
       "\t No Reservations                    & Comedy                             & Warner Bros.                       & 64                                 &  3.3071804                         & 39                                 & \\$92.60                           & 2007                              \\\\\n",
       "\t Nick and Norah's Infinite Playlist & Comedy                             & Sony                               & 67                                 &  3.3527293                         & 73                                 & \\$33.53                           & 2008                              \\\\\n",
       "\t Miss Pettigrew Lives for a Day     & Comedy                             & Independent                        & 70                                 &  0.2528949                         & 78                                 & \\$15.17                           & 2008                              \\\\\n",
       "\t Marley and Me                      & Comedy                             & Fox                                & 77                                 &  3.7467818                         & 63                                 & \\$206.07                          & 2008                              \\\\\n",
       "\t Mamma Mia!                         & Comedy                             & Universal                          & 76                                 &  9.2344539                         & 53                                 & \\$609.47                          & 2008                              \\\\\n",
       "\t Mamma Mia!                         & Comedy                             & Universal                          & 76                                 &  9.2344539                         & 53                                 & \\$609.47                          & 2008                              \\\\\n",
       "\t Love \\& Other Drugs                 & Comedy                               & Fox                                  & 55                                   &  1.8176667                           & 48                                   & \\$54.53                             & 2010                                \\\\\n",
       "\t Life as We Know It                 & Comedy                             & Independent                        & 62                                 &  2.5305263                         & 28                                 & \\$96.16                           & 2010                              \\\\\n",
       "\t License to Wed                     & Comedy                             & Warner Bros.                       & 55                                 &  1.9802064                         &  8                                 & \\$69.31                           & 2007                              \\\\\n",
       "\t Letters to Juliet                  & Comedy                             & Summit                             & 62                                 &  2.6393333                         & 40                                 & \\$79.18                           & 2010                              \\\\\n",
       "\t Leap Year                          & Comedy                             & Universal                          & 49                                 &  1.7152632                         & 21                                 & \\$32.59                           & 2010                              \\\\\n",
       "\t Knocked Up                         & Comedy                             & Universal                          & 83                                 &  6.6364018                         & 91                                 & \\$219                             & 2007                              \\\\\n",
       "\t Just Wright                        & Comedy                             & Fox                                & 58                                 &  1.7974167                         & 45                                 & \\$21.57                           & 2010                              \\\\\n",
       "\t It's Complicated                   & Comedy                             & Universal                          & 63                                 &  2.6423529                         & 56                                 & \\$224.60                          & 2009                              \\\\\n",
       "\t I Love You Phillip Morris          & Comedy                             & Independent                        & 57                                 &  1.3400000                         & 71                                 & \\$20.10                           & 2010                              \\\\\n",
       "\t High School Musical 3: Senior Year & Comedy                             & Disney                             & 76                                 & 22.9131365                         & 65                                 & \\$252.04                          & 2008                              \\\\\n",
       "\t He's Just Not That Into You        & Comedy                             & Warner Bros.                       & 60                                 &  7.1536000                         & 42                                 & \\$178.84                          & 2009                              \\\\\n",
       "\t Good Luck Chuck                    & Comedy                             & Lionsgate                          & 61                                 &  2.3676851                         &  3                                 & \\$59.19                           & 2007                              \\\\\n",
       "\t Going the Distance                 & Comedy                             & Warner Bros.                       & 56                                 &  1.3140625                         & 53                                 & \\$42.05                           & 2010                              \\\\\n",
       "\t Ghosts of Girlfriends Past         & Comedy                             & Warner Bros.                       & 47                                 &  2.0444000                         & 27                                 & \\$102.22                          & 2009                              \\\\\n",
       "\t Four Christmases                   & Comedy                             & Warner Bros.                       & 52                                 &  2.0229250                         & 26                                 & \\$161.83                          & 2008                              \\\\\n",
       "\t Enchanted                          & Comedy                             & Disney                             & 80                                 &  4.0057371                         & 93                                 & \\$340.49                          & 2007                              \\\\\n",
       "\t Beginners                          & Comedy                             & Independent                        & 80                                 &  4.4718750                         & 84                                 & \\$14.31                           & 2011                              \\\\\n",
       "\t 27 Dresses                         & Comedy                             & Fox                                & 71                                 &  5.3436218                         & 40                                 & \\$160.31                          & 2008                              \\\\\n",
       "\\end{tabular}\n"
      ],
      "text/markdown": [
       "\n",
       "Film | Genre | Lead Studio | Audience score % | Profitability | Rotten Tomatoes % | Worldwide Gross | Year | \n",
       "|---|---|---|---|---|---|---|---|---|---|---|---|---|---|---|---|---|---|---|---|---|---|---|---|---|---|---|---|---|---|---|---|---|---|---|---|---|---|---|---|---|\n",
       "| Youth in Revolt                    | Comedy                             | The Weinstein Company              | 52                                 |  1.0900000                         | 68                                 | $19.62                             | 2010                               | \n",
       "| You Will Meet a Tall Dark Stranger | Comedy                             | Independent                        | 35                                 |  1.2118182                         | 43                                 | $26.66                             | 2010                               | \n",
       "| When in Rome                       | Comedy                             | Disney                             | 44                                 |  0.0000000                         | 15                                 | $43.04                             | 2010                               | \n",
       "| What Happens in Vegas              | Comedy                             | Fox                                | 72                                 |  6.2676470                         | 28                                 | $219.37                            | 2008                               | \n",
       "| Valentine's Day                    | Comedy                             | Warner Bros.                       | 54                                 |  4.1840385                         | 17                                 | $217.57                            | 2010                               | \n",
       "| The Ugly Truth                     | Comedy                             | Independent                        | 68                                 |  5.4026316                         | 14                                 | $205.30                            | 2009                               | \n",
       "| The Proposal                       | Comedy                             | Disney                             | 74                                 |  7.8675000                         | 43                                 | $314.70                            | 2009                               | \n",
       "| The Invention of Lying             | Comedy                             | Warner Bros.                       | 47                                 |  1.7513514                         | 56                                 | $32.40                             | 2009                               | \n",
       "| The Heartbreak Kid                 | Comedy                             | Paramount                          | 41                                 |  2.1294442                         | 30                                 | $127.77                            | 2007                               | \n",
       "| The Back-up Plan                   | Comedy                             | CBS                                | 47                                 |  2.2025714                         | 20                                 | $77.09                             | 2010                               | \n",
       "| She's Out of My League             | Comedy                             | Paramount                          | 60                                 |  2.4405000                         | 57                                 | $48.81                             | 2010                               | \n",
       "| Sex and the City Two               | Comedy                             | Warner Bros.                       | 49                                 |  2.8835000                         | 15                                 | $288.35                            | 2010                               | \n",
       "| Sex and the City 2                 | Comedy                             | Warner Bros.                       | 49                                 |  2.8835000                         | 15                                 | $288.35                            | 2010                               | \n",
       "| Sex and the City                   | Comedy                             | Warner Bros.                       | 81                                 |  7.2217958                         | 49                                 | $415.25                            | 2008                               | \n",
       "| Penelope                           | Comedy                             | Summit                             | 74                                 |  1.3827997                         | 52                                 | $20.74                             | 2008                               | \n",
       "| Over Her Dead Body                 | Comedy                             | New Line                           | 47                                 |  2.0710000                         | 15                                 | $20.71                             | 2008                               | \n",
       "| Our Family Wedding                 | Comedy                             | Independent                        | 49                                 |  0.0000000                         | 14                                 | $21.37                             | 2010                               | \n",
       "| No Reservations                    | Comedy                             | Warner Bros.                       | 64                                 |  3.3071804                         | 39                                 | $92.60                             | 2007                               | \n",
       "| Nick and Norah's Infinite Playlist | Comedy                             | Sony                               | 67                                 |  3.3527293                         | 73                                 | $33.53                             | 2008                               | \n",
       "| Miss Pettigrew Lives for a Day     | Comedy                             | Independent                        | 70                                 |  0.2528949                         | 78                                 | $15.17                             | 2008                               | \n",
       "| Marley and Me                      | Comedy                             | Fox                                | 77                                 |  3.7467818                         | 63                                 | $206.07                            | 2008                               | \n",
       "| Mamma Mia!                         | Comedy                             | Universal                          | 76                                 |  9.2344539                         | 53                                 | $609.47                            | 2008                               | \n",
       "| Mamma Mia!                         | Comedy                             | Universal                          | 76                                 |  9.2344539                         | 53                                 | $609.47                            | 2008                               | \n",
       "| Love & Other Drugs                 | Comedy                             | Fox                                | 55                                 |  1.8176667                         | 48                                 | $54.53                             | 2010                               | \n",
       "| Life as We Know It                 | Comedy                             | Independent                        | 62                                 |  2.5305263                         | 28                                 | $96.16                             | 2010                               | \n",
       "| License to Wed                     | Comedy                             | Warner Bros.                       | 55                                 |  1.9802064                         |  8                                 | $69.31                             | 2007                               | \n",
       "| Letters to Juliet                  | Comedy                             | Summit                             | 62                                 |  2.6393333                         | 40                                 | $79.18                             | 2010                               | \n",
       "| Leap Year                          | Comedy                             | Universal                          | 49                                 |  1.7152632                         | 21                                 | $32.59                             | 2010                               | \n",
       "| Knocked Up                         | Comedy                             | Universal                          | 83                                 |  6.6364018                         | 91                                 | $219                               | 2007                               | \n",
       "| Just Wright                        | Comedy                             | Fox                                | 58                                 |  1.7974167                         | 45                                 | $21.57                             | 2010                               | \n",
       "| It's Complicated                   | Comedy                             | Universal                          | 63                                 |  2.6423529                         | 56                                 | $224.60                            | 2009                               | \n",
       "| I Love You Phillip Morris          | Comedy                             | Independent                        | 57                                 |  1.3400000                         | 71                                 | $20.10                             | 2010                               | \n",
       "| High School Musical 3: Senior Year | Comedy                             | Disney                             | 76                                 | 22.9131365                         | 65                                 | $252.04                            | 2008                               | \n",
       "| He's Just Not That Into You        | Comedy                             | Warner Bros.                       | 60                                 |  7.1536000                         | 42                                 | $178.84                            | 2009                               | \n",
       "| Good Luck Chuck                    | Comedy                             | Lionsgate                          | 61                                 |  2.3676851                         |  3                                 | $59.19                             | 2007                               | \n",
       "| Going the Distance                 | Comedy                             | Warner Bros.                       | 56                                 |  1.3140625                         | 53                                 | $42.05                             | 2010                               | \n",
       "| Ghosts of Girlfriends Past         | Comedy                             | Warner Bros.                       | 47                                 |  2.0444000                         | 27                                 | $102.22                            | 2009                               | \n",
       "| Four Christmases                   | Comedy                             | Warner Bros.                       | 52                                 |  2.0229250                         | 26                                 | $161.83                            | 2008                               | \n",
       "| Enchanted                          | Comedy                             | Disney                             | 80                                 |  4.0057371                         | 93                                 | $340.49                            | 2007                               | \n",
       "| Beginners                          | Comedy                             | Independent                        | 80                                 |  4.4718750                         | 84                                 | $14.31                             | 2011                               | \n",
       "| 27 Dresses                         | Comedy                             | Fox                                | 71                                 |  5.3436218                         | 40                                 | $160.31                            | 2008                               | \n",
       "\n",
       "\n"
      ],
      "text/plain": [
       "   Film                               Genre  Lead Studio          \n",
       "1  Youth in Revolt                    Comedy The Weinstein Company\n",
       "2  You Will Meet a Tall Dark Stranger Comedy Independent          \n",
       "3  When in Rome                       Comedy Disney               \n",
       "4  What Happens in Vegas              Comedy Fox                  \n",
       "5  Valentine's Day                    Comedy Warner Bros.         \n",
       "6  The Ugly Truth                     Comedy Independent          \n",
       "7  The Proposal                       Comedy Disney               \n",
       "8  The Invention of Lying             Comedy Warner Bros.         \n",
       "9  The Heartbreak Kid                 Comedy Paramount            \n",
       "10 The Back-up Plan                   Comedy CBS                  \n",
       "11 She's Out of My League             Comedy Paramount            \n",
       "12 Sex and the City Two               Comedy Warner Bros.         \n",
       "13 Sex and the City 2                 Comedy Warner Bros.         \n",
       "14 Sex and the City                   Comedy Warner Bros.         \n",
       "15 Penelope                           Comedy Summit               \n",
       "16 Over Her Dead Body                 Comedy New Line             \n",
       "17 Our Family Wedding                 Comedy Independent          \n",
       "18 No Reservations                    Comedy Warner Bros.         \n",
       "19 Nick and Norah's Infinite Playlist Comedy Sony                 \n",
       "20 Miss Pettigrew Lives for a Day     Comedy Independent          \n",
       "21 Marley and Me                      Comedy Fox                  \n",
       "22 Mamma Mia!                         Comedy Universal            \n",
       "23 Mamma Mia!                         Comedy Universal            \n",
       "24 Love & Other Drugs                 Comedy Fox                  \n",
       "25 Life as We Know It                 Comedy Independent          \n",
       "26 License to Wed                     Comedy Warner Bros.         \n",
       "27 Letters to Juliet                  Comedy Summit               \n",
       "28 Leap Year                          Comedy Universal            \n",
       "29 Knocked Up                         Comedy Universal            \n",
       "30 Just Wright                        Comedy Fox                  \n",
       "31 It's Complicated                   Comedy Universal            \n",
       "32 I Love You Phillip Morris          Comedy Independent          \n",
       "33 High School Musical 3: Senior Year Comedy Disney               \n",
       "34 He's Just Not That Into You        Comedy Warner Bros.         \n",
       "35 Good Luck Chuck                    Comedy Lionsgate            \n",
       "36 Going the Distance                 Comedy Warner Bros.         \n",
       "37 Ghosts of Girlfriends Past         Comedy Warner Bros.         \n",
       "38 Four Christmases                   Comedy Warner Bros.         \n",
       "39 Enchanted                          Comedy Disney               \n",
       "40 Beginners                          Comedy Independent          \n",
       "41 27 Dresses                         Comedy Fox                  \n",
       "   Audience score % Profitability Rotten Tomatoes % Worldwide Gross Year\n",
       "1  52                1.0900000    68                $19.62          2010\n",
       "2  35                1.2118182    43                $26.66          2010\n",
       "3  44                0.0000000    15                $43.04          2010\n",
       "4  72                6.2676470    28                $219.37         2008\n",
       "5  54                4.1840385    17                $217.57         2010\n",
       "6  68                5.4026316    14                $205.30         2009\n",
       "7  74                7.8675000    43                $314.70         2009\n",
       "8  47                1.7513514    56                $32.40          2009\n",
       "9  41                2.1294442    30                $127.77         2007\n",
       "10 47                2.2025714    20                $77.09          2010\n",
       "11 60                2.4405000    57                $48.81          2010\n",
       "12 49                2.8835000    15                $288.35         2010\n",
       "13 49                2.8835000    15                $288.35         2010\n",
       "14 81                7.2217958    49                $415.25         2008\n",
       "15 74                1.3827997    52                $20.74          2008\n",
       "16 47                2.0710000    15                $20.71          2008\n",
       "17 49                0.0000000    14                $21.37          2010\n",
       "18 64                3.3071804    39                $92.60          2007\n",
       "19 67                3.3527293    73                $33.53          2008\n",
       "20 70                0.2528949    78                $15.17          2008\n",
       "21 77                3.7467818    63                $206.07         2008\n",
       "22 76                9.2344539    53                $609.47         2008\n",
       "23 76                9.2344539    53                $609.47         2008\n",
       "24 55                1.8176667    48                $54.53          2010\n",
       "25 62                2.5305263    28                $96.16          2010\n",
       "26 55                1.9802064     8                $69.31          2007\n",
       "27 62                2.6393333    40                $79.18          2010\n",
       "28 49                1.7152632    21                $32.59          2010\n",
       "29 83                6.6364018    91                $219            2007\n",
       "30 58                1.7974167    45                $21.57          2010\n",
       "31 63                2.6423529    56                $224.60         2009\n",
       "32 57                1.3400000    71                $20.10          2010\n",
       "33 76               22.9131365    65                $252.04         2008\n",
       "34 60                7.1536000    42                $178.84         2009\n",
       "35 61                2.3676851     3                $59.19          2007\n",
       "36 56                1.3140625    53                $42.05          2010\n",
       "37 47                2.0444000    27                $102.22         2009\n",
       "38 52                2.0229250    26                $161.83         2008\n",
       "39 80                4.0057371    93                $340.49         2007\n",
       "40 80                4.4718750    84                $14.31          2011\n",
       "41 71                5.3436218    40                $160.31         2008"
      ]
     },
     "metadata": {},
     "output_type": "display_data"
    }
   ],
   "source": [
    "comedyGenre <- movies %>%\n",
    "filter(Genre == 'Comedy')\n",
    "\n",
    "comedyGenre"
   ]
  },
  {
   "cell_type": "code",
   "execution_count": 5,
   "metadata": {
    "collapsed": false,
    "deletable": true,
    "editable": true
   },
   "outputs": [
    {
     "data": {
      "text/html": [
       "<table>\n",
       "<thead><tr><th scope=col>Film</th><th scope=col>Genre</th><th scope=col>Lead Studio</th><th scope=col>Audience score %</th><th scope=col>Profitability</th><th scope=col>Rotten Tomatoes %</th><th scope=col>Worldwide Gross</th><th scope=col>Year</th></tr></thead>\n",
       "<tbody>\n",
       "\t<tr><td>27 Dresses                        </td><td>Comedy                            </td><td>Fox                               </td><td>71                                </td><td> 5.3436218                        </td><td>40                                </td><td>$160.31                           </td><td>2008                              </td></tr>\n",
       "\t<tr><td>(500) Days of Summer              </td><td>comedy                            </td><td>Fox                               </td><td>81                                </td><td> 8.0960000                        </td><td>87                                </td><td>$60.72                            </td><td>2009                              </td></tr>\n",
       "\t<tr><td>Across the Universe               </td><td>romance                           </td><td>Independent                       </td><td>84                                </td><td> 0.6526032                        </td><td>54                                </td><td>$29.37                            </td><td>2007                              </td></tr>\n",
       "\t<tr><td>A Dangerous Method                </td><td>Drama                             </td><td>Independent                       </td><td>89                                </td><td> 0.4486447                        </td><td>79                                </td><td>$8.97                             </td><td>2011                              </td></tr>\n",
       "\t<tr><td>A Serious Man                     </td><td>Drama                             </td><td>Universal                         </td><td>64                                </td><td> 4.3828571                        </td><td>89                                </td><td>$30.68                            </td><td>2009                              </td></tr>\n",
       "\t<tr><td>Beginners                         </td><td>Comedy                            </td><td>Independent                       </td><td>80                                </td><td> 4.4718750                        </td><td>84                                </td><td>$14.31                            </td><td>2011                              </td></tr>\n",
       "\t<tr><td>Dear John                         </td><td>Drama                             </td><td>Sony                              </td><td>66                                </td><td> 4.5988000                        </td><td>29                                </td><td>$114.97                           </td><td>2010                              </td></tr>\n",
       "\t<tr><td>Enchanted                         </td><td>Comedy                            </td><td>Disney                            </td><td>80                                </td><td> 4.0057371                        </td><td>93                                </td><td>$340.49                           </td><td>2007                              </td></tr>\n",
       "\t<tr><td>Fireproof                         </td><td>Drama                             </td><td>Independent                       </td><td>51                                </td><td>66.9340000                        </td><td>40                                </td><td>$33.47                            </td><td>2008                              </td></tr>\n",
       "\t<tr><td>Four Christmases                  </td><td>Comedy                            </td><td>Warner Bros.                      </td><td>52                                </td><td> 2.0229250                        </td><td>26                                </td><td>$161.83                           </td><td>2008                              </td></tr>\n",
       "\t<tr><td>Ghosts of Girlfriends Past        </td><td>Comedy                            </td><td>Warner Bros.                      </td><td>47                                </td><td> 2.0444000                        </td><td>27                                </td><td>$102.22                           </td><td>2009                              </td></tr>\n",
       "\t<tr><td>Gnomeo and Juliet                 </td><td>Animation                         </td><td>Disney                            </td><td>52                                </td><td> 5.3879722                        </td><td>56                                </td><td>$193.97                           </td><td>2011                              </td></tr>\n",
       "\t<tr><td>Gnomeo and Juliet                 </td><td>Animation                         </td><td>Disney                            </td><td>52                                </td><td> 5.3879722                        </td><td>56                                </td><td>$193.97                           </td><td>2011                              </td></tr>\n",
       "\t<tr><td>Going the Distance                </td><td>Comedy                            </td><td>Warner Bros.                      </td><td>56                                </td><td> 1.3140625                        </td><td>53                                </td><td>$42.05                            </td><td>2010                              </td></tr>\n",
       "\t<tr><td>Good Luck Chuck                   </td><td>Comedy                            </td><td>Lionsgate                         </td><td>61                                </td><td> 2.3676851                        </td><td> 3                                </td><td>$59.19                            </td><td>2007                              </td></tr>\n",
       "\t<tr><td>He's Just Not That Into You       </td><td>Comedy                            </td><td>Warner Bros.                      </td><td>60                                </td><td> 7.1536000                        </td><td>42                                </td><td>$178.84                           </td><td>2009                              </td></tr>\n",
       "\t<tr><td>High School Musical 3: Senior Year</td><td>Comedy                            </td><td>Disney                            </td><td>76                                </td><td>22.9131365                        </td><td>65                                </td><td>$252.04                           </td><td>2008                              </td></tr>\n",
       "\t<tr><td>I Love You Phillip Morris         </td><td>Comedy                            </td><td>Independent                       </td><td>57                                </td><td> 1.3400000                        </td><td>71                                </td><td>$20.10                            </td><td>2010                              </td></tr>\n",
       "\t<tr><td>It's Complicated                  </td><td>Comedy                            </td><td>Universal                         </td><td>63                                </td><td> 2.6423529                        </td><td>56                                </td><td>$224.60                           </td><td>2009                              </td></tr>\n",
       "\t<tr><td>Jane Eyre                         </td><td>Romance                           </td><td>Universal                         </td><td>77                                </td><td> 0.0000000                        </td><td>85                                </td><td>$30.15                            </td><td>2011                              </td></tr>\n",
       "\t<tr><td>Just Wright                       </td><td>Comedy                            </td><td>Fox                               </td><td>58                                </td><td> 1.7974167                        </td><td>45                                </td><td>$21.57                            </td><td>2010                              </td></tr>\n",
       "\t<tr><td>Killers                           </td><td>Action                            </td><td>Lionsgate                         </td><td>45                                </td><td> 1.2453333                        </td><td>11                                </td><td>$93.40                            </td><td>2010                              </td></tr>\n",
       "\t<tr><td>Knocked Up                        </td><td>Comedy                            </td><td>Universal                         </td><td>83                                </td><td> 6.6364018                        </td><td>91                                </td><td>$219                              </td><td>2007                              </td></tr>\n",
       "\t<tr><td>Leap Year                         </td><td>Comedy                            </td><td>Universal                         </td><td>49                                </td><td> 1.7152632                        </td><td>21                                </td><td>$32.59                            </td><td>2010                              </td></tr>\n",
       "\t<tr><td>Letters to Juliet                 </td><td>Comedy                            </td><td>Summit                            </td><td>62                                </td><td> 2.6393333                        </td><td>40                                </td><td>$79.18                            </td><td>2010                              </td></tr>\n",
       "\t<tr><td>License to Wed                    </td><td>Comedy                            </td><td>Warner Bros.                      </td><td>55                                </td><td> 1.9802064                        </td><td> 8                                </td><td>$69.31                            </td><td>2007                              </td></tr>\n",
       "\t<tr><td>Life as We Know It                </td><td>Comedy                            </td><td>Independent                       </td><td>62                                </td><td> 2.5305263                        </td><td>28                                </td><td>$96.16                            </td><td>2010                              </td></tr>\n",
       "\t<tr><td>Love Happens                      </td><td>Drama                             </td><td>Universal                         </td><td>40                                </td><td> 2.0044444                        </td><td>18                                </td><td>$36.08                            </td><td>2009                              </td></tr>\n",
       "\t<tr><td><span style=white-space:pre-wrap>Love &amp; Other Drugs                </span></td><td><span style=white-space:pre-wrap>Comedy   </span>                             </td><td><span style=white-space:pre-wrap>Fox         </span>                          </td><td>55                                                                            </td><td> 1.8176667                                                                    </td><td>48                                                                            </td><td>$54.53                                                                        </td><td>2010                                                                          </td></tr>\n",
       "\t<tr><td>Made of Honor                     </td><td>Comdy                             </td><td>Sony                              </td><td>61                                </td><td> 2.6490683                        </td><td>13                                </td><td>$105.96                           </td><td>2008                              </td></tr>\n",
       "\t<tr><td>...</td><td>...</td><td>...</td><td>...</td><td>...</td><td>...</td><td>...</td><td>...</td></tr>\n",
       "\t<tr><td>Rachel Getting Married             </td><td>Drama                              </td><td>Independent                        </td><td>61                                 </td><td> 1.384167                          </td><td>85                                 </td><td>$16.61                             </td><td>2008                               </td></tr>\n",
       "\t<tr><td>Remember Me                        </td><td>Drama                              </td><td>Summit                             </td><td>70                                 </td><td> 3.491250                          </td><td>28                                 </td><td>$55.86                             </td><td>2010                               </td></tr>\n",
       "\t<tr><td>Sex and the City                   </td><td>Comedy                             </td><td>Warner Bros.                       </td><td>81                                 </td><td> 7.221796                          </td><td>49                                 </td><td>$415.25                            </td><td>2008                               </td></tr>\n",
       "\t<tr><td>Sex and the City 2                 </td><td>Comedy                             </td><td>Warner Bros.                       </td><td>49                                 </td><td> 2.883500                          </td><td>15                                 </td><td>$288.35                            </td><td>2010                               </td></tr>\n",
       "\t<tr><td>Sex and the City Two               </td><td>Comedy                             </td><td>Warner Bros.                       </td><td>49                                 </td><td> 2.883500                          </td><td>15                                 </td><td>$288.35                            </td><td>2010                               </td></tr>\n",
       "\t<tr><td>She's Out of My League             </td><td>Comedy                             </td><td>Paramount                          </td><td>60                                 </td><td> 2.440500                          </td><td>57                                 </td><td>$48.81                             </td><td>2010                               </td></tr>\n",
       "\t<tr><td>Something Borrowed                 </td><td>Romance                            </td><td>Independent                        </td><td>48                                 </td><td> 1.719514                          </td><td>15                                 </td><td>$60.18                             </td><td>2011                               </td></tr>\n",
       "\t<tr><td>Tangled                            </td><td>Animation                          </td><td>Disney                             </td><td>88                                 </td><td> 1.365692                          </td><td>89                                 </td><td>$355.01                            </td><td>2010                               </td></tr>\n",
       "\t<tr><td>The Back-up Plan                   </td><td>Comedy                             </td><td>CBS                                </td><td>47                                 </td><td> 2.202571                          </td><td>20                                 </td><td>$77.09                             </td><td>2010                               </td></tr>\n",
       "\t<tr><td>The Curious Case of Benjamin Button</td><td>Fantasy                            </td><td>Warner Bros.                       </td><td>81                                 </td><td> 1.783944                          </td><td>73                                 </td><td>$285.43                            </td><td>2008                               </td></tr>\n",
       "\t<tr><td>The Duchess                        </td><td>Drama                              </td><td>Paramount                          </td><td>68                                 </td><td> 3.207850                          </td><td>60                                 </td><td>$43.31                             </td><td>2008                               </td></tr>\n",
       "\t<tr><td>The Heartbreak Kid                 </td><td>Comedy                             </td><td>Paramount                          </td><td>41                                 </td><td> 2.129444                          </td><td>30                                 </td><td>$127.77                            </td><td>2007                               </td></tr>\n",
       "\t<tr><td>The Invention of Lying             </td><td>Comedy                             </td><td>Warner Bros.                       </td><td>47                                 </td><td> 1.751351                          </td><td>56                                 </td><td>$32.40                             </td><td>2009                               </td></tr>\n",
       "\t<tr><td>The Proposal                       </td><td>Comedy                             </td><td>Disney                             </td><td>74                                 </td><td> 7.867500                          </td><td>43                                 </td><td>$314.70                            </td><td>2009                               </td></tr>\n",
       "\t<tr><td>The Time Traveler's Wife           </td><td>Drama                              </td><td>Paramount                          </td><td>65                                 </td><td> 2.598205                          </td><td>38                                 </td><td>$101.33                            </td><td>2009                               </td></tr>\n",
       "\t<tr><td>The Twilight Saga: New Moon        </td><td>Drama                              </td><td>Summit                             </td><td>78                                 </td><td>14.196400                          </td><td>27                                 </td><td>$709.82                            </td><td>2009                               </td></tr>\n",
       "\t<tr><td>The Ugly Truth                     </td><td>Comedy                             </td><td>Independent                        </td><td>68                                 </td><td> 5.402632                          </td><td>14                                 </td><td>$205.30                            </td><td>2009                               </td></tr>\n",
       "\t<tr><td>Twilight                           </td><td>Romance                            </td><td>Summit                             </td><td>82                                 </td><td>10.180027                          </td><td>49                                 </td><td>$376.66                            </td><td>2008                               </td></tr>\n",
       "\t<tr><td>Twilight: Breaking Dawn            </td><td>Romance                            </td><td>Independent                        </td><td>68                                 </td><td> 6.383364                          </td><td>26                                 </td><td>$702.17                            </td><td>2011                               </td></tr>\n",
       "\t<tr><td>Tyler Perry's Why Did I get Married</td><td>Romance                            </td><td>Independent                        </td><td>47                                 </td><td> 3.724192                          </td><td>46                                 </td><td>$55.86                             </td><td>2007                               </td></tr>\n",
       "\t<tr><td>Valentine's Day                    </td><td>Comedy                             </td><td>Warner Bros.                       </td><td>54                                 </td><td> 4.184038                          </td><td>17                                 </td><td>$217.57                            </td><td>2010                               </td></tr>\n",
       "\t<tr><td>Waiting For Forever                </td><td>Romance                            </td><td>Independent                        </td><td>53                                 </td><td> 0.005000                          </td><td> 6                                 </td><td>$0.03                              </td><td>2011                               </td></tr>\n",
       "\t<tr><td>Waitress                           </td><td>Romance                            </td><td>Independent                        </td><td>67                                 </td><td>11.089742                          </td><td>89                                 </td><td>$22.18                             </td><td>2007                               </td></tr>\n",
       "\t<tr><td>WALL-E                             </td><td>Animation                          </td><td>Disney                             </td><td>89                                 </td><td> 2.896019                          </td><td>96                                 </td><td>$521.28                            </td><td>2008                               </td></tr>\n",
       "\t<tr><td>Water For Elephants                </td><td>Drama                              </td><td>20th Century Fox                   </td><td>72                                 </td><td> 3.081421                          </td><td>60                                 </td><td>$117.09                            </td><td>2011                               </td></tr>\n",
       "\t<tr><td>What Happens in Vegas              </td><td>Comedy                             </td><td>Fox                                </td><td>72                                 </td><td> 6.267647                          </td><td>28                                 </td><td>$219.37                            </td><td>2008                               </td></tr>\n",
       "\t<tr><td>When in Rome                       </td><td>Comedy                             </td><td>Disney                             </td><td>44                                 </td><td> 0.000000                          </td><td>15                                 </td><td>$43.04                             </td><td>2010                               </td></tr>\n",
       "\t<tr><td>Youth in Revolt                    </td><td>Comedy                             </td><td>The Weinstein Company              </td><td>52                                 </td><td> 1.090000                          </td><td>68                                 </td><td>$19.62                             </td><td>2010                               </td></tr>\n",
       "\t<tr><td>You Will Meet a Tall Dark Stranger </td><td>Comedy                             </td><td>Independent                        </td><td>35                                 </td><td> 1.211818                          </td><td>43                                 </td><td>$26.66                             </td><td>2010                               </td></tr>\n",
       "\t<tr><td>Zack and Miri Make a Porno         </td><td>Romance                            </td><td>The Weinstein Company              </td><td>70                                 </td><td> 1.747542                          </td><td>64                                 </td><td>$41.94                             </td><td>2008                               </td></tr>\n",
       "</tbody>\n",
       "</table>\n"
      ],
      "text/latex": [
       "\\begin{tabular}{r|llllllll}\n",
       " Film & Genre & Lead Studio & Audience score \\% & Profitability & Rotten Tomatoes \\% & Worldwide Gross & Year\\\\\n",
       "\\hline\n",
       "\t 27 Dresses                         & Comedy                             & Fox                                & 71                                 &  5.3436218                         & 40                                 & \\$160.31                          & 2008                              \\\\\n",
       "\t (500) Days of Summer               & comedy                             & Fox                                & 81                                 &  8.0960000                         & 87                                 & \\$60.72                           & 2009                              \\\\\n",
       "\t Across the Universe                & romance                            & Independent                        & 84                                 &  0.6526032                         & 54                                 & \\$29.37                           & 2007                              \\\\\n",
       "\t A Dangerous Method                 & Drama                              & Independent                        & 89                                 &  0.4486447                         & 79                                 & \\$8.97                            & 2011                              \\\\\n",
       "\t A Serious Man                      & Drama                              & Universal                          & 64                                 &  4.3828571                         & 89                                 & \\$30.68                           & 2009                              \\\\\n",
       "\t Beginners                          & Comedy                             & Independent                        & 80                                 &  4.4718750                         & 84                                 & \\$14.31                           & 2011                              \\\\\n",
       "\t Dear John                          & Drama                              & Sony                               & 66                                 &  4.5988000                         & 29                                 & \\$114.97                          & 2010                              \\\\\n",
       "\t Enchanted                          & Comedy                             & Disney                             & 80                                 &  4.0057371                         & 93                                 & \\$340.49                          & 2007                              \\\\\n",
       "\t Fireproof                          & Drama                              & Independent                        & 51                                 & 66.9340000                         & 40                                 & \\$33.47                           & 2008                              \\\\\n",
       "\t Four Christmases                   & Comedy                             & Warner Bros.                       & 52                                 &  2.0229250                         & 26                                 & \\$161.83                          & 2008                              \\\\\n",
       "\t Ghosts of Girlfriends Past         & Comedy                             & Warner Bros.                       & 47                                 &  2.0444000                         & 27                                 & \\$102.22                          & 2009                              \\\\\n",
       "\t Gnomeo and Juliet                  & Animation                          & Disney                             & 52                                 &  5.3879722                         & 56                                 & \\$193.97                          & 2011                              \\\\\n",
       "\t Gnomeo and Juliet                  & Animation                          & Disney                             & 52                                 &  5.3879722                         & 56                                 & \\$193.97                          & 2011                              \\\\\n",
       "\t Going the Distance                 & Comedy                             & Warner Bros.                       & 56                                 &  1.3140625                         & 53                                 & \\$42.05                           & 2010                              \\\\\n",
       "\t Good Luck Chuck                    & Comedy                             & Lionsgate                          & 61                                 &  2.3676851                         &  3                                 & \\$59.19                           & 2007                              \\\\\n",
       "\t He's Just Not That Into You        & Comedy                             & Warner Bros.                       & 60                                 &  7.1536000                         & 42                                 & \\$178.84                          & 2009                              \\\\\n",
       "\t High School Musical 3: Senior Year & Comedy                             & Disney                             & 76                                 & 22.9131365                         & 65                                 & \\$252.04                          & 2008                              \\\\\n",
       "\t I Love You Phillip Morris          & Comedy                             & Independent                        & 57                                 &  1.3400000                         & 71                                 & \\$20.10                           & 2010                              \\\\\n",
       "\t It's Complicated                   & Comedy                             & Universal                          & 63                                 &  2.6423529                         & 56                                 & \\$224.60                          & 2009                              \\\\\n",
       "\t Jane Eyre                          & Romance                            & Universal                          & 77                                 &  0.0000000                         & 85                                 & \\$30.15                           & 2011                              \\\\\n",
       "\t Just Wright                        & Comedy                             & Fox                                & 58                                 &  1.7974167                         & 45                                 & \\$21.57                           & 2010                              \\\\\n",
       "\t Killers                            & Action                             & Lionsgate                          & 45                                 &  1.2453333                         & 11                                 & \\$93.40                           & 2010                              \\\\\n",
       "\t Knocked Up                         & Comedy                             & Universal                          & 83                                 &  6.6364018                         & 91                                 & \\$219                             & 2007                              \\\\\n",
       "\t Leap Year                          & Comedy                             & Universal                          & 49                                 &  1.7152632                         & 21                                 & \\$32.59                           & 2010                              \\\\\n",
       "\t Letters to Juliet                  & Comedy                             & Summit                             & 62                                 &  2.6393333                         & 40                                 & \\$79.18                           & 2010                              \\\\\n",
       "\t License to Wed                     & Comedy                             & Warner Bros.                       & 55                                 &  1.9802064                         &  8                                 & \\$69.31                           & 2007                              \\\\\n",
       "\t Life as We Know It                 & Comedy                             & Independent                        & 62                                 &  2.5305263                         & 28                                 & \\$96.16                           & 2010                              \\\\\n",
       "\t Love Happens                       & Drama                              & Universal                          & 40                                 &  2.0044444                         & 18                                 & \\$36.08                           & 2009                              \\\\\n",
       "\t Love \\& Other Drugs                 & Comedy                               & Fox                                  & 55                                   &  1.8176667                           & 48                                   & \\$54.53                             & 2010                                \\\\\n",
       "\t Made of Honor                      & Comdy                              & Sony                               & 61                                 &  2.6490683                         & 13                                 & \\$105.96                          & 2008                              \\\\\n",
       "\t ... & ... & ... & ... & ... & ... & ... & ...\\\\\n",
       "\t Rachel Getting Married              & Drama                               & Independent                         & 61                                  &  1.384167                           & 85                                  & \\$16.61                            & 2008                               \\\\\n",
       "\t Remember Me                         & Drama                               & Summit                              & 70                                  &  3.491250                           & 28                                  & \\$55.86                            & 2010                               \\\\\n",
       "\t Sex and the City                    & Comedy                              & Warner Bros.                        & 81                                  &  7.221796                           & 49                                  & \\$415.25                           & 2008                               \\\\\n",
       "\t Sex and the City 2                  & Comedy                              & Warner Bros.                        & 49                                  &  2.883500                           & 15                                  & \\$288.35                           & 2010                               \\\\\n",
       "\t Sex and the City Two                & Comedy                              & Warner Bros.                        & 49                                  &  2.883500                           & 15                                  & \\$288.35                           & 2010                               \\\\\n",
       "\t She's Out of My League              & Comedy                              & Paramount                           & 60                                  &  2.440500                           & 57                                  & \\$48.81                            & 2010                               \\\\\n",
       "\t Something Borrowed                  & Romance                             & Independent                         & 48                                  &  1.719514                           & 15                                  & \\$60.18                            & 2011                               \\\\\n",
       "\t Tangled                             & Animation                           & Disney                              & 88                                  &  1.365692                           & 89                                  & \\$355.01                           & 2010                               \\\\\n",
       "\t The Back-up Plan                    & Comedy                              & CBS                                 & 47                                  &  2.202571                           & 20                                  & \\$77.09                            & 2010                               \\\\\n",
       "\t The Curious Case of Benjamin Button & Fantasy                             & Warner Bros.                        & 81                                  &  1.783944                           & 73                                  & \\$285.43                           & 2008                               \\\\\n",
       "\t The Duchess                         & Drama                               & Paramount                           & 68                                  &  3.207850                           & 60                                  & \\$43.31                            & 2008                               \\\\\n",
       "\t The Heartbreak Kid                  & Comedy                              & Paramount                           & 41                                  &  2.129444                           & 30                                  & \\$127.77                           & 2007                               \\\\\n",
       "\t The Invention of Lying              & Comedy                              & Warner Bros.                        & 47                                  &  1.751351                           & 56                                  & \\$32.40                            & 2009                               \\\\\n",
       "\t The Proposal                        & Comedy                              & Disney                              & 74                                  &  7.867500                           & 43                                  & \\$314.70                           & 2009                               \\\\\n",
       "\t The Time Traveler's Wife            & Drama                               & Paramount                           & 65                                  &  2.598205                           & 38                                  & \\$101.33                           & 2009                               \\\\\n",
       "\t The Twilight Saga: New Moon         & Drama                               & Summit                              & 78                                  & 14.196400                           & 27                                  & \\$709.82                           & 2009                               \\\\\n",
       "\t The Ugly Truth                      & Comedy                              & Independent                         & 68                                  &  5.402632                           & 14                                  & \\$205.30                           & 2009                               \\\\\n",
       "\t Twilight                            & Romance                             & Summit                              & 82                                  & 10.180027                           & 49                                  & \\$376.66                           & 2008                               \\\\\n",
       "\t Twilight: Breaking Dawn             & Romance                             & Independent                         & 68                                  &  6.383364                           & 26                                  & \\$702.17                           & 2011                               \\\\\n",
       "\t Tyler Perry's Why Did I get Married & Romance                             & Independent                         & 47                                  &  3.724192                           & 46                                  & \\$55.86                            & 2007                               \\\\\n",
       "\t Valentine's Day                     & Comedy                              & Warner Bros.                        & 54                                  &  4.184038                           & 17                                  & \\$217.57                           & 2010                               \\\\\n",
       "\t Waiting For Forever                 & Romance                             & Independent                         & 53                                  &  0.005000                           &  6                                  & \\$0.03                             & 2011                               \\\\\n",
       "\t Waitress                            & Romance                             & Independent                         & 67                                  & 11.089742                           & 89                                  & \\$22.18                            & 2007                               \\\\\n",
       "\t WALL-E                              & Animation                           & Disney                              & 89                                  &  2.896019                           & 96                                  & \\$521.28                           & 2008                               \\\\\n",
       "\t Water For Elephants                 & Drama                               & 20th Century Fox                    & 72                                  &  3.081421                           & 60                                  & \\$117.09                           & 2011                               \\\\\n",
       "\t What Happens in Vegas               & Comedy                              & Fox                                 & 72                                  &  6.267647                           & 28                                  & \\$219.37                           & 2008                               \\\\\n",
       "\t When in Rome                        & Comedy                              & Disney                              & 44                                  &  0.000000                           & 15                                  & \\$43.04                            & 2010                               \\\\\n",
       "\t Youth in Revolt                     & Comedy                              & The Weinstein Company               & 52                                  &  1.090000                           & 68                                  & \\$19.62                            & 2010                               \\\\\n",
       "\t You Will Meet a Tall Dark Stranger  & Comedy                              & Independent                         & 35                                  &  1.211818                           & 43                                  & \\$26.66                            & 2010                               \\\\\n",
       "\t Zack and Miri Make a Porno          & Romance                             & The Weinstein Company               & 70                                  &  1.747542                           & 64                                  & \\$41.94                            & 2008                               \\\\\n",
       "\\end{tabular}\n"
      ],
      "text/markdown": [
       "\n",
       "Film | Genre | Lead Studio | Audience score % | Profitability | Rotten Tomatoes % | Worldwide Gross | Year | \n",
       "|---|---|---|---|---|---|---|---|---|---|---|---|---|---|---|---|---|---|---|---|---|---|---|---|---|---|---|---|---|---|---|---|---|---|---|---|---|---|---|---|---|---|---|---|---|---|---|---|---|---|---|---|---|---|---|---|---|---|---|---|---|\n",
       "| 27 Dresses                         | Comedy                             | Fox                                | 71                                 |  5.3436218                         | 40                                 | $160.31                            | 2008                               | \n",
       "| (500) Days of Summer               | comedy                             | Fox                                | 81                                 |  8.0960000                         | 87                                 | $60.72                             | 2009                               | \n",
       "| Across the Universe                | romance                            | Independent                        | 84                                 |  0.6526032                         | 54                                 | $29.37                             | 2007                               | \n",
       "| A Dangerous Method                 | Drama                              | Independent                        | 89                                 |  0.4486447                         | 79                                 | $8.97                              | 2011                               | \n",
       "| A Serious Man                      | Drama                              | Universal                          | 64                                 |  4.3828571                         | 89                                 | $30.68                             | 2009                               | \n",
       "| Beginners                          | Comedy                             | Independent                        | 80                                 |  4.4718750                         | 84                                 | $14.31                             | 2011                               | \n",
       "| Dear John                          | Drama                              | Sony                               | 66                                 |  4.5988000                         | 29                                 | $114.97                            | 2010                               | \n",
       "| Enchanted                          | Comedy                             | Disney                             | 80                                 |  4.0057371                         | 93                                 | $340.49                            | 2007                               | \n",
       "| Fireproof                          | Drama                              | Independent                        | 51                                 | 66.9340000                         | 40                                 | $33.47                             | 2008                               | \n",
       "| Four Christmases                   | Comedy                             | Warner Bros.                       | 52                                 |  2.0229250                         | 26                                 | $161.83                            | 2008                               | \n",
       "| Ghosts of Girlfriends Past         | Comedy                             | Warner Bros.                       | 47                                 |  2.0444000                         | 27                                 | $102.22                            | 2009                               | \n",
       "| Gnomeo and Juliet                  | Animation                          | Disney                             | 52                                 |  5.3879722                         | 56                                 | $193.97                            | 2011                               | \n",
       "| Gnomeo and Juliet                  | Animation                          | Disney                             | 52                                 |  5.3879722                         | 56                                 | $193.97                            | 2011                               | \n",
       "| Going the Distance                 | Comedy                             | Warner Bros.                       | 56                                 |  1.3140625                         | 53                                 | $42.05                             | 2010                               | \n",
       "| Good Luck Chuck                    | Comedy                             | Lionsgate                          | 61                                 |  2.3676851                         |  3                                 | $59.19                             | 2007                               | \n",
       "| He's Just Not That Into You        | Comedy                             | Warner Bros.                       | 60                                 |  7.1536000                         | 42                                 | $178.84                            | 2009                               | \n",
       "| High School Musical 3: Senior Year | Comedy                             | Disney                             | 76                                 | 22.9131365                         | 65                                 | $252.04                            | 2008                               | \n",
       "| I Love You Phillip Morris          | Comedy                             | Independent                        | 57                                 |  1.3400000                         | 71                                 | $20.10                             | 2010                               | \n",
       "| It's Complicated                   | Comedy                             | Universal                          | 63                                 |  2.6423529                         | 56                                 | $224.60                            | 2009                               | \n",
       "| Jane Eyre                          | Romance                            | Universal                          | 77                                 |  0.0000000                         | 85                                 | $30.15                             | 2011                               | \n",
       "| Just Wright                        | Comedy                             | Fox                                | 58                                 |  1.7974167                         | 45                                 | $21.57                             | 2010                               | \n",
       "| Killers                            | Action                             | Lionsgate                          | 45                                 |  1.2453333                         | 11                                 | $93.40                             | 2010                               | \n",
       "| Knocked Up                         | Comedy                             | Universal                          | 83                                 |  6.6364018                         | 91                                 | $219                               | 2007                               | \n",
       "| Leap Year                          | Comedy                             | Universal                          | 49                                 |  1.7152632                         | 21                                 | $32.59                             | 2010                               | \n",
       "| Letters to Juliet                  | Comedy                             | Summit                             | 62                                 |  2.6393333                         | 40                                 | $79.18                             | 2010                               | \n",
       "| License to Wed                     | Comedy                             | Warner Bros.                       | 55                                 |  1.9802064                         |  8                                 | $69.31                             | 2007                               | \n",
       "| Life as We Know It                 | Comedy                             | Independent                        | 62                                 |  2.5305263                         | 28                                 | $96.16                             | 2010                               | \n",
       "| Love Happens                       | Drama                              | Universal                          | 40                                 |  2.0044444                         | 18                                 | $36.08                             | 2009                               | \n",
       "| Love & Other Drugs                 | Comedy                             | Fox                                | 55                                 |  1.8176667                         | 48                                 | $54.53                             | 2010                               | \n",
       "| Made of Honor                      | Comdy                              | Sony                               | 61                                 |  2.6490683                         | 13                                 | $105.96                            | 2008                               | \n",
       "| ... | ... | ... | ... | ... | ... | ... | ... | \n",
       "| Rachel Getting Married              | Drama                               | Independent                         | 61                                  |  1.384167                           | 85                                  | $16.61                              | 2008                                | \n",
       "| Remember Me                         | Drama                               | Summit                              | 70                                  |  3.491250                           | 28                                  | $55.86                              | 2010                                | \n",
       "| Sex and the City                    | Comedy                              | Warner Bros.                        | 81                                  |  7.221796                           | 49                                  | $415.25                             | 2008                                | \n",
       "| Sex and the City 2                  | Comedy                              | Warner Bros.                        | 49                                  |  2.883500                           | 15                                  | $288.35                             | 2010                                | \n",
       "| Sex and the City Two                | Comedy                              | Warner Bros.                        | 49                                  |  2.883500                           | 15                                  | $288.35                             | 2010                                | \n",
       "| She's Out of My League              | Comedy                              | Paramount                           | 60                                  |  2.440500                           | 57                                  | $48.81                              | 2010                                | \n",
       "| Something Borrowed                  | Romance                             | Independent                         | 48                                  |  1.719514                           | 15                                  | $60.18                              | 2011                                | \n",
       "| Tangled                             | Animation                           | Disney                              | 88                                  |  1.365692                           | 89                                  | $355.01                             | 2010                                | \n",
       "| The Back-up Plan                    | Comedy                              | CBS                                 | 47                                  |  2.202571                           | 20                                  | $77.09                              | 2010                                | \n",
       "| The Curious Case of Benjamin Button | Fantasy                             | Warner Bros.                        | 81                                  |  1.783944                           | 73                                  | $285.43                             | 2008                                | \n",
       "| The Duchess                         | Drama                               | Paramount                           | 68                                  |  3.207850                           | 60                                  | $43.31                              | 2008                                | \n",
       "| The Heartbreak Kid                  | Comedy                              | Paramount                           | 41                                  |  2.129444                           | 30                                  | $127.77                             | 2007                                | \n",
       "| The Invention of Lying              | Comedy                              | Warner Bros.                        | 47                                  |  1.751351                           | 56                                  | $32.40                              | 2009                                | \n",
       "| The Proposal                        | Comedy                              | Disney                              | 74                                  |  7.867500                           | 43                                  | $314.70                             | 2009                                | \n",
       "| The Time Traveler's Wife            | Drama                               | Paramount                           | 65                                  |  2.598205                           | 38                                  | $101.33                             | 2009                                | \n",
       "| The Twilight Saga: New Moon         | Drama                               | Summit                              | 78                                  | 14.196400                           | 27                                  | $709.82                             | 2009                                | \n",
       "| The Ugly Truth                      | Comedy                              | Independent                         | 68                                  |  5.402632                           | 14                                  | $205.30                             | 2009                                | \n",
       "| Twilight                            | Romance                             | Summit                              | 82                                  | 10.180027                           | 49                                  | $376.66                             | 2008                                | \n",
       "| Twilight: Breaking Dawn             | Romance                             | Independent                         | 68                                  |  6.383364                           | 26                                  | $702.17                             | 2011                                | \n",
       "| Tyler Perry's Why Did I get Married | Romance                             | Independent                         | 47                                  |  3.724192                           | 46                                  | $55.86                              | 2007                                | \n",
       "| Valentine's Day                     | Comedy                              | Warner Bros.                        | 54                                  |  4.184038                           | 17                                  | $217.57                             | 2010                                | \n",
       "| Waiting For Forever                 | Romance                             | Independent                         | 53                                  |  0.005000                           |  6                                  | $0.03                               | 2011                                | \n",
       "| Waitress                            | Romance                             | Independent                         | 67                                  | 11.089742                           | 89                                  | $22.18                              | 2007                                | \n",
       "| WALL-E                              | Animation                           | Disney                              | 89                                  |  2.896019                           | 96                                  | $521.28                             | 2008                                | \n",
       "| Water For Elephants                 | Drama                               | 20th Century Fox                    | 72                                  |  3.081421                           | 60                                  | $117.09                             | 2011                                | \n",
       "| What Happens in Vegas               | Comedy                              | Fox                                 | 72                                  |  6.267647                           | 28                                  | $219.37                             | 2008                                | \n",
       "| When in Rome                        | Comedy                              | Disney                              | 44                                  |  0.000000                           | 15                                  | $43.04                              | 2010                                | \n",
       "| Youth in Revolt                     | Comedy                              | The Weinstein Company               | 52                                  |  1.090000                           | 68                                  | $19.62                              | 2010                                | \n",
       "| You Will Meet a Tall Dark Stranger  | Comedy                              | Independent                         | 35                                  |  1.211818                           | 43                                  | $26.66                              | 2010                                | \n",
       "| Zack and Miri Make a Porno          | Romance                             | The Weinstein Company               | 70                                  |  1.747542                           | 64                                  | $41.94                              | 2008                                | \n",
       "\n",
       "\n"
      ],
      "text/plain": [
       "    Film                                Genre     Lead Studio          \n",
       "1   27 Dresses                          Comedy    Fox                  \n",
       "2   (500) Days of Summer                comedy    Fox                  \n",
       "3   Across the Universe                 romance   Independent          \n",
       "4   A Dangerous Method                  Drama     Independent          \n",
       "5   A Serious Man                       Drama     Universal            \n",
       "6   Beginners                           Comedy    Independent          \n",
       "7   Dear John                           Drama     Sony                 \n",
       "8   Enchanted                           Comedy    Disney               \n",
       "9   Fireproof                           Drama     Independent          \n",
       "10  Four Christmases                    Comedy    Warner Bros.         \n",
       "11  Ghosts of Girlfriends Past          Comedy    Warner Bros.         \n",
       "12  Gnomeo and Juliet                   Animation Disney               \n",
       "13  Gnomeo and Juliet                   Animation Disney               \n",
       "14  Going the Distance                  Comedy    Warner Bros.         \n",
       "15  Good Luck Chuck                     Comedy    Lionsgate            \n",
       "16  He's Just Not That Into You         Comedy    Warner Bros.         \n",
       "17  High School Musical 3: Senior Year  Comedy    Disney               \n",
       "18  I Love You Phillip Morris           Comedy    Independent          \n",
       "19  It's Complicated                    Comedy    Universal            \n",
       "20  Jane Eyre                           Romance   Universal            \n",
       "21  Just Wright                         Comedy    Fox                  \n",
       "22  Killers                             Action    Lionsgate            \n",
       "23  Knocked Up                          Comedy    Universal            \n",
       "24  Leap Year                           Comedy    Universal            \n",
       "25  Letters to Juliet                   Comedy    Summit               \n",
       "26  License to Wed                      Comedy    Warner Bros.         \n",
       "27  Life as We Know It                  Comedy    Independent          \n",
       "28  Love Happens                        Drama     Universal            \n",
       "29  Love & Other Drugs                  Comedy    Fox                  \n",
       "30  Made of Honor                       Comdy     Sony                 \n",
       "... ...                                 ...       ...                  \n",
       "48  Rachel Getting Married              Drama     Independent          \n",
       "49  Remember Me                         Drama     Summit               \n",
       "50  Sex and the City                    Comedy    Warner Bros.         \n",
       "51  Sex and the City 2                  Comedy    Warner Bros.         \n",
       "52  Sex and the City Two                Comedy    Warner Bros.         \n",
       "53  She's Out of My League              Comedy    Paramount            \n",
       "54  Something Borrowed                  Romance   Independent          \n",
       "55  Tangled                             Animation Disney               \n",
       "56  The Back-up Plan                    Comedy    CBS                  \n",
       "57  The Curious Case of Benjamin Button Fantasy   Warner Bros.         \n",
       "58  The Duchess                         Drama     Paramount            \n",
       "59  The Heartbreak Kid                  Comedy    Paramount            \n",
       "60  The Invention of Lying              Comedy    Warner Bros.         \n",
       "61  The Proposal                        Comedy    Disney               \n",
       "62  The Time Traveler's Wife            Drama     Paramount            \n",
       "63  The Twilight Saga: New Moon         Drama     Summit               \n",
       "64  The Ugly Truth                      Comedy    Independent          \n",
       "65  Twilight                            Romance   Summit               \n",
       "66  Twilight: Breaking Dawn             Romance   Independent          \n",
       "67  Tyler Perry's Why Did I get Married Romance   Independent          \n",
       "68  Valentine's Day                     Comedy    Warner Bros.         \n",
       "69  Waiting For Forever                 Romance   Independent          \n",
       "70  Waitress                            Romance   Independent          \n",
       "71  WALL-E                              Animation Disney               \n",
       "72  Water For Elephants                 Drama     20th Century Fox     \n",
       "73  What Happens in Vegas               Comedy    Fox                  \n",
       "74  When in Rome                        Comedy    Disney               \n",
       "75  Youth in Revolt                     Comedy    The Weinstein Company\n",
       "76  You Will Meet a Tall Dark Stranger  Comedy    Independent          \n",
       "77  Zack and Miri Make a Porno          Romance   The Weinstein Company\n",
       "    Audience score % Profitability Rotten Tomatoes % Worldwide Gross Year\n",
       "1   71                5.3436218    40                $160.31         2008\n",
       "2   81                8.0960000    87                $60.72          2009\n",
       "3   84                0.6526032    54                $29.37          2007\n",
       "4   89                0.4486447    79                $8.97           2011\n",
       "5   64                4.3828571    89                $30.68          2009\n",
       "6   80                4.4718750    84                $14.31          2011\n",
       "7   66                4.5988000    29                $114.97         2010\n",
       "8   80                4.0057371    93                $340.49         2007\n",
       "9   51               66.9340000    40                $33.47          2008\n",
       "10  52                2.0229250    26                $161.83         2008\n",
       "11  47                2.0444000    27                $102.22         2009\n",
       "12  52                5.3879722    56                $193.97         2011\n",
       "13  52                5.3879722    56                $193.97         2011\n",
       "14  56                1.3140625    53                $42.05          2010\n",
       "15  61                2.3676851     3                $59.19          2007\n",
       "16  60                7.1536000    42                $178.84         2009\n",
       "17  76               22.9131365    65                $252.04         2008\n",
       "18  57                1.3400000    71                $20.10          2010\n",
       "19  63                2.6423529    56                $224.60         2009\n",
       "20  77                0.0000000    85                $30.15          2011\n",
       "21  58                1.7974167    45                $21.57          2010\n",
       "22  45                1.2453333    11                $93.40          2010\n",
       "23  83                6.6364018    91                $219            2007\n",
       "24  49                1.7152632    21                $32.59          2010\n",
       "25  62                2.6393333    40                $79.18          2010\n",
       "26  55                1.9802064     8                $69.31          2007\n",
       "27  62                2.5305263    28                $96.16          2010\n",
       "28  40                2.0044444    18                $36.08          2009\n",
       "29  55                1.8176667    48                $54.53          2010\n",
       "30  61                2.6490683    13                $105.96         2008\n",
       "... ...              ...           ...               ...             ... \n",
       "48  61                1.384167     85                $16.61          2008\n",
       "49  70                3.491250     28                $55.86          2010\n",
       "50  81                7.221796     49                $415.25         2008\n",
       "51  49                2.883500     15                $288.35         2010\n",
       "52  49                2.883500     15                $288.35         2010\n",
       "53  60                2.440500     57                $48.81          2010\n",
       "54  48                1.719514     15                $60.18          2011\n",
       "55  88                1.365692     89                $355.01         2010\n",
       "56  47                2.202571     20                $77.09          2010\n",
       "57  81                1.783944     73                $285.43         2008\n",
       "58  68                3.207850     60                $43.31          2008\n",
       "59  41                2.129444     30                $127.77         2007\n",
       "60  47                1.751351     56                $32.40          2009\n",
       "61  74                7.867500     43                $314.70         2009\n",
       "62  65                2.598205     38                $101.33         2009\n",
       "63  78               14.196400     27                $709.82         2009\n",
       "64  68                5.402632     14                $205.30         2009\n",
       "65  82               10.180027     49                $376.66         2008\n",
       "66  68                6.383364     26                $702.17         2011\n",
       "67  47                3.724192     46                $55.86          2007\n",
       "68  54                4.184038     17                $217.57         2010\n",
       "69  53                0.005000      6                $0.03           2011\n",
       "70  67               11.089742     89                $22.18          2007\n",
       "71  89                2.896019     96                $521.28         2008\n",
       "72  72                3.081421     60                $117.09         2011\n",
       "73  72                6.267647     28                $219.37         2008\n",
       "74  44                0.000000     15                $43.04          2010\n",
       "75  52                1.090000     68                $19.62          2010\n",
       "76  35                1.211818     43                $26.66          2010\n",
       "77  70                1.747542     64                $41.94          2008"
      ]
     },
     "metadata": {},
     "output_type": "display_data"
    }
   ],
   "source": [
    "arrangeFilm <- movies %>%\n",
    "arrange(Film)\n",
    "arrangeFilm"
   ]
  },
  {
   "cell_type": "code",
   "execution_count": 6,
   "metadata": {
    "collapsed": false,
    "deletable": true,
    "editable": true
   },
   "outputs": [
    {
     "data": {
      "text/html": [
       "<table>\n",
       "<thead><tr><th scope=col>Film</th><th scope=col>Genre</th><th scope=col>Lead Studio</th><th scope=col>Audience score %</th><th scope=col>Profitability</th><th scope=col>Rotten Tomatoes %</th><th scope=col>Worldwide Gross</th><th scope=col>Year</th></tr></thead>\n",
       "<tbody>\n",
       "\t<tr><td>Water For Elephants    </td><td>Drama                  </td><td>20th Century Fox       </td><td>72                     </td><td>3.0814211              </td><td>60                     </td><td>$117.09                </td><td>2011                   </td></tr>\n",
       "\t<tr><td>Waiting For Forever    </td><td>Romance                </td><td>Independent            </td><td>53                     </td><td>0.0050000              </td><td> 6                     </td><td>$0.03                  </td><td>2011                   </td></tr>\n",
       "\t<tr><td>Twilight: Breaking Dawn</td><td>Romance                </td><td>Independent            </td><td>68                     </td><td>6.3833636              </td><td>26                     </td><td>$702.17                </td><td>2011                   </td></tr>\n",
       "\t<tr><td>Something Borrowed     </td><td>Romance                </td><td>Independent            </td><td>48                     </td><td>1.7195143              </td><td>15                     </td><td>$60.18                 </td><td>2011                   </td></tr>\n",
       "\t<tr><td>One Day                </td><td>Romance                </td><td>Independent            </td><td>54                     </td><td>3.6827333              </td><td>37                     </td><td>$55.24                 </td><td>2011                   </td></tr>\n",
       "\t<tr><td>New Year's Eve         </td><td>Romance                </td><td>Warner Bros.           </td><td>48                     </td><td>2.5364286              </td><td> 8                     </td><td>$142.04                </td><td>2011                   </td></tr>\n",
       "\t<tr><td>My Week with Marilyn   </td><td>Drama                  </td><td>The Weinstein Company  </td><td>84                     </td><td>0.8258000              </td><td>83                     </td><td>$8.26                  </td><td>2011                   </td></tr>\n",
       "\t<tr><td>Monte Carlo            </td><td>Romance                </td><td>20th Century Fox       </td><td>50                     </td><td>1.9832000              </td><td>38                     </td><td>$39.66                 </td><td>2011                   </td></tr>\n",
       "\t<tr><td>Midnight in Paris      </td><td>Romence                </td><td>Sony                   </td><td>84                     </td><td>8.7447059              </td><td>93                     </td><td>$148.66                </td><td>2011                   </td></tr>\n",
       "\t<tr><td>Jane Eyre              </td><td>Romance                </td><td>Universal              </td><td>77                     </td><td>0.0000000              </td><td>85                     </td><td>$30.15                 </td><td>2011                   </td></tr>\n",
       "\t<tr><td>Gnomeo and Juliet      </td><td>Animation              </td><td>Disney                 </td><td>52                     </td><td>5.3879722              </td><td>56                     </td><td>$193.97                </td><td>2011                   </td></tr>\n",
       "\t<tr><td>Gnomeo and Juliet      </td><td>Animation              </td><td>Disney                 </td><td>52                     </td><td>5.3879722              </td><td>56                     </td><td>$193.97                </td><td>2011                   </td></tr>\n",
       "\t<tr><td>Beginners              </td><td>Comedy                 </td><td>Independent            </td><td>80                     </td><td>4.4718750              </td><td>84                     </td><td>$14.31                 </td><td>2011                   </td></tr>\n",
       "\t<tr><td>A Dangerous Method     </td><td>Drama                  </td><td>Independent            </td><td>89                     </td><td>0.4486447              </td><td>79                     </td><td>$8.97                  </td><td>2011                   </td></tr>\n",
       "</tbody>\n",
       "</table>\n"
      ],
      "text/latex": [
       "\\begin{tabular}{r|llllllll}\n",
       " Film & Genre & Lead Studio & Audience score \\% & Profitability & Rotten Tomatoes \\% & Worldwide Gross & Year\\\\\n",
       "\\hline\n",
       "\t Water For Elephants     & Drama                   & 20th Century Fox        & 72                      & 3.0814211               & 60                      & \\$117.09               & 2011                   \\\\\n",
       "\t Waiting For Forever     & Romance                 & Independent             & 53                      & 0.0050000               &  6                      & \\$0.03                 & 2011                   \\\\\n",
       "\t Twilight: Breaking Dawn & Romance                 & Independent             & 68                      & 6.3833636               & 26                      & \\$702.17               & 2011                   \\\\\n",
       "\t Something Borrowed      & Romance                 & Independent             & 48                      & 1.7195143               & 15                      & \\$60.18                & 2011                   \\\\\n",
       "\t One Day                 & Romance                 & Independent             & 54                      & 3.6827333               & 37                      & \\$55.24                & 2011                   \\\\\n",
       "\t New Year's Eve          & Romance                 & Warner Bros.            & 48                      & 2.5364286               &  8                      & \\$142.04               & 2011                   \\\\\n",
       "\t My Week with Marilyn    & Drama                   & The Weinstein Company   & 84                      & 0.8258000               & 83                      & \\$8.26                 & 2011                   \\\\\n",
       "\t Monte Carlo             & Romance                 & 20th Century Fox        & 50                      & 1.9832000               & 38                      & \\$39.66                & 2011                   \\\\\n",
       "\t Midnight in Paris       & Romence                 & Sony                    & 84                      & 8.7447059               & 93                      & \\$148.66               & 2011                   \\\\\n",
       "\t Jane Eyre               & Romance                 & Universal               & 77                      & 0.0000000               & 85                      & \\$30.15                & 2011                   \\\\\n",
       "\t Gnomeo and Juliet       & Animation               & Disney                  & 52                      & 5.3879722               & 56                      & \\$193.97               & 2011                   \\\\\n",
       "\t Gnomeo and Juliet       & Animation               & Disney                  & 52                      & 5.3879722               & 56                      & \\$193.97               & 2011                   \\\\\n",
       "\t Beginners               & Comedy                  & Independent             & 80                      & 4.4718750               & 84                      & \\$14.31                & 2011                   \\\\\n",
       "\t A Dangerous Method      & Drama                   & Independent             & 89                      & 0.4486447               & 79                      & \\$8.97                 & 2011                   \\\\\n",
       "\\end{tabular}\n"
      ],
      "text/markdown": [
       "\n",
       "Film | Genre | Lead Studio | Audience score % | Profitability | Rotten Tomatoes % | Worldwide Gross | Year | \n",
       "|---|---|---|---|---|---|---|---|---|---|---|---|---|---|\n",
       "| Water For Elephants     | Drama                   | 20th Century Fox        | 72                      | 3.0814211               | 60                      | $117.09                 | 2011                    | \n",
       "| Waiting For Forever     | Romance                 | Independent             | 53                      | 0.0050000               |  6                      | $0.03                   | 2011                    | \n",
       "| Twilight: Breaking Dawn | Romance                 | Independent             | 68                      | 6.3833636               | 26                      | $702.17                 | 2011                    | \n",
       "| Something Borrowed      | Romance                 | Independent             | 48                      | 1.7195143               | 15                      | $60.18                  | 2011                    | \n",
       "| One Day                 | Romance                 | Independent             | 54                      | 3.6827333               | 37                      | $55.24                  | 2011                    | \n",
       "| New Year's Eve          | Romance                 | Warner Bros.            | 48                      | 2.5364286               |  8                      | $142.04                 | 2011                    | \n",
       "| My Week with Marilyn    | Drama                   | The Weinstein Company   | 84                      | 0.8258000               | 83                      | $8.26                   | 2011                    | \n",
       "| Monte Carlo             | Romance                 | 20th Century Fox        | 50                      | 1.9832000               | 38                      | $39.66                  | 2011                    | \n",
       "| Midnight in Paris       | Romence                 | Sony                    | 84                      | 8.7447059               | 93                      | $148.66                 | 2011                    | \n",
       "| Jane Eyre               | Romance                 | Universal               | 77                      | 0.0000000               | 85                      | $30.15                  | 2011                    | \n",
       "| Gnomeo and Juliet       | Animation               | Disney                  | 52                      | 5.3879722               | 56                      | $193.97                 | 2011                    | \n",
       "| Gnomeo and Juliet       | Animation               | Disney                  | 52                      | 5.3879722               | 56                      | $193.97                 | 2011                    | \n",
       "| Beginners               | Comedy                  | Independent             | 80                      | 4.4718750               | 84                      | $14.31                  | 2011                    | \n",
       "| A Dangerous Method      | Drama                   | Independent             | 89                      | 0.4486447               | 79                      | $8.97                   | 2011                    | \n",
       "\n",
       "\n"
      ],
      "text/plain": [
       "   Film                    Genre     Lead Studio           Audience score %\n",
       "1  Water For Elephants     Drama     20th Century Fox      72              \n",
       "2  Waiting For Forever     Romance   Independent           53              \n",
       "3  Twilight: Breaking Dawn Romance   Independent           68              \n",
       "4  Something Borrowed      Romance   Independent           48              \n",
       "5  One Day                 Romance   Independent           54              \n",
       "6  New Year's Eve          Romance   Warner Bros.          48              \n",
       "7  My Week with Marilyn    Drama     The Weinstein Company 84              \n",
       "8  Monte Carlo             Romance   20th Century Fox      50              \n",
       "9  Midnight in Paris       Romence   Sony                  84              \n",
       "10 Jane Eyre               Romance   Universal             77              \n",
       "11 Gnomeo and Juliet       Animation Disney                52              \n",
       "12 Gnomeo and Juliet       Animation Disney                52              \n",
       "13 Beginners               Comedy    Independent           80              \n",
       "14 A Dangerous Method      Drama     Independent           89              \n",
       "   Profitability Rotten Tomatoes % Worldwide Gross Year\n",
       "1  3.0814211     60                $117.09         2011\n",
       "2  0.0050000      6                $0.03           2011\n",
       "3  6.3833636     26                $702.17         2011\n",
       "4  1.7195143     15                $60.18          2011\n",
       "5  3.6827333     37                $55.24          2011\n",
       "6  2.5364286      8                $142.04         2011\n",
       "7  0.8258000     83                $8.26           2011\n",
       "8  1.9832000     38                $39.66          2011\n",
       "9  8.7447059     93                $148.66         2011\n",
       "10 0.0000000     85                $30.15          2011\n",
       "11 5.3879722     56                $193.97         2011\n",
       "12 5.3879722     56                $193.97         2011\n",
       "13 4.4718750     84                $14.31          2011\n",
       "14 0.4486447     79                $8.97           2011"
      ]
     },
     "metadata": {},
     "output_type": "display_data"
    }
   ],
   "source": [
    "yearMovies <- movies %>%\n",
    "filter(Year == 2011)\n",
    "yearMovies"
   ]
  },
  {
   "cell_type": "code",
   "execution_count": 7,
   "metadata": {
    "collapsed": false,
    "deletable": true,
    "editable": true
   },
   "outputs": [
    {
     "data": {
      "text/html": [
       "<table>\n",
       "<thead><tr><th scope=col>Film</th><th scope=col>Audience score %</th><th scope=col>Profitability</th><th scope=col>Rotten Tomatoes %</th><th scope=col>Worldwide Gross</th><th scope=col>Year</th></tr></thead>\n",
       "<tbody>\n",
       "\t<tr><td>Zack and Miri Make a Porno         </td><td>70                                 </td><td> 1.747542                          </td><td>64                                 </td><td>$41.94                             </td><td>2008                               </td></tr>\n",
       "\t<tr><td>Youth in Revolt                    </td><td>52                                 </td><td> 1.090000                          </td><td>68                                 </td><td>$19.62                             </td><td>2010                               </td></tr>\n",
       "\t<tr><td>You Will Meet a Tall Dark Stranger </td><td>35                                 </td><td> 1.211818                          </td><td>43                                 </td><td>$26.66                             </td><td>2010                               </td></tr>\n",
       "\t<tr><td>When in Rome                       </td><td>44                                 </td><td> 0.000000                          </td><td>15                                 </td><td>$43.04                             </td><td>2010                               </td></tr>\n",
       "\t<tr><td>What Happens in Vegas              </td><td>72                                 </td><td> 6.267647                          </td><td>28                                 </td><td>$219.37                            </td><td>2008                               </td></tr>\n",
       "\t<tr><td>Water For Elephants                </td><td>72                                 </td><td> 3.081421                          </td><td>60                                 </td><td>$117.09                            </td><td>2011                               </td></tr>\n",
       "\t<tr><td>WALL-E                             </td><td>89                                 </td><td> 2.896019                          </td><td>96                                 </td><td>$521.28                            </td><td>2008                               </td></tr>\n",
       "\t<tr><td>Waitress                           </td><td>67                                 </td><td>11.089742                          </td><td>89                                 </td><td>$22.18                             </td><td>2007                               </td></tr>\n",
       "\t<tr><td>Waiting For Forever                </td><td>53                                 </td><td> 0.005000                          </td><td> 6                                 </td><td>$0.03                              </td><td>2011                               </td></tr>\n",
       "\t<tr><td>Valentine's Day                    </td><td>54                                 </td><td> 4.184038                          </td><td>17                                 </td><td>$217.57                            </td><td>2010                               </td></tr>\n",
       "\t<tr><td>Tyler Perry's Why Did I get Married</td><td>47                                 </td><td> 3.724192                          </td><td>46                                 </td><td>$55.86                             </td><td>2007                               </td></tr>\n",
       "\t<tr><td>Twilight: Breaking Dawn            </td><td>68                                 </td><td> 6.383364                          </td><td>26                                 </td><td>$702.17                            </td><td>2011                               </td></tr>\n",
       "\t<tr><td>Twilight                           </td><td>82                                 </td><td>10.180027                          </td><td>49                                 </td><td>$376.66                            </td><td>2008                               </td></tr>\n",
       "\t<tr><td>The Ugly Truth                     </td><td>68                                 </td><td> 5.402632                          </td><td>14                                 </td><td>$205.30                            </td><td>2009                               </td></tr>\n",
       "\t<tr><td>The Twilight Saga: New Moon        </td><td>78                                 </td><td>14.196400                          </td><td>27                                 </td><td>$709.82                            </td><td>2009                               </td></tr>\n",
       "\t<tr><td>The Time Traveler's Wife           </td><td>65                                 </td><td> 2.598205                          </td><td>38                                 </td><td>$101.33                            </td><td>2009                               </td></tr>\n",
       "\t<tr><td>The Proposal                       </td><td>74                                 </td><td> 7.867500                          </td><td>43                                 </td><td>$314.70                            </td><td>2009                               </td></tr>\n",
       "\t<tr><td>The Invention of Lying             </td><td>47                                 </td><td> 1.751351                          </td><td>56                                 </td><td>$32.40                             </td><td>2009                               </td></tr>\n",
       "\t<tr><td>The Heartbreak Kid                 </td><td>41                                 </td><td> 2.129444                          </td><td>30                                 </td><td>$127.77                            </td><td>2007                               </td></tr>\n",
       "\t<tr><td>The Duchess                        </td><td>68                                 </td><td> 3.207850                          </td><td>60                                 </td><td>$43.31                             </td><td>2008                               </td></tr>\n",
       "\t<tr><td>The Curious Case of Benjamin Button</td><td>81                                 </td><td> 1.783944                          </td><td>73                                 </td><td>$285.43                            </td><td>2008                               </td></tr>\n",
       "\t<tr><td>The Back-up Plan                   </td><td>47                                 </td><td> 2.202571                          </td><td>20                                 </td><td>$77.09                             </td><td>2010                               </td></tr>\n",
       "\t<tr><td>Tangled                            </td><td>88                                 </td><td> 1.365692                          </td><td>89                                 </td><td>$355.01                            </td><td>2010                               </td></tr>\n",
       "\t<tr><td>Something Borrowed                 </td><td>48                                 </td><td> 1.719514                          </td><td>15                                 </td><td>$60.18                             </td><td>2011                               </td></tr>\n",
       "\t<tr><td>She's Out of My League             </td><td>60                                 </td><td> 2.440500                          </td><td>57                                 </td><td>$48.81                             </td><td>2010                               </td></tr>\n",
       "\t<tr><td>Sex and the City Two               </td><td>49                                 </td><td> 2.883500                          </td><td>15                                 </td><td>$288.35                            </td><td>2010                               </td></tr>\n",
       "\t<tr><td>Sex and the City 2                 </td><td>49                                 </td><td> 2.883500                          </td><td>15                                 </td><td>$288.35                            </td><td>2010                               </td></tr>\n",
       "\t<tr><td>Sex and the City                   </td><td>81                                 </td><td> 7.221796                          </td><td>49                                 </td><td>$415.25                            </td><td>2008                               </td></tr>\n",
       "\t<tr><td>Remember Me                        </td><td>70                                 </td><td> 3.491250                          </td><td>28                                 </td><td>$55.86                             </td><td>2010                               </td></tr>\n",
       "\t<tr><td>Rachel Getting Married             </td><td>61                                 </td><td> 1.384167                          </td><td>85                                 </td><td>$16.61                             </td><td>2008                               </td></tr>\n",
       "\t<tr><td>...</td><td>...</td><td>...</td><td>...</td><td>...</td><td>...</td></tr>\n",
       "\t<tr><td>Made of Honor                     </td><td>61                                </td><td> 2.6490683                        </td><td>13                                </td><td>$105.96                           </td><td>2008                              </td></tr>\n",
       "\t<tr><td>Love Happens                      </td><td>40                                </td><td> 2.0044444                        </td><td>18                                </td><td>$36.08                            </td><td>2009                              </td></tr>\n",
       "\t<tr><td><span style=white-space:pre-wrap>Love &amp; Other Drugs                </span></td><td>55                                                                            </td><td> 1.8176667                                                                    </td><td>48                                                                            </td><td>$54.53                                                                        </td><td>2010                                                                          </td></tr>\n",
       "\t<tr><td>Life as We Know It                </td><td>62                                </td><td> 2.5305263                        </td><td>28                                </td><td>$96.16                            </td><td>2010                              </td></tr>\n",
       "\t<tr><td>License to Wed                    </td><td>55                                </td><td> 1.9802064                        </td><td> 8                                </td><td>$69.31                            </td><td>2007                              </td></tr>\n",
       "\t<tr><td>Letters to Juliet                 </td><td>62                                </td><td> 2.6393333                        </td><td>40                                </td><td>$79.18                            </td><td>2010                              </td></tr>\n",
       "\t<tr><td>Leap Year                         </td><td>49                                </td><td> 1.7152632                        </td><td>21                                </td><td>$32.59                            </td><td>2010                              </td></tr>\n",
       "\t<tr><td>Knocked Up                        </td><td>83                                </td><td> 6.6364018                        </td><td>91                                </td><td>$219                              </td><td>2007                              </td></tr>\n",
       "\t<tr><td>Killers                           </td><td>45                                </td><td> 1.2453333                        </td><td>11                                </td><td>$93.40                            </td><td>2010                              </td></tr>\n",
       "\t<tr><td>Just Wright                       </td><td>58                                </td><td> 1.7974167                        </td><td>45                                </td><td>$21.57                            </td><td>2010                              </td></tr>\n",
       "\t<tr><td>Jane Eyre                         </td><td>77                                </td><td> 0.0000000                        </td><td>85                                </td><td>$30.15                            </td><td>2011                              </td></tr>\n",
       "\t<tr><td>It's Complicated                  </td><td>63                                </td><td> 2.6423529                        </td><td>56                                </td><td>$224.60                           </td><td>2009                              </td></tr>\n",
       "\t<tr><td>I Love You Phillip Morris         </td><td>57                                </td><td> 1.3400000                        </td><td>71                                </td><td>$20.10                            </td><td>2010                              </td></tr>\n",
       "\t<tr><td>High School Musical 3: Senior Year</td><td>76                                </td><td>22.9131365                        </td><td>65                                </td><td>$252.04                           </td><td>2008                              </td></tr>\n",
       "\t<tr><td>He's Just Not That Into You       </td><td>60                                </td><td> 7.1536000                        </td><td>42                                </td><td>$178.84                           </td><td>2009                              </td></tr>\n",
       "\t<tr><td>Good Luck Chuck                   </td><td>61                                </td><td> 2.3676851                        </td><td> 3                                </td><td>$59.19                            </td><td>2007                              </td></tr>\n",
       "\t<tr><td>Going the Distance                </td><td>56                                </td><td> 1.3140625                        </td><td>53                                </td><td>$42.05                            </td><td>2010                              </td></tr>\n",
       "\t<tr><td>Gnomeo and Juliet                 </td><td>52                                </td><td> 5.3879722                        </td><td>56                                </td><td>$193.97                           </td><td>2011                              </td></tr>\n",
       "\t<tr><td>Gnomeo and Juliet                 </td><td>52                                </td><td> 5.3879722                        </td><td>56                                </td><td>$193.97                           </td><td>2011                              </td></tr>\n",
       "\t<tr><td>Ghosts of Girlfriends Past        </td><td>47                                </td><td> 2.0444000                        </td><td>27                                </td><td>$102.22                           </td><td>2009                              </td></tr>\n",
       "\t<tr><td>Four Christmases                  </td><td>52                                </td><td> 2.0229250                        </td><td>26                                </td><td>$161.83                           </td><td>2008                              </td></tr>\n",
       "\t<tr><td>Fireproof                         </td><td>51                                </td><td>66.9340000                        </td><td>40                                </td><td>$33.47                            </td><td>2008                              </td></tr>\n",
       "\t<tr><td>Enchanted                         </td><td>80                                </td><td> 4.0057371                        </td><td>93                                </td><td>$340.49                           </td><td>2007                              </td></tr>\n",
       "\t<tr><td>Dear John                         </td><td>66                                </td><td> 4.5988000                        </td><td>29                                </td><td>$114.97                           </td><td>2010                              </td></tr>\n",
       "\t<tr><td>Beginners                         </td><td>80                                </td><td> 4.4718750                        </td><td>84                                </td><td>$14.31                            </td><td>2011                              </td></tr>\n",
       "\t<tr><td>Across the Universe               </td><td>84                                </td><td> 0.6526032                        </td><td>54                                </td><td>$29.37                            </td><td>2007                              </td></tr>\n",
       "\t<tr><td>A Serious Man                     </td><td>64                                </td><td> 4.3828571                        </td><td>89                                </td><td>$30.68                            </td><td>2009                              </td></tr>\n",
       "\t<tr><td>A Dangerous Method                </td><td>89                                </td><td> 0.4486447                        </td><td>79                                </td><td>$8.97                             </td><td>2011                              </td></tr>\n",
       "\t<tr><td>27 Dresses                        </td><td>71                                </td><td> 5.3436218                        </td><td>40                                </td><td>$160.31                           </td><td>2008                              </td></tr>\n",
       "\t<tr><td>(500) Days of Summer              </td><td>81                                </td><td> 8.0960000                        </td><td>87                                </td><td>$60.72                            </td><td>2009                              </td></tr>\n",
       "</tbody>\n",
       "</table>\n"
      ],
      "text/latex": [
       "\\begin{tabular}{r|llllll}\n",
       " Film & Audience score \\% & Profitability & Rotten Tomatoes \\% & Worldwide Gross & Year\\\\\n",
       "\\hline\n",
       "\t Zack and Miri Make a Porno          & 70                                  &  1.747542                           & 64                                  & \\$41.94                            & 2008                               \\\\\n",
       "\t Youth in Revolt                     & 52                                  &  1.090000                           & 68                                  & \\$19.62                            & 2010                               \\\\\n",
       "\t You Will Meet a Tall Dark Stranger  & 35                                  &  1.211818                           & 43                                  & \\$26.66                            & 2010                               \\\\\n",
       "\t When in Rome                        & 44                                  &  0.000000                           & 15                                  & \\$43.04                            & 2010                               \\\\\n",
       "\t What Happens in Vegas               & 72                                  &  6.267647                           & 28                                  & \\$219.37                           & 2008                               \\\\\n",
       "\t Water For Elephants                 & 72                                  &  3.081421                           & 60                                  & \\$117.09                           & 2011                               \\\\\n",
       "\t WALL-E                              & 89                                  &  2.896019                           & 96                                  & \\$521.28                           & 2008                               \\\\\n",
       "\t Waitress                            & 67                                  & 11.089742                           & 89                                  & \\$22.18                            & 2007                               \\\\\n",
       "\t Waiting For Forever                 & 53                                  &  0.005000                           &  6                                  & \\$0.03                             & 2011                               \\\\\n",
       "\t Valentine's Day                     & 54                                  &  4.184038                           & 17                                  & \\$217.57                           & 2010                               \\\\\n",
       "\t Tyler Perry's Why Did I get Married & 47                                  &  3.724192                           & 46                                  & \\$55.86                            & 2007                               \\\\\n",
       "\t Twilight: Breaking Dawn             & 68                                  &  6.383364                           & 26                                  & \\$702.17                           & 2011                               \\\\\n",
       "\t Twilight                            & 82                                  & 10.180027                           & 49                                  & \\$376.66                           & 2008                               \\\\\n",
       "\t The Ugly Truth                      & 68                                  &  5.402632                           & 14                                  & \\$205.30                           & 2009                               \\\\\n",
       "\t The Twilight Saga: New Moon         & 78                                  & 14.196400                           & 27                                  & \\$709.82                           & 2009                               \\\\\n",
       "\t The Time Traveler's Wife            & 65                                  &  2.598205                           & 38                                  & \\$101.33                           & 2009                               \\\\\n",
       "\t The Proposal                        & 74                                  &  7.867500                           & 43                                  & \\$314.70                           & 2009                               \\\\\n",
       "\t The Invention of Lying              & 47                                  &  1.751351                           & 56                                  & \\$32.40                            & 2009                               \\\\\n",
       "\t The Heartbreak Kid                  & 41                                  &  2.129444                           & 30                                  & \\$127.77                           & 2007                               \\\\\n",
       "\t The Duchess                         & 68                                  &  3.207850                           & 60                                  & \\$43.31                            & 2008                               \\\\\n",
       "\t The Curious Case of Benjamin Button & 81                                  &  1.783944                           & 73                                  & \\$285.43                           & 2008                               \\\\\n",
       "\t The Back-up Plan                    & 47                                  &  2.202571                           & 20                                  & \\$77.09                            & 2010                               \\\\\n",
       "\t Tangled                             & 88                                  &  1.365692                           & 89                                  & \\$355.01                           & 2010                               \\\\\n",
       "\t Something Borrowed                  & 48                                  &  1.719514                           & 15                                  & \\$60.18                            & 2011                               \\\\\n",
       "\t She's Out of My League              & 60                                  &  2.440500                           & 57                                  & \\$48.81                            & 2010                               \\\\\n",
       "\t Sex and the City Two                & 49                                  &  2.883500                           & 15                                  & \\$288.35                           & 2010                               \\\\\n",
       "\t Sex and the City 2                  & 49                                  &  2.883500                           & 15                                  & \\$288.35                           & 2010                               \\\\\n",
       "\t Sex and the City                    & 81                                  &  7.221796                           & 49                                  & \\$415.25                           & 2008                               \\\\\n",
       "\t Remember Me                         & 70                                  &  3.491250                           & 28                                  & \\$55.86                            & 2010                               \\\\\n",
       "\t Rachel Getting Married              & 61                                  &  1.384167                           & 85                                  & \\$16.61                            & 2008                               \\\\\n",
       "\t ... & ... & ... & ... & ... & ...\\\\\n",
       "\t Made of Honor                      & 61                                 &  2.6490683                         & 13                                 & \\$105.96                          & 2008                              \\\\\n",
       "\t Love Happens                       & 40                                 &  2.0044444                         & 18                                 & \\$36.08                           & 2009                              \\\\\n",
       "\t Love \\& Other Drugs                 & 55                                   &  1.8176667                           & 48                                   & \\$54.53                             & 2010                                \\\\\n",
       "\t Life as We Know It                 & 62                                 &  2.5305263                         & 28                                 & \\$96.16                           & 2010                              \\\\\n",
       "\t License to Wed                     & 55                                 &  1.9802064                         &  8                                 & \\$69.31                           & 2007                              \\\\\n",
       "\t Letters to Juliet                  & 62                                 &  2.6393333                         & 40                                 & \\$79.18                           & 2010                              \\\\\n",
       "\t Leap Year                          & 49                                 &  1.7152632                         & 21                                 & \\$32.59                           & 2010                              \\\\\n",
       "\t Knocked Up                         & 83                                 &  6.6364018                         & 91                                 & \\$219                             & 2007                              \\\\\n",
       "\t Killers                            & 45                                 &  1.2453333                         & 11                                 & \\$93.40                           & 2010                              \\\\\n",
       "\t Just Wright                        & 58                                 &  1.7974167                         & 45                                 & \\$21.57                           & 2010                              \\\\\n",
       "\t Jane Eyre                          & 77                                 &  0.0000000                         & 85                                 & \\$30.15                           & 2011                              \\\\\n",
       "\t It's Complicated                   & 63                                 &  2.6423529                         & 56                                 & \\$224.60                          & 2009                              \\\\\n",
       "\t I Love You Phillip Morris          & 57                                 &  1.3400000                         & 71                                 & \\$20.10                           & 2010                              \\\\\n",
       "\t High School Musical 3: Senior Year & 76                                 & 22.9131365                         & 65                                 & \\$252.04                          & 2008                              \\\\\n",
       "\t He's Just Not That Into You        & 60                                 &  7.1536000                         & 42                                 & \\$178.84                          & 2009                              \\\\\n",
       "\t Good Luck Chuck                    & 61                                 &  2.3676851                         &  3                                 & \\$59.19                           & 2007                              \\\\\n",
       "\t Going the Distance                 & 56                                 &  1.3140625                         & 53                                 & \\$42.05                           & 2010                              \\\\\n",
       "\t Gnomeo and Juliet                  & 52                                 &  5.3879722                         & 56                                 & \\$193.97                          & 2011                              \\\\\n",
       "\t Gnomeo and Juliet                  & 52                                 &  5.3879722                         & 56                                 & \\$193.97                          & 2011                              \\\\\n",
       "\t Ghosts of Girlfriends Past         & 47                                 &  2.0444000                         & 27                                 & \\$102.22                          & 2009                              \\\\\n",
       "\t Four Christmases                   & 52                                 &  2.0229250                         & 26                                 & \\$161.83                          & 2008                              \\\\\n",
       "\t Fireproof                          & 51                                 & 66.9340000                         & 40                                 & \\$33.47                           & 2008                              \\\\\n",
       "\t Enchanted                          & 80                                 &  4.0057371                         & 93                                 & \\$340.49                          & 2007                              \\\\\n",
       "\t Dear John                          & 66                                 &  4.5988000                         & 29                                 & \\$114.97                          & 2010                              \\\\\n",
       "\t Beginners                          & 80                                 &  4.4718750                         & 84                                 & \\$14.31                           & 2011                              \\\\\n",
       "\t Across the Universe                & 84                                 &  0.6526032                         & 54                                 & \\$29.37                           & 2007                              \\\\\n",
       "\t A Serious Man                      & 64                                 &  4.3828571                         & 89                                 & \\$30.68                           & 2009                              \\\\\n",
       "\t A Dangerous Method                 & 89                                 &  0.4486447                         & 79                                 & \\$8.97                            & 2011                              \\\\\n",
       "\t 27 Dresses                         & 71                                 &  5.3436218                         & 40                                 & \\$160.31                          & 2008                              \\\\\n",
       "\t (500) Days of Summer               & 81                                 &  8.0960000                         & 87                                 & \\$60.72                           & 2009                              \\\\\n",
       "\\end{tabular}\n"
      ],
      "text/markdown": [
       "\n",
       "Film | Audience score % | Profitability | Rotten Tomatoes % | Worldwide Gross | Year | \n",
       "|---|---|---|---|---|---|---|---|---|---|---|---|---|---|---|---|---|---|---|---|---|---|---|---|---|---|---|---|---|---|---|---|---|---|---|---|---|---|---|---|---|---|---|---|---|---|---|---|---|---|---|---|---|---|---|---|---|---|---|---|---|\n",
       "| Zack and Miri Make a Porno          | 70                                  |  1.747542                           | 64                                  | $41.94                              | 2008                                | \n",
       "| Youth in Revolt                     | 52                                  |  1.090000                           | 68                                  | $19.62                              | 2010                                | \n",
       "| You Will Meet a Tall Dark Stranger  | 35                                  |  1.211818                           | 43                                  | $26.66                              | 2010                                | \n",
       "| When in Rome                        | 44                                  |  0.000000                           | 15                                  | $43.04                              | 2010                                | \n",
       "| What Happens in Vegas               | 72                                  |  6.267647                           | 28                                  | $219.37                             | 2008                                | \n",
       "| Water For Elephants                 | 72                                  |  3.081421                           | 60                                  | $117.09                             | 2011                                | \n",
       "| WALL-E                              | 89                                  |  2.896019                           | 96                                  | $521.28                             | 2008                                | \n",
       "| Waitress                            | 67                                  | 11.089742                           | 89                                  | $22.18                              | 2007                                | \n",
       "| Waiting For Forever                 | 53                                  |  0.005000                           |  6                                  | $0.03                               | 2011                                | \n",
       "| Valentine's Day                     | 54                                  |  4.184038                           | 17                                  | $217.57                             | 2010                                | \n",
       "| Tyler Perry's Why Did I get Married | 47                                  |  3.724192                           | 46                                  | $55.86                              | 2007                                | \n",
       "| Twilight: Breaking Dawn             | 68                                  |  6.383364                           | 26                                  | $702.17                             | 2011                                | \n",
       "| Twilight                            | 82                                  | 10.180027                           | 49                                  | $376.66                             | 2008                                | \n",
       "| The Ugly Truth                      | 68                                  |  5.402632                           | 14                                  | $205.30                             | 2009                                | \n",
       "| The Twilight Saga: New Moon         | 78                                  | 14.196400                           | 27                                  | $709.82                             | 2009                                | \n",
       "| The Time Traveler's Wife            | 65                                  |  2.598205                           | 38                                  | $101.33                             | 2009                                | \n",
       "| The Proposal                        | 74                                  |  7.867500                           | 43                                  | $314.70                             | 2009                                | \n",
       "| The Invention of Lying              | 47                                  |  1.751351                           | 56                                  | $32.40                              | 2009                                | \n",
       "| The Heartbreak Kid                  | 41                                  |  2.129444                           | 30                                  | $127.77                             | 2007                                | \n",
       "| The Duchess                         | 68                                  |  3.207850                           | 60                                  | $43.31                              | 2008                                | \n",
       "| The Curious Case of Benjamin Button | 81                                  |  1.783944                           | 73                                  | $285.43                             | 2008                                | \n",
       "| The Back-up Plan                    | 47                                  |  2.202571                           | 20                                  | $77.09                              | 2010                                | \n",
       "| Tangled                             | 88                                  |  1.365692                           | 89                                  | $355.01                             | 2010                                | \n",
       "| Something Borrowed                  | 48                                  |  1.719514                           | 15                                  | $60.18                              | 2011                                | \n",
       "| She's Out of My League              | 60                                  |  2.440500                           | 57                                  | $48.81                              | 2010                                | \n",
       "| Sex and the City Two                | 49                                  |  2.883500                           | 15                                  | $288.35                             | 2010                                | \n",
       "| Sex and the City 2                  | 49                                  |  2.883500                           | 15                                  | $288.35                             | 2010                                | \n",
       "| Sex and the City                    | 81                                  |  7.221796                           | 49                                  | $415.25                             | 2008                                | \n",
       "| Remember Me                         | 70                                  |  3.491250                           | 28                                  | $55.86                              | 2010                                | \n",
       "| Rachel Getting Married              | 61                                  |  1.384167                           | 85                                  | $16.61                              | 2008                                | \n",
       "| ... | ... | ... | ... | ... | ... | \n",
       "| Made of Honor                      | 61                                 |  2.6490683                         | 13                                 | $105.96                            | 2008                               | \n",
       "| Love Happens                       | 40                                 |  2.0044444                         | 18                                 | $36.08                             | 2009                               | \n",
       "| Love & Other Drugs                 | 55                                 |  1.8176667                         | 48                                 | $54.53                             | 2010                               | \n",
       "| Life as We Know It                 | 62                                 |  2.5305263                         | 28                                 | $96.16                             | 2010                               | \n",
       "| License to Wed                     | 55                                 |  1.9802064                         |  8                                 | $69.31                             | 2007                               | \n",
       "| Letters to Juliet                  | 62                                 |  2.6393333                         | 40                                 | $79.18                             | 2010                               | \n",
       "| Leap Year                          | 49                                 |  1.7152632                         | 21                                 | $32.59                             | 2010                               | \n",
       "| Knocked Up                         | 83                                 |  6.6364018                         | 91                                 | $219                               | 2007                               | \n",
       "| Killers                            | 45                                 |  1.2453333                         | 11                                 | $93.40                             | 2010                               | \n",
       "| Just Wright                        | 58                                 |  1.7974167                         | 45                                 | $21.57                             | 2010                               | \n",
       "| Jane Eyre                          | 77                                 |  0.0000000                         | 85                                 | $30.15                             | 2011                               | \n",
       "| It's Complicated                   | 63                                 |  2.6423529                         | 56                                 | $224.60                            | 2009                               | \n",
       "| I Love You Phillip Morris          | 57                                 |  1.3400000                         | 71                                 | $20.10                             | 2010                               | \n",
       "| High School Musical 3: Senior Year | 76                                 | 22.9131365                         | 65                                 | $252.04                            | 2008                               | \n",
       "| He's Just Not That Into You        | 60                                 |  7.1536000                         | 42                                 | $178.84                            | 2009                               | \n",
       "| Good Luck Chuck                    | 61                                 |  2.3676851                         |  3                                 | $59.19                             | 2007                               | \n",
       "| Going the Distance                 | 56                                 |  1.3140625                         | 53                                 | $42.05                             | 2010                               | \n",
       "| Gnomeo and Juliet                  | 52                                 |  5.3879722                         | 56                                 | $193.97                            | 2011                               | \n",
       "| Gnomeo and Juliet                  | 52                                 |  5.3879722                         | 56                                 | $193.97                            | 2011                               | \n",
       "| Ghosts of Girlfriends Past         | 47                                 |  2.0444000                         | 27                                 | $102.22                            | 2009                               | \n",
       "| Four Christmases                   | 52                                 |  2.0229250                         | 26                                 | $161.83                            | 2008                               | \n",
       "| Fireproof                          | 51                                 | 66.9340000                         | 40                                 | $33.47                             | 2008                               | \n",
       "| Enchanted                          | 80                                 |  4.0057371                         | 93                                 | $340.49                            | 2007                               | \n",
       "| Dear John                          | 66                                 |  4.5988000                         | 29                                 | $114.97                            | 2010                               | \n",
       "| Beginners                          | 80                                 |  4.4718750                         | 84                                 | $14.31                             | 2011                               | \n",
       "| Across the Universe                | 84                                 |  0.6526032                         | 54                                 | $29.37                             | 2007                               | \n",
       "| A Serious Man                      | 64                                 |  4.3828571                         | 89                                 | $30.68                             | 2009                               | \n",
       "| A Dangerous Method                 | 89                                 |  0.4486447                         | 79                                 | $8.97                              | 2011                               | \n",
       "| 27 Dresses                         | 71                                 |  5.3436218                         | 40                                 | $160.31                            | 2008                               | \n",
       "| (500) Days of Summer               | 81                                 |  8.0960000                         | 87                                 | $60.72                             | 2009                               | \n",
       "\n",
       "\n"
      ],
      "text/plain": [
       "    Film                                Audience score % Profitability\n",
       "1   Zack and Miri Make a Porno          70                1.747542    \n",
       "2   Youth in Revolt                     52                1.090000    \n",
       "3   You Will Meet a Tall Dark Stranger  35                1.211818    \n",
       "4   When in Rome                        44                0.000000    \n",
       "5   What Happens in Vegas               72                6.267647    \n",
       "6   Water For Elephants                 72                3.081421    \n",
       "7   WALL-E                              89                2.896019    \n",
       "8   Waitress                            67               11.089742    \n",
       "9   Waiting For Forever                 53                0.005000    \n",
       "10  Valentine's Day                     54                4.184038    \n",
       "11  Tyler Perry's Why Did I get Married 47                3.724192    \n",
       "12  Twilight: Breaking Dawn             68                6.383364    \n",
       "13  Twilight                            82               10.180027    \n",
       "14  The Ugly Truth                      68                5.402632    \n",
       "15  The Twilight Saga: New Moon         78               14.196400    \n",
       "16  The Time Traveler's Wife            65                2.598205    \n",
       "17  The Proposal                        74                7.867500    \n",
       "18  The Invention of Lying              47                1.751351    \n",
       "19  The Heartbreak Kid                  41                2.129444    \n",
       "20  The Duchess                         68                3.207850    \n",
       "21  The Curious Case of Benjamin Button 81                1.783944    \n",
       "22  The Back-up Plan                    47                2.202571    \n",
       "23  Tangled                             88                1.365692    \n",
       "24  Something Borrowed                  48                1.719514    \n",
       "25  She's Out of My League              60                2.440500    \n",
       "26  Sex and the City Two                49                2.883500    \n",
       "27  Sex and the City 2                  49                2.883500    \n",
       "28  Sex and the City                    81                7.221796    \n",
       "29  Remember Me                         70                3.491250    \n",
       "30  Rachel Getting Married              61                1.384167    \n",
       "... ...                                 ...              ...          \n",
       "48  Made of Honor                       61                2.6490683   \n",
       "49  Love Happens                        40                2.0044444   \n",
       "50  Love & Other Drugs                  55                1.8176667   \n",
       "51  Life as We Know It                  62                2.5305263   \n",
       "52  License to Wed                      55                1.9802064   \n",
       "53  Letters to Juliet                   62                2.6393333   \n",
       "54  Leap Year                           49                1.7152632   \n",
       "55  Knocked Up                          83                6.6364018   \n",
       "56  Killers                             45                1.2453333   \n",
       "57  Just Wright                         58                1.7974167   \n",
       "58  Jane Eyre                           77                0.0000000   \n",
       "59  It's Complicated                    63                2.6423529   \n",
       "60  I Love You Phillip Morris           57                1.3400000   \n",
       "61  High School Musical 3: Senior Year  76               22.9131365   \n",
       "62  He's Just Not That Into You         60                7.1536000   \n",
       "63  Good Luck Chuck                     61                2.3676851   \n",
       "64  Going the Distance                  56                1.3140625   \n",
       "65  Gnomeo and Juliet                   52                5.3879722   \n",
       "66  Gnomeo and Juliet                   52                5.3879722   \n",
       "67  Ghosts of Girlfriends Past          47                2.0444000   \n",
       "68  Four Christmases                    52                2.0229250   \n",
       "69  Fireproof                           51               66.9340000   \n",
       "70  Enchanted                           80                4.0057371   \n",
       "71  Dear John                           66                4.5988000   \n",
       "72  Beginners                           80                4.4718750   \n",
       "73  Across the Universe                 84                0.6526032   \n",
       "74  A Serious Man                       64                4.3828571   \n",
       "75  A Dangerous Method                  89                0.4486447   \n",
       "76  27 Dresses                          71                5.3436218   \n",
       "77  (500) Days of Summer                81                8.0960000   \n",
       "    Rotten Tomatoes % Worldwide Gross Year\n",
       "1   64                $41.94          2008\n",
       "2   68                $19.62          2010\n",
       "3   43                $26.66          2010\n",
       "4   15                $43.04          2010\n",
       "5   28                $219.37         2008\n",
       "6   60                $117.09         2011\n",
       "7   96                $521.28         2008\n",
       "8   89                $22.18          2007\n",
       "9    6                $0.03           2011\n",
       "10  17                $217.57         2010\n",
       "11  46                $55.86          2007\n",
       "12  26                $702.17         2011\n",
       "13  49                $376.66         2008\n",
       "14  14                $205.30         2009\n",
       "15  27                $709.82         2009\n",
       "16  38                $101.33         2009\n",
       "17  43                $314.70         2009\n",
       "18  56                $32.40          2009\n",
       "19  30                $127.77         2007\n",
       "20  60                $43.31          2008\n",
       "21  73                $285.43         2008\n",
       "22  20                $77.09          2010\n",
       "23  89                $355.01         2010\n",
       "24  15                $60.18          2011\n",
       "25  57                $48.81          2010\n",
       "26  15                $288.35         2010\n",
       "27  15                $288.35         2010\n",
       "28  49                $415.25         2008\n",
       "29  28                $55.86          2010\n",
       "30  85                $16.61          2008\n",
       "... ...               ...             ... \n",
       "48  13                $105.96         2008\n",
       "49  18                $36.08          2009\n",
       "50  48                $54.53          2010\n",
       "51  28                $96.16          2010\n",
       "52   8                $69.31          2007\n",
       "53  40                $79.18          2010\n",
       "54  21                $32.59          2010\n",
       "55  91                $219            2007\n",
       "56  11                $93.40          2010\n",
       "57  45                $21.57          2010\n",
       "58  85                $30.15          2011\n",
       "59  56                $224.60         2009\n",
       "60  71                $20.10          2010\n",
       "61  65                $252.04         2008\n",
       "62  42                $178.84         2009\n",
       "63   3                $59.19          2007\n",
       "64  53                $42.05          2010\n",
       "65  56                $193.97         2011\n",
       "66  56                $193.97         2011\n",
       "67  27                $102.22         2009\n",
       "68  26                $161.83         2008\n",
       "69  40                $33.47          2008\n",
       "70  93                $340.49         2007\n",
       "71  29                $114.97         2010\n",
       "72  84                $14.31          2011\n",
       "73  54                $29.37          2007\n",
       "74  89                $30.68          2009\n",
       "75  79                $8.97           2011\n",
       "76  40                $160.31         2008\n",
       "77  87                $60.72          2009"
      ]
     },
     "metadata": {},
     "output_type": "display_data"
    }
   ],
   "source": [
    "selectFunc <- movies %>%\n",
    "select(-Genre, -`Lead Studio`)\n",
    "\n",
    "selectFunc"
   ]
  },
  {
   "cell_type": "markdown",
   "metadata": {
    "deletable": true,
    "editable": true
   },
   "source": [
    "Review\n",
    "\n",
    "There you have it! With the power of readr and dplyr in your hands, you can now:\n",
    "\n",
    "    load data from a CSV into a data frame\n",
    "    inspect the data frame with head() and summary()\n",
    "    select() the columns you want to analyze\n",
    "    filter() the rows with comparison and logical operators\n",
    "    arrange() rows in ascending or descending order\n",
    "\n",
    "You’ve also been exposed to the pipe %>%, a powerful tool for chaining function calls, as well as the general principles of data manipulation.\n",
    "\n",
    "Now that you are well on your way to being a dplyr master, let’s combine what you have learned together to perform an analysis and see the true power of the pipe!\n"
   ]
  },
  {
   "cell_type": "markdown",
   "metadata": {
    "deletable": true,
    "editable": true
   },
   "source": [
    "## MUTATE\n",
    "\n",
    "Adding a Column\n",
    "\n",
    "Sometimes you might want to add a new column to a data frame. This new column could be a calculation based on the data that you already have.\n",
    "\n",
    "Suppose you own a hardware store called The Handy Woman and have a data frame containing inventory information:\n",
    "\n",
    "product_id \t product_description \t cost_to_manufacture \t price \t  sales_tax\n",
    "\n",
    "1 \t  3 inch screw \t  0.50 \t  0.75 \t  0.06\n",
    "\n",
    "2 \t  2 inch nail \t  0.10 \t  0.25 \t  0.02\n",
    "\n",
    "3 \t  hammer \t  3.00 \t  5.50 \t  0.41\n",
    "\n",
    "4 \t  screwdriver \t  2.50 \t  3.00 \t  0.22\n",
    "\n",
    "\n",
    "You can add a new column to the data frame using the mutate() function. mutate() takes a name-value pair as an argument. The name will be the name of the new column you are adding, and the value is an expression defining the values of the new column in terms of the existing columns. mutate() returns a new data frame with the added column.\n",
    "\n",
    "Maybe you want to add a column to your inventory table with the amount of sales tax that is charged for each item. The following code multiplies each price by 0.075, the sales tax in your state:\n",
    "\n",
    "df %>%\n",
    "\n",
    "  mutate(sales_tax = price * 0.075)\n",
    "\n",
    "Now the inventory table has a column called sales_tax, where the value is 0.075 * price:\n",
    "\n",
    "product_id \t product_description \t cost_to_manufacture \t price \t  sales_tax\n",
    "\n",
    "1 \t  3 inch screw \t  0.50 \t  0.75 \t  0.06\n",
    "\n",
    "2 \t  2 inch nail \t  0.10 \t  0.25 \t  0.02\n",
    "\n",
    "3 \t  hammer \t  3.00 \t  5.50 \t  0.41\n",
    "\n",
    "4 \t  screwdriver \t  2.50 \t  3.00 \t  0.22\n",
    "\n",
    "\n",
    "\n"
   ]
  },
  {
   "cell_type": "code",
   "execution_count": 8,
   "metadata": {
    "collapsed": false,
    "deletable": true,
    "editable": true
   },
   "outputs": [
    {
     "data": {
      "text/html": [
       "<table>\n",
       "<thead><tr><th scope=col>Film</th><th scope=col>Genre</th><th scope=col>Lead Studio</th><th scope=col>Audience score %</th><th scope=col>Profitability</th><th scope=col>Rotten Tomatoes %</th><th scope=col>Worldwide Gross</th><th scope=col>Year</th><th scope=col>Score</th></tr></thead>\n",
       "<tbody>\n",
       "\t<tr><td>Zack and Miri Make a Porno         </td><td>Romance                            </td><td>The Weinstein Company              </td><td>70                                 </td><td> 1.747542                          </td><td>64                                 </td><td>$41.94                             </td><td>2008                               </td><td>67.0                               </td></tr>\n",
       "\t<tr><td>Youth in Revolt                    </td><td>Comedy                             </td><td>The Weinstein Company              </td><td>52                                 </td><td> 1.090000                          </td><td>68                                 </td><td>$19.62                             </td><td>2010                               </td><td>60.0                               </td></tr>\n",
       "\t<tr><td>You Will Meet a Tall Dark Stranger </td><td>Comedy                             </td><td>Independent                        </td><td>35                                 </td><td> 1.211818                          </td><td>43                                 </td><td>$26.66                             </td><td>2010                               </td><td>39.0                               </td></tr>\n",
       "\t<tr><td>When in Rome                       </td><td>Comedy                             </td><td>Disney                             </td><td>44                                 </td><td> 0.000000                          </td><td>15                                 </td><td>$43.04                             </td><td>2010                               </td><td>29.5                               </td></tr>\n",
       "\t<tr><td>What Happens in Vegas              </td><td>Comedy                             </td><td>Fox                                </td><td>72                                 </td><td> 6.267647                          </td><td>28                                 </td><td>$219.37                            </td><td>2008                               </td><td>50.0                               </td></tr>\n",
       "\t<tr><td>Water For Elephants                </td><td>Drama                              </td><td>20th Century Fox                   </td><td>72                                 </td><td> 3.081421                          </td><td>60                                 </td><td>$117.09                            </td><td>2011                               </td><td>66.0                               </td></tr>\n",
       "\t<tr><td>WALL-E                             </td><td>Animation                          </td><td>Disney                             </td><td>89                                 </td><td> 2.896019                          </td><td>96                                 </td><td>$521.28                            </td><td>2008                               </td><td>92.5                               </td></tr>\n",
       "\t<tr><td>Waitress                           </td><td>Romance                            </td><td>Independent                        </td><td>67                                 </td><td>11.089742                          </td><td>89                                 </td><td>$22.18                             </td><td>2007                               </td><td>78.0                               </td></tr>\n",
       "\t<tr><td>Waiting For Forever                </td><td>Romance                            </td><td>Independent                        </td><td>53                                 </td><td> 0.005000                          </td><td> 6                                 </td><td>$0.03                              </td><td>2011                               </td><td>29.5                               </td></tr>\n",
       "\t<tr><td>Valentine's Day                    </td><td>Comedy                             </td><td>Warner Bros.                       </td><td>54                                 </td><td> 4.184038                          </td><td>17                                 </td><td>$217.57                            </td><td>2010                               </td><td>35.5                               </td></tr>\n",
       "\t<tr><td>Tyler Perry's Why Did I get Married</td><td>Romance                            </td><td>Independent                        </td><td>47                                 </td><td> 3.724192                          </td><td>46                                 </td><td>$55.86                             </td><td>2007                               </td><td>46.5                               </td></tr>\n",
       "\t<tr><td>Twilight: Breaking Dawn            </td><td>Romance                            </td><td>Independent                        </td><td>68                                 </td><td> 6.383364                          </td><td>26                                 </td><td>$702.17                            </td><td>2011                               </td><td>47.0                               </td></tr>\n",
       "\t<tr><td>Twilight                           </td><td>Romance                            </td><td>Summit                             </td><td>82                                 </td><td>10.180027                          </td><td>49                                 </td><td>$376.66                            </td><td>2008                               </td><td>65.5                               </td></tr>\n",
       "\t<tr><td>The Ugly Truth                     </td><td>Comedy                             </td><td>Independent                        </td><td>68                                 </td><td> 5.402632                          </td><td>14                                 </td><td>$205.30                            </td><td>2009                               </td><td>41.0                               </td></tr>\n",
       "\t<tr><td>The Twilight Saga: New Moon        </td><td>Drama                              </td><td>Summit                             </td><td>78                                 </td><td>14.196400                          </td><td>27                                 </td><td>$709.82                            </td><td>2009                               </td><td>52.5                               </td></tr>\n",
       "\t<tr><td>The Time Traveler's Wife           </td><td>Drama                              </td><td>Paramount                          </td><td>65                                 </td><td> 2.598205                          </td><td>38                                 </td><td>$101.33                            </td><td>2009                               </td><td>51.5                               </td></tr>\n",
       "\t<tr><td>The Proposal                       </td><td>Comedy                             </td><td>Disney                             </td><td>74                                 </td><td> 7.867500                          </td><td>43                                 </td><td>$314.70                            </td><td>2009                               </td><td>58.5                               </td></tr>\n",
       "\t<tr><td>The Invention of Lying             </td><td>Comedy                             </td><td>Warner Bros.                       </td><td>47                                 </td><td> 1.751351                          </td><td>56                                 </td><td>$32.40                             </td><td>2009                               </td><td>51.5                               </td></tr>\n",
       "\t<tr><td>The Heartbreak Kid                 </td><td>Comedy                             </td><td>Paramount                          </td><td>41                                 </td><td> 2.129444                          </td><td>30                                 </td><td>$127.77                            </td><td>2007                               </td><td>35.5                               </td></tr>\n",
       "\t<tr><td>The Duchess                        </td><td>Drama                              </td><td>Paramount                          </td><td>68                                 </td><td> 3.207850                          </td><td>60                                 </td><td>$43.31                             </td><td>2008                               </td><td>64.0                               </td></tr>\n",
       "\t<tr><td>The Curious Case of Benjamin Button</td><td>Fantasy                            </td><td>Warner Bros.                       </td><td>81                                 </td><td> 1.783944                          </td><td>73                                 </td><td>$285.43                            </td><td>2008                               </td><td>77.0                               </td></tr>\n",
       "\t<tr><td>The Back-up Plan                   </td><td>Comedy                             </td><td>CBS                                </td><td>47                                 </td><td> 2.202571                          </td><td>20                                 </td><td>$77.09                             </td><td>2010                               </td><td>33.5                               </td></tr>\n",
       "\t<tr><td>Tangled                            </td><td>Animation                          </td><td>Disney                             </td><td>88                                 </td><td> 1.365692                          </td><td>89                                 </td><td>$355.01                            </td><td>2010                               </td><td>88.5                               </td></tr>\n",
       "\t<tr><td>Something Borrowed                 </td><td>Romance                            </td><td>Independent                        </td><td>48                                 </td><td> 1.719514                          </td><td>15                                 </td><td>$60.18                             </td><td>2011                               </td><td>31.5                               </td></tr>\n",
       "\t<tr><td>She's Out of My League             </td><td>Comedy                             </td><td>Paramount                          </td><td>60                                 </td><td> 2.440500                          </td><td>57                                 </td><td>$48.81                             </td><td>2010                               </td><td>58.5                               </td></tr>\n",
       "\t<tr><td>Sex and the City Two               </td><td>Comedy                             </td><td>Warner Bros.                       </td><td>49                                 </td><td> 2.883500                          </td><td>15                                 </td><td>$288.35                            </td><td>2010                               </td><td>32.0                               </td></tr>\n",
       "\t<tr><td>Sex and the City 2                 </td><td>Comedy                             </td><td>Warner Bros.                       </td><td>49                                 </td><td> 2.883500                          </td><td>15                                 </td><td>$288.35                            </td><td>2010                               </td><td>32.0                               </td></tr>\n",
       "\t<tr><td>Sex and the City                   </td><td>Comedy                             </td><td>Warner Bros.                       </td><td>81                                 </td><td> 7.221796                          </td><td>49                                 </td><td>$415.25                            </td><td>2008                               </td><td>65.0                               </td></tr>\n",
       "\t<tr><td>Remember Me                        </td><td>Drama                              </td><td>Summit                             </td><td>70                                 </td><td> 3.491250                          </td><td>28                                 </td><td>$55.86                             </td><td>2010                               </td><td>49.0                               </td></tr>\n",
       "\t<tr><td>Rachel Getting Married             </td><td>Drama                              </td><td>Independent                        </td><td>61                                 </td><td> 1.384167                          </td><td>85                                 </td><td>$16.61                             </td><td>2008                               </td><td>73.0                               </td></tr>\n",
       "\t<tr><td>...</td><td>...</td><td>...</td><td>...</td><td>...</td><td>...</td><td>...</td><td>...</td><td>...</td></tr>\n",
       "\t<tr><td>Made of Honor                     </td><td>Comdy                             </td><td>Sony                              </td><td>61                                </td><td> 2.6490683                        </td><td>13                                </td><td>$105.96                           </td><td>2008                              </td><td>37.0                              </td></tr>\n",
       "\t<tr><td>Love Happens                      </td><td>Drama                             </td><td>Universal                         </td><td>40                                </td><td> 2.0044444                        </td><td>18                                </td><td>$36.08                            </td><td>2009                              </td><td>29.0                              </td></tr>\n",
       "\t<tr><td><span style=white-space:pre-wrap>Love &amp; Other Drugs                </span></td><td><span style=white-space:pre-wrap>Comedy   </span>                             </td><td><span style=white-space:pre-wrap>Fox         </span>                          </td><td>55                                                                            </td><td> 1.8176667                                                                    </td><td>48                                                                            </td><td>$54.53                                                                        </td><td>2010                                                                          </td><td>51.5                                                                          </td></tr>\n",
       "\t<tr><td>Life as We Know It                </td><td>Comedy                            </td><td>Independent                       </td><td>62                                </td><td> 2.5305263                        </td><td>28                                </td><td>$96.16                            </td><td>2010                              </td><td>45.0                              </td></tr>\n",
       "\t<tr><td>License to Wed                    </td><td>Comedy                            </td><td>Warner Bros.                      </td><td>55                                </td><td> 1.9802064                        </td><td> 8                                </td><td>$69.31                            </td><td>2007                              </td><td>31.5                              </td></tr>\n",
       "\t<tr><td>Letters to Juliet                 </td><td>Comedy                            </td><td>Summit                            </td><td>62                                </td><td> 2.6393333                        </td><td>40                                </td><td>$79.18                            </td><td>2010                              </td><td>51.0                              </td></tr>\n",
       "\t<tr><td>Leap Year                         </td><td>Comedy                            </td><td>Universal                         </td><td>49                                </td><td> 1.7152632                        </td><td>21                                </td><td>$32.59                            </td><td>2010                              </td><td>35.0                              </td></tr>\n",
       "\t<tr><td>Knocked Up                        </td><td>Comedy                            </td><td>Universal                         </td><td>83                                </td><td> 6.6364018                        </td><td>91                                </td><td>$219                              </td><td>2007                              </td><td>87.0                              </td></tr>\n",
       "\t<tr><td>Killers                           </td><td>Action                            </td><td>Lionsgate                         </td><td>45                                </td><td> 1.2453333                        </td><td>11                                </td><td>$93.40                            </td><td>2010                              </td><td>28.0                              </td></tr>\n",
       "\t<tr><td>Just Wright                       </td><td>Comedy                            </td><td>Fox                               </td><td>58                                </td><td> 1.7974167                        </td><td>45                                </td><td>$21.57                            </td><td>2010                              </td><td>51.5                              </td></tr>\n",
       "\t<tr><td>Jane Eyre                         </td><td>Romance                           </td><td>Universal                         </td><td>77                                </td><td> 0.0000000                        </td><td>85                                </td><td>$30.15                            </td><td>2011                              </td><td>81.0                              </td></tr>\n",
       "\t<tr><td>It's Complicated                  </td><td>Comedy                            </td><td>Universal                         </td><td>63                                </td><td> 2.6423529                        </td><td>56                                </td><td>$224.60                           </td><td>2009                              </td><td>59.5                              </td></tr>\n",
       "\t<tr><td>I Love You Phillip Morris         </td><td>Comedy                            </td><td>Independent                       </td><td>57                                </td><td> 1.3400000                        </td><td>71                                </td><td>$20.10                            </td><td>2010                              </td><td>64.0                              </td></tr>\n",
       "\t<tr><td>High School Musical 3: Senior Year</td><td>Comedy                            </td><td>Disney                            </td><td>76                                </td><td>22.9131365                        </td><td>65                                </td><td>$252.04                           </td><td>2008                              </td><td>70.5                              </td></tr>\n",
       "\t<tr><td>He's Just Not That Into You       </td><td>Comedy                            </td><td>Warner Bros.                      </td><td>60                                </td><td> 7.1536000                        </td><td>42                                </td><td>$178.84                           </td><td>2009                              </td><td>51.0                              </td></tr>\n",
       "\t<tr><td>Good Luck Chuck                   </td><td>Comedy                            </td><td>Lionsgate                         </td><td>61                                </td><td> 2.3676851                        </td><td> 3                                </td><td>$59.19                            </td><td>2007                              </td><td>32.0                              </td></tr>\n",
       "\t<tr><td>Going the Distance                </td><td>Comedy                            </td><td>Warner Bros.                      </td><td>56                                </td><td> 1.3140625                        </td><td>53                                </td><td>$42.05                            </td><td>2010                              </td><td>54.5                              </td></tr>\n",
       "\t<tr><td>Gnomeo and Juliet                 </td><td>Animation                         </td><td>Disney                            </td><td>52                                </td><td> 5.3879722                        </td><td>56                                </td><td>$193.97                           </td><td>2011                              </td><td>54.0                              </td></tr>\n",
       "\t<tr><td>Gnomeo and Juliet                 </td><td>Animation                         </td><td>Disney                            </td><td>52                                </td><td> 5.3879722                        </td><td>56                                </td><td>$193.97                           </td><td>2011                              </td><td>54.0                              </td></tr>\n",
       "\t<tr><td>Ghosts of Girlfriends Past        </td><td>Comedy                            </td><td>Warner Bros.                      </td><td>47                                </td><td> 2.0444000                        </td><td>27                                </td><td>$102.22                           </td><td>2009                              </td><td>37.0                              </td></tr>\n",
       "\t<tr><td>Four Christmases                  </td><td>Comedy                            </td><td>Warner Bros.                      </td><td>52                                </td><td> 2.0229250                        </td><td>26                                </td><td>$161.83                           </td><td>2008                              </td><td>39.0                              </td></tr>\n",
       "\t<tr><td>Fireproof                         </td><td>Drama                             </td><td>Independent                       </td><td>51                                </td><td>66.9340000                        </td><td>40                                </td><td>$33.47                            </td><td>2008                              </td><td>45.5                              </td></tr>\n",
       "\t<tr><td>Enchanted                         </td><td>Comedy                            </td><td>Disney                            </td><td>80                                </td><td> 4.0057371                        </td><td>93                                </td><td>$340.49                           </td><td>2007                              </td><td>86.5                              </td></tr>\n",
       "\t<tr><td>Dear John                         </td><td>Drama                             </td><td>Sony                              </td><td>66                                </td><td> 4.5988000                        </td><td>29                                </td><td>$114.97                           </td><td>2010                              </td><td>47.5                              </td></tr>\n",
       "\t<tr><td>Beginners                         </td><td>Comedy                            </td><td>Independent                       </td><td>80                                </td><td> 4.4718750                        </td><td>84                                </td><td>$14.31                            </td><td>2011                              </td><td>82.0                              </td></tr>\n",
       "\t<tr><td>Across the Universe               </td><td>romance                           </td><td>Independent                       </td><td>84                                </td><td> 0.6526032                        </td><td>54                                </td><td>$29.37                            </td><td>2007                              </td><td>69.0                              </td></tr>\n",
       "\t<tr><td>A Serious Man                     </td><td>Drama                             </td><td>Universal                         </td><td>64                                </td><td> 4.3828571                        </td><td>89                                </td><td>$30.68                            </td><td>2009                              </td><td>76.5                              </td></tr>\n",
       "\t<tr><td>A Dangerous Method                </td><td>Drama                             </td><td>Independent                       </td><td>89                                </td><td> 0.4486447                        </td><td>79                                </td><td>$8.97                             </td><td>2011                              </td><td>84.0                              </td></tr>\n",
       "\t<tr><td>27 Dresses                        </td><td>Comedy                            </td><td>Fox                               </td><td>71                                </td><td> 5.3436218                        </td><td>40                                </td><td>$160.31                           </td><td>2008                              </td><td>55.5                              </td></tr>\n",
       "\t<tr><td>(500) Days of Summer              </td><td>comedy                            </td><td>Fox                               </td><td>81                                </td><td> 8.0960000                        </td><td>87                                </td><td>$60.72                            </td><td>2009                              </td><td>84.0                              </td></tr>\n",
       "</tbody>\n",
       "</table>\n"
      ],
      "text/latex": [
       "\\begin{tabular}{r|lllllllll}\n",
       " Film & Genre & Lead Studio & Audience score \\% & Profitability & Rotten Tomatoes \\% & Worldwide Gross & Year & Score\\\\\n",
       "\\hline\n",
       "\t Zack and Miri Make a Porno          & Romance                             & The Weinstein Company               & 70                                  &  1.747542                           & 64                                  & \\$41.94                            & 2008                                & 67.0                               \\\\\n",
       "\t Youth in Revolt                     & Comedy                              & The Weinstein Company               & 52                                  &  1.090000                           & 68                                  & \\$19.62                            & 2010                                & 60.0                               \\\\\n",
       "\t You Will Meet a Tall Dark Stranger  & Comedy                              & Independent                         & 35                                  &  1.211818                           & 43                                  & \\$26.66                            & 2010                                & 39.0                               \\\\\n",
       "\t When in Rome                        & Comedy                              & Disney                              & 44                                  &  0.000000                           & 15                                  & \\$43.04                            & 2010                                & 29.5                               \\\\\n",
       "\t What Happens in Vegas               & Comedy                              & Fox                                 & 72                                  &  6.267647                           & 28                                  & \\$219.37                           & 2008                                & 50.0                               \\\\\n",
       "\t Water For Elephants                 & Drama                               & 20th Century Fox                    & 72                                  &  3.081421                           & 60                                  & \\$117.09                           & 2011                                & 66.0                               \\\\\n",
       "\t WALL-E                              & Animation                           & Disney                              & 89                                  &  2.896019                           & 96                                  & \\$521.28                           & 2008                                & 92.5                               \\\\\n",
       "\t Waitress                            & Romance                             & Independent                         & 67                                  & 11.089742                           & 89                                  & \\$22.18                            & 2007                                & 78.0                               \\\\\n",
       "\t Waiting For Forever                 & Romance                             & Independent                         & 53                                  &  0.005000                           &  6                                  & \\$0.03                             & 2011                                & 29.5                               \\\\\n",
       "\t Valentine's Day                     & Comedy                              & Warner Bros.                        & 54                                  &  4.184038                           & 17                                  & \\$217.57                           & 2010                                & 35.5                               \\\\\n",
       "\t Tyler Perry's Why Did I get Married & Romance                             & Independent                         & 47                                  &  3.724192                           & 46                                  & \\$55.86                            & 2007                                & 46.5                               \\\\\n",
       "\t Twilight: Breaking Dawn             & Romance                             & Independent                         & 68                                  &  6.383364                           & 26                                  & \\$702.17                           & 2011                                & 47.0                               \\\\\n",
       "\t Twilight                            & Romance                             & Summit                              & 82                                  & 10.180027                           & 49                                  & \\$376.66                           & 2008                                & 65.5                               \\\\\n",
       "\t The Ugly Truth                      & Comedy                              & Independent                         & 68                                  &  5.402632                           & 14                                  & \\$205.30                           & 2009                                & 41.0                               \\\\\n",
       "\t The Twilight Saga: New Moon         & Drama                               & Summit                              & 78                                  & 14.196400                           & 27                                  & \\$709.82                           & 2009                                & 52.5                               \\\\\n",
       "\t The Time Traveler's Wife            & Drama                               & Paramount                           & 65                                  &  2.598205                           & 38                                  & \\$101.33                           & 2009                                & 51.5                               \\\\\n",
       "\t The Proposal                        & Comedy                              & Disney                              & 74                                  &  7.867500                           & 43                                  & \\$314.70                           & 2009                                & 58.5                               \\\\\n",
       "\t The Invention of Lying              & Comedy                              & Warner Bros.                        & 47                                  &  1.751351                           & 56                                  & \\$32.40                            & 2009                                & 51.5                               \\\\\n",
       "\t The Heartbreak Kid                  & Comedy                              & Paramount                           & 41                                  &  2.129444                           & 30                                  & \\$127.77                           & 2007                                & 35.5                               \\\\\n",
       "\t The Duchess                         & Drama                               & Paramount                           & 68                                  &  3.207850                           & 60                                  & \\$43.31                            & 2008                                & 64.0                               \\\\\n",
       "\t The Curious Case of Benjamin Button & Fantasy                             & Warner Bros.                        & 81                                  &  1.783944                           & 73                                  & \\$285.43                           & 2008                                & 77.0                               \\\\\n",
       "\t The Back-up Plan                    & Comedy                              & CBS                                 & 47                                  &  2.202571                           & 20                                  & \\$77.09                            & 2010                                & 33.5                               \\\\\n",
       "\t Tangled                             & Animation                           & Disney                              & 88                                  &  1.365692                           & 89                                  & \\$355.01                           & 2010                                & 88.5                               \\\\\n",
       "\t Something Borrowed                  & Romance                             & Independent                         & 48                                  &  1.719514                           & 15                                  & \\$60.18                            & 2011                                & 31.5                               \\\\\n",
       "\t She's Out of My League              & Comedy                              & Paramount                           & 60                                  &  2.440500                           & 57                                  & \\$48.81                            & 2010                                & 58.5                               \\\\\n",
       "\t Sex and the City Two                & Comedy                              & Warner Bros.                        & 49                                  &  2.883500                           & 15                                  & \\$288.35                           & 2010                                & 32.0                               \\\\\n",
       "\t Sex and the City 2                  & Comedy                              & Warner Bros.                        & 49                                  &  2.883500                           & 15                                  & \\$288.35                           & 2010                                & 32.0                               \\\\\n",
       "\t Sex and the City                    & Comedy                              & Warner Bros.                        & 81                                  &  7.221796                           & 49                                  & \\$415.25                           & 2008                                & 65.0                               \\\\\n",
       "\t Remember Me                         & Drama                               & Summit                              & 70                                  &  3.491250                           & 28                                  & \\$55.86                            & 2010                                & 49.0                               \\\\\n",
       "\t Rachel Getting Married              & Drama                               & Independent                         & 61                                  &  1.384167                           & 85                                  & \\$16.61                            & 2008                                & 73.0                               \\\\\n",
       "\t ... & ... & ... & ... & ... & ... & ... & ... & ...\\\\\n",
       "\t Made of Honor                      & Comdy                              & Sony                               & 61                                 &  2.6490683                         & 13                                 & \\$105.96                          & 2008                               & 37.0                              \\\\\n",
       "\t Love Happens                       & Drama                              & Universal                          & 40                                 &  2.0044444                         & 18                                 & \\$36.08                           & 2009                               & 29.0                              \\\\\n",
       "\t Love \\& Other Drugs                 & Comedy                               & Fox                                  & 55                                   &  1.8176667                           & 48                                   & \\$54.53                             & 2010                                 & 51.5                                \\\\\n",
       "\t Life as We Know It                 & Comedy                             & Independent                        & 62                                 &  2.5305263                         & 28                                 & \\$96.16                           & 2010                               & 45.0                              \\\\\n",
       "\t License to Wed                     & Comedy                             & Warner Bros.                       & 55                                 &  1.9802064                         &  8                                 & \\$69.31                           & 2007                               & 31.5                              \\\\\n",
       "\t Letters to Juliet                  & Comedy                             & Summit                             & 62                                 &  2.6393333                         & 40                                 & \\$79.18                           & 2010                               & 51.0                              \\\\\n",
       "\t Leap Year                          & Comedy                             & Universal                          & 49                                 &  1.7152632                         & 21                                 & \\$32.59                           & 2010                               & 35.0                              \\\\\n",
       "\t Knocked Up                         & Comedy                             & Universal                          & 83                                 &  6.6364018                         & 91                                 & \\$219                             & 2007                               & 87.0                              \\\\\n",
       "\t Killers                            & Action                             & Lionsgate                          & 45                                 &  1.2453333                         & 11                                 & \\$93.40                           & 2010                               & 28.0                              \\\\\n",
       "\t Just Wright                        & Comedy                             & Fox                                & 58                                 &  1.7974167                         & 45                                 & \\$21.57                           & 2010                               & 51.5                              \\\\\n",
       "\t Jane Eyre                          & Romance                            & Universal                          & 77                                 &  0.0000000                         & 85                                 & \\$30.15                           & 2011                               & 81.0                              \\\\\n",
       "\t It's Complicated                   & Comedy                             & Universal                          & 63                                 &  2.6423529                         & 56                                 & \\$224.60                          & 2009                               & 59.5                              \\\\\n",
       "\t I Love You Phillip Morris          & Comedy                             & Independent                        & 57                                 &  1.3400000                         & 71                                 & \\$20.10                           & 2010                               & 64.0                              \\\\\n",
       "\t High School Musical 3: Senior Year & Comedy                             & Disney                             & 76                                 & 22.9131365                         & 65                                 & \\$252.04                          & 2008                               & 70.5                              \\\\\n",
       "\t He's Just Not That Into You        & Comedy                             & Warner Bros.                       & 60                                 &  7.1536000                         & 42                                 & \\$178.84                          & 2009                               & 51.0                              \\\\\n",
       "\t Good Luck Chuck                    & Comedy                             & Lionsgate                          & 61                                 &  2.3676851                         &  3                                 & \\$59.19                           & 2007                               & 32.0                              \\\\\n",
       "\t Going the Distance                 & Comedy                             & Warner Bros.                       & 56                                 &  1.3140625                         & 53                                 & \\$42.05                           & 2010                               & 54.5                              \\\\\n",
       "\t Gnomeo and Juliet                  & Animation                          & Disney                             & 52                                 &  5.3879722                         & 56                                 & \\$193.97                          & 2011                               & 54.0                              \\\\\n",
       "\t Gnomeo and Juliet                  & Animation                          & Disney                             & 52                                 &  5.3879722                         & 56                                 & \\$193.97                          & 2011                               & 54.0                              \\\\\n",
       "\t Ghosts of Girlfriends Past         & Comedy                             & Warner Bros.                       & 47                                 &  2.0444000                         & 27                                 & \\$102.22                          & 2009                               & 37.0                              \\\\\n",
       "\t Four Christmases                   & Comedy                             & Warner Bros.                       & 52                                 &  2.0229250                         & 26                                 & \\$161.83                          & 2008                               & 39.0                              \\\\\n",
       "\t Fireproof                          & Drama                              & Independent                        & 51                                 & 66.9340000                         & 40                                 & \\$33.47                           & 2008                               & 45.5                              \\\\\n",
       "\t Enchanted                          & Comedy                             & Disney                             & 80                                 &  4.0057371                         & 93                                 & \\$340.49                          & 2007                               & 86.5                              \\\\\n",
       "\t Dear John                          & Drama                              & Sony                               & 66                                 &  4.5988000                         & 29                                 & \\$114.97                          & 2010                               & 47.5                              \\\\\n",
       "\t Beginners                          & Comedy                             & Independent                        & 80                                 &  4.4718750                         & 84                                 & \\$14.31                           & 2011                               & 82.0                              \\\\\n",
       "\t Across the Universe                & romance                            & Independent                        & 84                                 &  0.6526032                         & 54                                 & \\$29.37                           & 2007                               & 69.0                              \\\\\n",
       "\t A Serious Man                      & Drama                              & Universal                          & 64                                 &  4.3828571                         & 89                                 & \\$30.68                           & 2009                               & 76.5                              \\\\\n",
       "\t A Dangerous Method                 & Drama                              & Independent                        & 89                                 &  0.4486447                         & 79                                 & \\$8.97                            & 2011                               & 84.0                              \\\\\n",
       "\t 27 Dresses                         & Comedy                             & Fox                                & 71                                 &  5.3436218                         & 40                                 & \\$160.31                          & 2008                               & 55.5                              \\\\\n",
       "\t (500) Days of Summer               & comedy                             & Fox                                & 81                                 &  8.0960000                         & 87                                 & \\$60.72                           & 2009                               & 84.0                              \\\\\n",
       "\\end{tabular}\n"
      ],
      "text/markdown": [
       "\n",
       "Film | Genre | Lead Studio | Audience score % | Profitability | Rotten Tomatoes % | Worldwide Gross | Year | Score | \n",
       "|---|---|---|---|---|---|---|---|---|---|---|---|---|---|---|---|---|---|---|---|---|---|---|---|---|---|---|---|---|---|---|---|---|---|---|---|---|---|---|---|---|---|---|---|---|---|---|---|---|---|---|---|---|---|---|---|---|---|---|---|---|\n",
       "| Zack and Miri Make a Porno          | Romance                             | The Weinstein Company               | 70                                  |  1.747542                           | 64                                  | $41.94                              | 2008                                | 67.0                                | \n",
       "| Youth in Revolt                     | Comedy                              | The Weinstein Company               | 52                                  |  1.090000                           | 68                                  | $19.62                              | 2010                                | 60.0                                | \n",
       "| You Will Meet a Tall Dark Stranger  | Comedy                              | Independent                         | 35                                  |  1.211818                           | 43                                  | $26.66                              | 2010                                | 39.0                                | \n",
       "| When in Rome                        | Comedy                              | Disney                              | 44                                  |  0.000000                           | 15                                  | $43.04                              | 2010                                | 29.5                                | \n",
       "| What Happens in Vegas               | Comedy                              | Fox                                 | 72                                  |  6.267647                           | 28                                  | $219.37                             | 2008                                | 50.0                                | \n",
       "| Water For Elephants                 | Drama                               | 20th Century Fox                    | 72                                  |  3.081421                           | 60                                  | $117.09                             | 2011                                | 66.0                                | \n",
       "| WALL-E                              | Animation                           | Disney                              | 89                                  |  2.896019                           | 96                                  | $521.28                             | 2008                                | 92.5                                | \n",
       "| Waitress                            | Romance                             | Independent                         | 67                                  | 11.089742                           | 89                                  | $22.18                              | 2007                                | 78.0                                | \n",
       "| Waiting For Forever                 | Romance                             | Independent                         | 53                                  |  0.005000                           |  6                                  | $0.03                               | 2011                                | 29.5                                | \n",
       "| Valentine's Day                     | Comedy                              | Warner Bros.                        | 54                                  |  4.184038                           | 17                                  | $217.57                             | 2010                                | 35.5                                | \n",
       "| Tyler Perry's Why Did I get Married | Romance                             | Independent                         | 47                                  |  3.724192                           | 46                                  | $55.86                              | 2007                                | 46.5                                | \n",
       "| Twilight: Breaking Dawn             | Romance                             | Independent                         | 68                                  |  6.383364                           | 26                                  | $702.17                             | 2011                                | 47.0                                | \n",
       "| Twilight                            | Romance                             | Summit                              | 82                                  | 10.180027                           | 49                                  | $376.66                             | 2008                                | 65.5                                | \n",
       "| The Ugly Truth                      | Comedy                              | Independent                         | 68                                  |  5.402632                           | 14                                  | $205.30                             | 2009                                | 41.0                                | \n",
       "| The Twilight Saga: New Moon         | Drama                               | Summit                              | 78                                  | 14.196400                           | 27                                  | $709.82                             | 2009                                | 52.5                                | \n",
       "| The Time Traveler's Wife            | Drama                               | Paramount                           | 65                                  |  2.598205                           | 38                                  | $101.33                             | 2009                                | 51.5                                | \n",
       "| The Proposal                        | Comedy                              | Disney                              | 74                                  |  7.867500                           | 43                                  | $314.70                             | 2009                                | 58.5                                | \n",
       "| The Invention of Lying              | Comedy                              | Warner Bros.                        | 47                                  |  1.751351                           | 56                                  | $32.40                              | 2009                                | 51.5                                | \n",
       "| The Heartbreak Kid                  | Comedy                              | Paramount                           | 41                                  |  2.129444                           | 30                                  | $127.77                             | 2007                                | 35.5                                | \n",
       "| The Duchess                         | Drama                               | Paramount                           | 68                                  |  3.207850                           | 60                                  | $43.31                              | 2008                                | 64.0                                | \n",
       "| The Curious Case of Benjamin Button | Fantasy                             | Warner Bros.                        | 81                                  |  1.783944                           | 73                                  | $285.43                             | 2008                                | 77.0                                | \n",
       "| The Back-up Plan                    | Comedy                              | CBS                                 | 47                                  |  2.202571                           | 20                                  | $77.09                              | 2010                                | 33.5                                | \n",
       "| Tangled                             | Animation                           | Disney                              | 88                                  |  1.365692                           | 89                                  | $355.01                             | 2010                                | 88.5                                | \n",
       "| Something Borrowed                  | Romance                             | Independent                         | 48                                  |  1.719514                           | 15                                  | $60.18                              | 2011                                | 31.5                                | \n",
       "| She's Out of My League              | Comedy                              | Paramount                           | 60                                  |  2.440500                           | 57                                  | $48.81                              | 2010                                | 58.5                                | \n",
       "| Sex and the City Two                | Comedy                              | Warner Bros.                        | 49                                  |  2.883500                           | 15                                  | $288.35                             | 2010                                | 32.0                                | \n",
       "| Sex and the City 2                  | Comedy                              | Warner Bros.                        | 49                                  |  2.883500                           | 15                                  | $288.35                             | 2010                                | 32.0                                | \n",
       "| Sex and the City                    | Comedy                              | Warner Bros.                        | 81                                  |  7.221796                           | 49                                  | $415.25                             | 2008                                | 65.0                                | \n",
       "| Remember Me                         | Drama                               | Summit                              | 70                                  |  3.491250                           | 28                                  | $55.86                              | 2010                                | 49.0                                | \n",
       "| Rachel Getting Married              | Drama                               | Independent                         | 61                                  |  1.384167                           | 85                                  | $16.61                              | 2008                                | 73.0                                | \n",
       "| ... | ... | ... | ... | ... | ... | ... | ... | ... | \n",
       "| Made of Honor                      | Comdy                              | Sony                               | 61                                 |  2.6490683                         | 13                                 | $105.96                            | 2008                               | 37.0                               | \n",
       "| Love Happens                       | Drama                              | Universal                          | 40                                 |  2.0044444                         | 18                                 | $36.08                             | 2009                               | 29.0                               | \n",
       "| Love & Other Drugs                 | Comedy                             | Fox                                | 55                                 |  1.8176667                         | 48                                 | $54.53                             | 2010                               | 51.5                               | \n",
       "| Life as We Know It                 | Comedy                             | Independent                        | 62                                 |  2.5305263                         | 28                                 | $96.16                             | 2010                               | 45.0                               | \n",
       "| License to Wed                     | Comedy                             | Warner Bros.                       | 55                                 |  1.9802064                         |  8                                 | $69.31                             | 2007                               | 31.5                               | \n",
       "| Letters to Juliet                  | Comedy                             | Summit                             | 62                                 |  2.6393333                         | 40                                 | $79.18                             | 2010                               | 51.0                               | \n",
       "| Leap Year                          | Comedy                             | Universal                          | 49                                 |  1.7152632                         | 21                                 | $32.59                             | 2010                               | 35.0                               | \n",
       "| Knocked Up                         | Comedy                             | Universal                          | 83                                 |  6.6364018                         | 91                                 | $219                               | 2007                               | 87.0                               | \n",
       "| Killers                            | Action                             | Lionsgate                          | 45                                 |  1.2453333                         | 11                                 | $93.40                             | 2010                               | 28.0                               | \n",
       "| Just Wright                        | Comedy                             | Fox                                | 58                                 |  1.7974167                         | 45                                 | $21.57                             | 2010                               | 51.5                               | \n",
       "| Jane Eyre                          | Romance                            | Universal                          | 77                                 |  0.0000000                         | 85                                 | $30.15                             | 2011                               | 81.0                               | \n",
       "| It's Complicated                   | Comedy                             | Universal                          | 63                                 |  2.6423529                         | 56                                 | $224.60                            | 2009                               | 59.5                               | \n",
       "| I Love You Phillip Morris          | Comedy                             | Independent                        | 57                                 |  1.3400000                         | 71                                 | $20.10                             | 2010                               | 64.0                               | \n",
       "| High School Musical 3: Senior Year | Comedy                             | Disney                             | 76                                 | 22.9131365                         | 65                                 | $252.04                            | 2008                               | 70.5                               | \n",
       "| He's Just Not That Into You        | Comedy                             | Warner Bros.                       | 60                                 |  7.1536000                         | 42                                 | $178.84                            | 2009                               | 51.0                               | \n",
       "| Good Luck Chuck                    | Comedy                             | Lionsgate                          | 61                                 |  2.3676851                         |  3                                 | $59.19                             | 2007                               | 32.0                               | \n",
       "| Going the Distance                 | Comedy                             | Warner Bros.                       | 56                                 |  1.3140625                         | 53                                 | $42.05                             | 2010                               | 54.5                               | \n",
       "| Gnomeo and Juliet                  | Animation                          | Disney                             | 52                                 |  5.3879722                         | 56                                 | $193.97                            | 2011                               | 54.0                               | \n",
       "| Gnomeo and Juliet                  | Animation                          | Disney                             | 52                                 |  5.3879722                         | 56                                 | $193.97                            | 2011                               | 54.0                               | \n",
       "| Ghosts of Girlfriends Past         | Comedy                             | Warner Bros.                       | 47                                 |  2.0444000                         | 27                                 | $102.22                            | 2009                               | 37.0                               | \n",
       "| Four Christmases                   | Comedy                             | Warner Bros.                       | 52                                 |  2.0229250                         | 26                                 | $161.83                            | 2008                               | 39.0                               | \n",
       "| Fireproof                          | Drama                              | Independent                        | 51                                 | 66.9340000                         | 40                                 | $33.47                             | 2008                               | 45.5                               | \n",
       "| Enchanted                          | Comedy                             | Disney                             | 80                                 |  4.0057371                         | 93                                 | $340.49                            | 2007                               | 86.5                               | \n",
       "| Dear John                          | Drama                              | Sony                               | 66                                 |  4.5988000                         | 29                                 | $114.97                            | 2010                               | 47.5                               | \n",
       "| Beginners                          | Comedy                             | Independent                        | 80                                 |  4.4718750                         | 84                                 | $14.31                             | 2011                               | 82.0                               | \n",
       "| Across the Universe                | romance                            | Independent                        | 84                                 |  0.6526032                         | 54                                 | $29.37                             | 2007                               | 69.0                               | \n",
       "| A Serious Man                      | Drama                              | Universal                          | 64                                 |  4.3828571                         | 89                                 | $30.68                             | 2009                               | 76.5                               | \n",
       "| A Dangerous Method                 | Drama                              | Independent                        | 89                                 |  0.4486447                         | 79                                 | $8.97                              | 2011                               | 84.0                               | \n",
       "| 27 Dresses                         | Comedy                             | Fox                                | 71                                 |  5.3436218                         | 40                                 | $160.31                            | 2008                               | 55.5                               | \n",
       "| (500) Days of Summer               | comedy                             | Fox                                | 81                                 |  8.0960000                         | 87                                 | $60.72                             | 2009                               | 84.0                               | \n",
       "\n",
       "\n"
      ],
      "text/plain": [
       "    Film                                Genre     Lead Studio          \n",
       "1   Zack and Miri Make a Porno          Romance   The Weinstein Company\n",
       "2   Youth in Revolt                     Comedy    The Weinstein Company\n",
       "3   You Will Meet a Tall Dark Stranger  Comedy    Independent          \n",
       "4   When in Rome                        Comedy    Disney               \n",
       "5   What Happens in Vegas               Comedy    Fox                  \n",
       "6   Water For Elephants                 Drama     20th Century Fox     \n",
       "7   WALL-E                              Animation Disney               \n",
       "8   Waitress                            Romance   Independent          \n",
       "9   Waiting For Forever                 Romance   Independent          \n",
       "10  Valentine's Day                     Comedy    Warner Bros.         \n",
       "11  Tyler Perry's Why Did I get Married Romance   Independent          \n",
       "12  Twilight: Breaking Dawn             Romance   Independent          \n",
       "13  Twilight                            Romance   Summit               \n",
       "14  The Ugly Truth                      Comedy    Independent          \n",
       "15  The Twilight Saga: New Moon         Drama     Summit               \n",
       "16  The Time Traveler's Wife            Drama     Paramount            \n",
       "17  The Proposal                        Comedy    Disney               \n",
       "18  The Invention of Lying              Comedy    Warner Bros.         \n",
       "19  The Heartbreak Kid                  Comedy    Paramount            \n",
       "20  The Duchess                         Drama     Paramount            \n",
       "21  The Curious Case of Benjamin Button Fantasy   Warner Bros.         \n",
       "22  The Back-up Plan                    Comedy    CBS                  \n",
       "23  Tangled                             Animation Disney               \n",
       "24  Something Borrowed                  Romance   Independent          \n",
       "25  She's Out of My League              Comedy    Paramount            \n",
       "26  Sex and the City Two                Comedy    Warner Bros.         \n",
       "27  Sex and the City 2                  Comedy    Warner Bros.         \n",
       "28  Sex and the City                    Comedy    Warner Bros.         \n",
       "29  Remember Me                         Drama     Summit               \n",
       "30  Rachel Getting Married              Drama     Independent          \n",
       "... ...                                 ...       ...                  \n",
       "48  Made of Honor                       Comdy     Sony                 \n",
       "49  Love Happens                        Drama     Universal            \n",
       "50  Love & Other Drugs                  Comedy    Fox                  \n",
       "51  Life as We Know It                  Comedy    Independent          \n",
       "52  License to Wed                      Comedy    Warner Bros.         \n",
       "53  Letters to Juliet                   Comedy    Summit               \n",
       "54  Leap Year                           Comedy    Universal            \n",
       "55  Knocked Up                          Comedy    Universal            \n",
       "56  Killers                             Action    Lionsgate            \n",
       "57  Just Wright                         Comedy    Fox                  \n",
       "58  Jane Eyre                           Romance   Universal            \n",
       "59  It's Complicated                    Comedy    Universal            \n",
       "60  I Love You Phillip Morris           Comedy    Independent          \n",
       "61  High School Musical 3: Senior Year  Comedy    Disney               \n",
       "62  He's Just Not That Into You         Comedy    Warner Bros.         \n",
       "63  Good Luck Chuck                     Comedy    Lionsgate            \n",
       "64  Going the Distance                  Comedy    Warner Bros.         \n",
       "65  Gnomeo and Juliet                   Animation Disney               \n",
       "66  Gnomeo and Juliet                   Animation Disney               \n",
       "67  Ghosts of Girlfriends Past          Comedy    Warner Bros.         \n",
       "68  Four Christmases                    Comedy    Warner Bros.         \n",
       "69  Fireproof                           Drama     Independent          \n",
       "70  Enchanted                           Comedy    Disney               \n",
       "71  Dear John                           Drama     Sony                 \n",
       "72  Beginners                           Comedy    Independent          \n",
       "73  Across the Universe                 romance   Independent          \n",
       "74  A Serious Man                       Drama     Universal            \n",
       "75  A Dangerous Method                  Drama     Independent          \n",
       "76  27 Dresses                          Comedy    Fox                  \n",
       "77  (500) Days of Summer                comedy    Fox                  \n",
       "    Audience score % Profitability Rotten Tomatoes % Worldwide Gross Year Score\n",
       "1   70                1.747542     64                $41.94          2008 67.0 \n",
       "2   52                1.090000     68                $19.62          2010 60.0 \n",
       "3   35                1.211818     43                $26.66          2010 39.0 \n",
       "4   44                0.000000     15                $43.04          2010 29.5 \n",
       "5   72                6.267647     28                $219.37         2008 50.0 \n",
       "6   72                3.081421     60                $117.09         2011 66.0 \n",
       "7   89                2.896019     96                $521.28         2008 92.5 \n",
       "8   67               11.089742     89                $22.18          2007 78.0 \n",
       "9   53                0.005000      6                $0.03           2011 29.5 \n",
       "10  54                4.184038     17                $217.57         2010 35.5 \n",
       "11  47                3.724192     46                $55.86          2007 46.5 \n",
       "12  68                6.383364     26                $702.17         2011 47.0 \n",
       "13  82               10.180027     49                $376.66         2008 65.5 \n",
       "14  68                5.402632     14                $205.30         2009 41.0 \n",
       "15  78               14.196400     27                $709.82         2009 52.5 \n",
       "16  65                2.598205     38                $101.33         2009 51.5 \n",
       "17  74                7.867500     43                $314.70         2009 58.5 \n",
       "18  47                1.751351     56                $32.40          2009 51.5 \n",
       "19  41                2.129444     30                $127.77         2007 35.5 \n",
       "20  68                3.207850     60                $43.31          2008 64.0 \n",
       "21  81                1.783944     73                $285.43         2008 77.0 \n",
       "22  47                2.202571     20                $77.09          2010 33.5 \n",
       "23  88                1.365692     89                $355.01         2010 88.5 \n",
       "24  48                1.719514     15                $60.18          2011 31.5 \n",
       "25  60                2.440500     57                $48.81          2010 58.5 \n",
       "26  49                2.883500     15                $288.35         2010 32.0 \n",
       "27  49                2.883500     15                $288.35         2010 32.0 \n",
       "28  81                7.221796     49                $415.25         2008 65.0 \n",
       "29  70                3.491250     28                $55.86          2010 49.0 \n",
       "30  61                1.384167     85                $16.61          2008 73.0 \n",
       "... ...              ...           ...               ...             ...  ...  \n",
       "48  61                2.6490683    13                $105.96         2008 37.0 \n",
       "49  40                2.0044444    18                $36.08          2009 29.0 \n",
       "50  55                1.8176667    48                $54.53          2010 51.5 \n",
       "51  62                2.5305263    28                $96.16          2010 45.0 \n",
       "52  55                1.9802064     8                $69.31          2007 31.5 \n",
       "53  62                2.6393333    40                $79.18          2010 51.0 \n",
       "54  49                1.7152632    21                $32.59          2010 35.0 \n",
       "55  83                6.6364018    91                $219            2007 87.0 \n",
       "56  45                1.2453333    11                $93.40          2010 28.0 \n",
       "57  58                1.7974167    45                $21.57          2010 51.5 \n",
       "58  77                0.0000000    85                $30.15          2011 81.0 \n",
       "59  63                2.6423529    56                $224.60         2009 59.5 \n",
       "60  57                1.3400000    71                $20.10          2010 64.0 \n",
       "61  76               22.9131365    65                $252.04         2008 70.5 \n",
       "62  60                7.1536000    42                $178.84         2009 51.0 \n",
       "63  61                2.3676851     3                $59.19          2007 32.0 \n",
       "64  56                1.3140625    53                $42.05          2010 54.5 \n",
       "65  52                5.3879722    56                $193.97         2011 54.0 \n",
       "66  52                5.3879722    56                $193.97         2011 54.0 \n",
       "67  47                2.0444000    27                $102.22         2009 37.0 \n",
       "68  52                2.0229250    26                $161.83         2008 39.0 \n",
       "69  51               66.9340000    40                $33.47          2008 45.5 \n",
       "70  80                4.0057371    93                $340.49         2007 86.5 \n",
       "71  66                4.5988000    29                $114.97         2010 47.5 \n",
       "72  80                4.4718750    84                $14.31          2011 82.0 \n",
       "73  84                0.6526032    54                $29.37          2007 69.0 \n",
       "74  64                4.3828571    89                $30.68          2009 76.5 \n",
       "75  89                0.4486447    79                $8.97           2011 84.0 \n",
       "76  71                5.3436218    40                $160.31         2008 55.5 \n",
       "77  81                8.0960000    87                $60.72          2009 84.0 "
      ]
     },
     "metadata": {},
     "output_type": "display_data"
    }
   ],
   "source": [
    "#Adds a NEW COLUMN\n",
    "mutateScore <- movies %>%\n",
    "mutate(Score = (`Audience score %` + `Rotten Tomatoes %`) / 2)\n",
    "mutateScore"
   ]
  },
  {
   "cell_type": "markdown",
   "metadata": {
    "deletable": true,
    "editable": true
   },
   "source": [
    "## TRANSMUTE\n",
    "\n",
    "Transmute Columns\n",
    "\n",
    "When creating new columns from a data frame, sometimes you are interested in only keeping the new columns you add, and removing the ones you do not need. dplyr’s transmute() function will add new columns while dropping the existing columns that may no longer be useful for your analysis. Let’s go back to the original inventory data frame for your store, The Handy Woman.\n",
    "\n",
    "product_id product_description cost_to_manufacture price sales_tax\n",
    "\n",
    "1 3 inch screw 0.50 0.75 0.06\n",
    "\n",
    "2 2 inch nail 0.10 0.25 0.02\n",
    "\n",
    "3 hammer 3.00 5.50 0.41\n",
    "\n",
    "4 screwdriver 2.50 3.00 0.22\n",
    "\n",
    "Like mutate(), transmute() takes name-value pairs as arguments. The names will be the names of the new columns you are adding, and the values are expressions defining the values of the new columns. The difference, however, is that transmute() returns a data frame with only the new columns.\n",
    "\n",
    "To add sales_tax and profit columns while dropping all other columns from the data frame:\n",
    "\n",
    "df %>%\n",
    "  transmute(sales_tax = price * 0.075,\n",
    "            profit = price - cost_to_manufacture)\n",
    "\n",
    "This inventory table will now look like this:\n",
    "\n",
    "sales_tax \t profit\n",
    "\n",
    "0.06 \t0.25\n",
    "\n",
    "0.02 \t0.15\n",
    "\n",
    "0.41 \t2.5\n",
    "\n",
    "0.22 \t0.5\n"
   ]
  },
  {
   "cell_type": "code",
   "execution_count": 9,
   "metadata": {
    "collapsed": false,
    "deletable": true,
    "editable": true
   },
   "outputs": [
    {
     "data": {
      "text/html": [
       "<table>\n",
       "<thead><tr><th scope=col>Audience score %</th><th scope=col>Rotten Tomatoes %</th><th scope=col>Score</th><th scope=col>ScoreAdd</th></tr></thead>\n",
       "<tbody>\n",
       "\t<tr><td>70  </td><td>64  </td><td>67.0</td><td>134 </td></tr>\n",
       "\t<tr><td>52  </td><td>68  </td><td>60.0</td><td>120 </td></tr>\n",
       "\t<tr><td>35  </td><td>43  </td><td>39.0</td><td> 78 </td></tr>\n",
       "\t<tr><td>44  </td><td>15  </td><td>29.5</td><td> 59 </td></tr>\n",
       "\t<tr><td>72  </td><td>28  </td><td>50.0</td><td>100 </td></tr>\n",
       "\t<tr><td>72  </td><td>60  </td><td>66.0</td><td>132 </td></tr>\n",
       "\t<tr><td>89  </td><td>96  </td><td>92.5</td><td>185 </td></tr>\n",
       "\t<tr><td>67  </td><td>89  </td><td>78.0</td><td>156 </td></tr>\n",
       "\t<tr><td>53  </td><td> 6  </td><td>29.5</td><td> 59 </td></tr>\n",
       "\t<tr><td>54  </td><td>17  </td><td>35.5</td><td> 71 </td></tr>\n",
       "</tbody>\n",
       "</table>\n"
      ],
      "text/latex": [
       "\\begin{tabular}{r|llll}\n",
       " Audience score \\% & Rotten Tomatoes \\% & Score & ScoreAdd\\\\\n",
       "\\hline\n",
       "\t 70   & 64   & 67.0 & 134 \\\\\n",
       "\t 52   & 68   & 60.0 & 120 \\\\\n",
       "\t 35   & 43   & 39.0 &  78 \\\\\n",
       "\t 44   & 15   & 29.5 &  59 \\\\\n",
       "\t 72   & 28   & 50.0 & 100 \\\\\n",
       "\t 72   & 60   & 66.0 & 132 \\\\\n",
       "\t 89   & 96   & 92.5 & 185 \\\\\n",
       "\t 67   & 89   & 78.0 & 156 \\\\\n",
       "\t 53   &  6   & 29.5 &  59 \\\\\n",
       "\t 54   & 17   & 35.5 &  71 \\\\\n",
       "\\end{tabular}\n"
      ],
      "text/markdown": [
       "\n",
       "Audience score % | Rotten Tomatoes % | Score | ScoreAdd | \n",
       "|---|---|---|---|---|---|---|---|---|---|\n",
       "| 70   | 64   | 67.0 | 134  | \n",
       "| 52   | 68   | 60.0 | 120  | \n",
       "| 35   | 43   | 39.0 |  78  | \n",
       "| 44   | 15   | 29.5 |  59  | \n",
       "| 72   | 28   | 50.0 | 100  | \n",
       "| 72   | 60   | 66.0 | 132  | \n",
       "| 89   | 96   | 92.5 | 185  | \n",
       "| 67   | 89   | 78.0 | 156  | \n",
       "| 53   |  6   | 29.5 |  59  | \n",
       "| 54   | 17   | 35.5 |  71  | \n",
       "\n",
       "\n"
      ],
      "text/plain": [
       "   Audience score % Rotten Tomatoes % Score ScoreAdd\n",
       "1  70               64                67.0  134     \n",
       "2  52               68                60.0  120     \n",
       "3  35               43                39.0   78     \n",
       "4  44               15                29.5   59     \n",
       "5  72               28                50.0  100     \n",
       "6  72               60                66.0  132     \n",
       "7  89               96                92.5  185     \n",
       "8  67               89                78.0  156     \n",
       "9  53                6                29.5   59     \n",
       "10 54               17                35.5   71     "
      ]
     },
     "metadata": {},
     "output_type": "display_data"
    }
   ],
   "source": [
    "#Transmute removes the other columns and keeps the newly added ones\n",
    "transmuteSome <- movies %>%\n",
    "#adding `Rotten Tomatoes %`, `Audience score %` so that we can inspect the two \n",
    "transmute(`Audience score %` = `Audience score %`,`Rotten Tomatoes %` = `Rotten Tomatoes %`, \n",
    "          Score = (`Audience score %` + `Rotten Tomatoes %`) / 2, ScoreAdd = `Audience score %` + `Rotten Tomatoes %`)\n",
    "\n",
    "head(transmuteSome, 10) #Shows first 10 values instead of all of em\n"
   ]
  },
  {
   "cell_type": "markdown",
   "metadata": {
    "deletable": true,
    "editable": true
   },
   "source": [
    "## Rename Columns\n",
    "\n",
    "Since dplyr functions operate on data frames using column names, it is often useful to update the column names of a data frame so they are as clear and meaningful as possible. dplyr’s rename() function allows you to easily do this.\n",
    "\n",
    "Say you have a data frame of books, as shown in the table below:\n",
    "\n",
    "name \twritten_by\n",
    "\n",
    "The Lord of the Rings \tJ. R. R. Tolkien\n",
    "\n",
    "Le Petit Prince \tAntoine de Saint-Exupéry\n",
    "\n",
    "Harry Potter and the Philosopher’s Stone \tJ. K. Rowling\n",
    "\n",
    "紅樓夢/红楼梦 \tCao Xueqin\n",
    "\n",
    "\n",
    "rename() can take any number of arguments, where each new column name is assigned to replace an old column name in the format new_column_name = old_column_name. rename() returns a new data frame with the updated column names.\n",
    "\n",
    "To update the name column to book_title and the written_by column to author:\n",
    "\n",
    "df %>%\n",
    "\n",
    "      rename(book_title = name,\n",
    "         author = written_by)\n",
    "\n",
    "You can confirm the names of the columns have been updated using either of the base R functions names() or colnames(), which take a data frame as an argument and return a vector containing the column names.\n"
   ]
  },
  {
   "cell_type": "code",
   "execution_count": 10,
   "metadata": {
    "collapsed": false,
    "deletable": true,
    "editable": true
   },
   "outputs": [
    {
     "data": {
      "text/html": [
       "<table>\n",
       "<thead><tr><th scope=col>Movie</th><th scope=col>Genre</th><th scope=col>Lead Studio</th><th scope=col>ScoreAudience</th><th scope=col>Profitability</th><th scope=col>RottenTomatoes</th><th scope=col>Worldwide Gross</th><th scope=col>Year</th></tr></thead>\n",
       "<tbody>\n",
       "\t<tr><td>Zack and Miri Make a Porno        </td><td>Romance                           </td><td>The Weinstein Company             </td><td>70                                </td><td> 1.747542                         </td><td>64                                </td><td>$41.94                            </td><td>2008                              </td></tr>\n",
       "\t<tr><td>Youth in Revolt                   </td><td>Comedy                            </td><td>The Weinstein Company             </td><td>52                                </td><td> 1.090000                         </td><td>68                                </td><td>$19.62                            </td><td>2010                              </td></tr>\n",
       "\t<tr><td>You Will Meet a Tall Dark Stranger</td><td>Comedy                            </td><td>Independent                       </td><td>35                                </td><td> 1.211818                         </td><td>43                                </td><td>$26.66                            </td><td>2010                              </td></tr>\n",
       "\t<tr><td>When in Rome                      </td><td>Comedy                            </td><td>Disney                            </td><td>44                                </td><td> 0.000000                         </td><td>15                                </td><td>$43.04                            </td><td>2010                              </td></tr>\n",
       "\t<tr><td>What Happens in Vegas             </td><td>Comedy                            </td><td>Fox                               </td><td>72                                </td><td> 6.267647                         </td><td>28                                </td><td>$219.37                           </td><td>2008                              </td></tr>\n",
       "\t<tr><td>Water For Elephants               </td><td>Drama                             </td><td>20th Century Fox                  </td><td>72                                </td><td> 3.081421                         </td><td>60                                </td><td>$117.09                           </td><td>2011                              </td></tr>\n",
       "\t<tr><td>WALL-E                            </td><td>Animation                         </td><td>Disney                            </td><td>89                                </td><td> 2.896019                         </td><td>96                                </td><td>$521.28                           </td><td>2008                              </td></tr>\n",
       "\t<tr><td>Waitress                          </td><td>Romance                           </td><td>Independent                       </td><td>67                                </td><td>11.089742                         </td><td>89                                </td><td>$22.18                            </td><td>2007                              </td></tr>\n",
       "\t<tr><td>Waiting For Forever               </td><td>Romance                           </td><td>Independent                       </td><td>53                                </td><td> 0.005000                         </td><td> 6                                </td><td>$0.03                             </td><td>2011                              </td></tr>\n",
       "\t<tr><td>Valentine's Day                   </td><td>Comedy                            </td><td>Warner Bros.                      </td><td>54                                </td><td> 4.184038                         </td><td>17                                </td><td>$217.57                           </td><td>2010                              </td></tr>\n",
       "</tbody>\n",
       "</table>\n"
      ],
      "text/latex": [
       "\\begin{tabular}{r|llllllll}\n",
       " Movie & Genre & Lead Studio & ScoreAudience & Profitability & RottenTomatoes & Worldwide Gross & Year\\\\\n",
       "\\hline\n",
       "\t Zack and Miri Make a Porno         & Romance                            & The Weinstein Company              & 70                                 &  1.747542                          & 64                                 & \\$41.94                           & 2008                              \\\\\n",
       "\t Youth in Revolt                    & Comedy                             & The Weinstein Company              & 52                                 &  1.090000                          & 68                                 & \\$19.62                           & 2010                              \\\\\n",
       "\t You Will Meet a Tall Dark Stranger & Comedy                             & Independent                        & 35                                 &  1.211818                          & 43                                 & \\$26.66                           & 2010                              \\\\\n",
       "\t When in Rome                       & Comedy                             & Disney                             & 44                                 &  0.000000                          & 15                                 & \\$43.04                           & 2010                              \\\\\n",
       "\t What Happens in Vegas              & Comedy                             & Fox                                & 72                                 &  6.267647                          & 28                                 & \\$219.37                          & 2008                              \\\\\n",
       "\t Water For Elephants                & Drama                              & 20th Century Fox                   & 72                                 &  3.081421                          & 60                                 & \\$117.09                          & 2011                              \\\\\n",
       "\t WALL-E                             & Animation                          & Disney                             & 89                                 &  2.896019                          & 96                                 & \\$521.28                          & 2008                              \\\\\n",
       "\t Waitress                           & Romance                            & Independent                        & 67                                 & 11.089742                          & 89                                 & \\$22.18                           & 2007                              \\\\\n",
       "\t Waiting For Forever                & Romance                            & Independent                        & 53                                 &  0.005000                          &  6                                 & \\$0.03                            & 2011                              \\\\\n",
       "\t Valentine's Day                    & Comedy                             & Warner Bros.                       & 54                                 &  4.184038                          & 17                                 & \\$217.57                          & 2010                              \\\\\n",
       "\\end{tabular}\n"
      ],
      "text/markdown": [
       "\n",
       "Movie | Genre | Lead Studio | ScoreAudience | Profitability | RottenTomatoes | Worldwide Gross | Year | \n",
       "|---|---|---|---|---|---|---|---|---|---|\n",
       "| Zack and Miri Make a Porno         | Romance                            | The Weinstein Company              | 70                                 |  1.747542                          | 64                                 | $41.94                             | 2008                               | \n",
       "| Youth in Revolt                    | Comedy                             | The Weinstein Company              | 52                                 |  1.090000                          | 68                                 | $19.62                             | 2010                               | \n",
       "| You Will Meet a Tall Dark Stranger | Comedy                             | Independent                        | 35                                 |  1.211818                          | 43                                 | $26.66                             | 2010                               | \n",
       "| When in Rome                       | Comedy                             | Disney                             | 44                                 |  0.000000                          | 15                                 | $43.04                             | 2010                               | \n",
       "| What Happens in Vegas              | Comedy                             | Fox                                | 72                                 |  6.267647                          | 28                                 | $219.37                            | 2008                               | \n",
       "| Water For Elephants                | Drama                              | 20th Century Fox                   | 72                                 |  3.081421                          | 60                                 | $117.09                            | 2011                               | \n",
       "| WALL-E                             | Animation                          | Disney                             | 89                                 |  2.896019                          | 96                                 | $521.28                            | 2008                               | \n",
       "| Waitress                           | Romance                            | Independent                        | 67                                 | 11.089742                          | 89                                 | $22.18                             | 2007                               | \n",
       "| Waiting For Forever                | Romance                            | Independent                        | 53                                 |  0.005000                          |  6                                 | $0.03                              | 2011                               | \n",
       "| Valentine's Day                    | Comedy                             | Warner Bros.                       | 54                                 |  4.184038                          | 17                                 | $217.57                            | 2010                               | \n",
       "\n",
       "\n"
      ],
      "text/plain": [
       "   Movie                              Genre     Lead Studio          \n",
       "1  Zack and Miri Make a Porno         Romance   The Weinstein Company\n",
       "2  Youth in Revolt                    Comedy    The Weinstein Company\n",
       "3  You Will Meet a Tall Dark Stranger Comedy    Independent          \n",
       "4  When in Rome                       Comedy    Disney               \n",
       "5  What Happens in Vegas              Comedy    Fox                  \n",
       "6  Water For Elephants                Drama     20th Century Fox     \n",
       "7  WALL-E                             Animation Disney               \n",
       "8  Waitress                           Romance   Independent          \n",
       "9  Waiting For Forever                Romance   Independent          \n",
       "10 Valentine's Day                    Comedy    Warner Bros.         \n",
       "   ScoreAudience Profitability RottenTomatoes Worldwide Gross Year\n",
       "1  70             1.747542     64             $41.94          2008\n",
       "2  52             1.090000     68             $19.62          2010\n",
       "3  35             1.211818     43             $26.66          2010\n",
       "4  44             0.000000     15             $43.04          2010\n",
       "5  72             6.267647     28             $219.37         2008\n",
       "6  72             3.081421     60             $117.09         2011\n",
       "7  89             2.896019     96             $521.28         2008\n",
       "8  67            11.089742     89             $22.18          2007\n",
       "9  53             0.005000      6             $0.03           2011\n",
       "10 54             4.184038     17             $217.57         2010"
      ]
     },
     "metadata": {},
     "output_type": "display_data"
    }
   ],
   "source": [
    "renameEmMate <- movies %>%\n",
    "rename(Movie = Film, ScoreAudience = `Audience score %`, RottenTomatoes = `Rotten Tomatoes %`)\n",
    "\n",
    "head(renameEmMate, 10)"
   ]
  },
  {
   "cell_type": "markdown",
   "metadata": {
    "deletable": true,
    "editable": true
   },
   "source": [
    "## Review\n",
    "\n",
    "With an understanding of how to manipulate data frames with dplyr, you are well on your way to becoming a data analysis expert! In this lesson you learned how to:\n",
    "\n",
    "    add new columns to a data frame using mutate()\n",
    "    add new columns to a data frame and drop existing columns using transmute()\n",
    "    change the column names of a data frame using rename()\n"
   ]
  },
  {
   "cell_type": "markdown",
   "metadata": {
    "collapsed": true,
    "deletable": true,
    "editable": true
   },
   "source": [
    "# Data Cleaning\n",
    "\n",
    "Dealing with Multiple Files\n",
    "\n",
    "Often, you have the same data separated out into multiple files.\n",
    "\n",
    "Let’s say that you have a ton of files following the filename structure: 'file_1.csv', 'file_2.csv', 'file_3.csv', and so on. The power of dplyr and tidyr is mainly in being able to manipulate large amounts of structured data, so you want to be able to get all of the relevant information into one table so that you can analyze the aggregate data.\n",
    "\n",
    "You can combine the base R functions list.files() and lapply() with readr and dplyr to organize this data better, as shown below:\n",
    "\n",
    "files <- list.files(pattern = \"file_.*csv\")\n",
    "df_list <- lapply(files,read_csv)\n",
    "df <- bind_rows(df_list)\n",
    "\n",
    "    The first line uses list.files() and a regular expression, a sequence of characters describing a pattern of text that should be matched, to find any file in the current directory that starts with 'file_' and has an extension of csv, storing the name of each file in a vector files\n",
    "    The second line uses lapply() to read each file in files into a data frame with read_csv(), storing the data frames in df_list\n",
    "    The third line then concatenates all of those data frames together with dplyr’s bind_rows() function\n",
    "\n"
   ]
  },
  {
   "cell_type": "code",
   "execution_count": 11,
   "metadata": {
    "collapsed": false,
    "deletable": true,
    "editable": true
   },
   "outputs": [],
   "source": [
    "library(readr)\n",
    "library(dplyr)\n",
    "library(tidyr)"
   ]
  },
  {
   "cell_type": "code",
   "execution_count": 12,
   "metadata": {
    "collapsed": false,
    "deletable": true,
    "editable": true
   },
   "outputs": [
    {
     "name": "stdout",
     "output_type": "stream",
     "text": [
      "[1] \"Pokemon_0.csv\" \"Pokemon_1.csv\" \"Pokemon_3.csv\" \"Pokemon_4.csv\"\n"
     ]
    }
   ],
   "source": [
    "#List all Files\n",
    "pokemonFilez <- list.files(pattern = 'Pokemon_.*csv')\n",
    "print(pokemonFilez)"
   ]
  },
  {
   "cell_type": "code",
   "execution_count": 13,
   "metadata": {
    "collapsed": false,
    "deletable": true,
    "editable": true,
    "scrolled": true
   },
   "outputs": [
    {
     "name": "stderr",
     "output_type": "stream",
     "text": [
      "Parsed with column specification:\n",
      "cols(\n",
      "  `#` = col_integer(),\n",
      "  Name = col_character(),\n",
      "  `Type 1` = col_character(),\n",
      "  `Type 2` = col_character(),\n",
      "  Total = col_integer(),\n",
      "  HP = col_integer(),\n",
      "  Attack = col_integer(),\n",
      "  Defense = col_integer(),\n",
      "  `Sp. Atk` = col_integer(),\n",
      "  `Sp. Def` = col_integer(),\n",
      "  Speed = col_integer(),\n",
      "  Stage = col_integer(),\n",
      "  Legendary = col_logical()\n",
      ")\n",
      "Parsed with column specification:\n",
      "cols(\n",
      "  `#` = col_integer(),\n",
      "  Name = col_character(),\n",
      "  `Type 1` = col_character(),\n",
      "  `Type 2` = col_character(),\n",
      "  Total = col_integer(),\n",
      "  HP = col_integer(),\n",
      "  Attack = col_integer(),\n",
      "  Defense = col_integer(),\n",
      "  `Sp. Atk` = col_integer(),\n",
      "  `Sp. Def` = col_integer(),\n",
      "  Speed = col_integer(),\n",
      "  Stage = col_integer(),\n",
      "  Legendary = col_logical()\n",
      ")\n",
      "Parsed with column specification:\n",
      "cols(\n",
      "  `#` = col_integer(),\n",
      "  Name = col_character(),\n",
      "  `Type 1` = col_character(),\n",
      "  `Type 2` = col_character(),\n",
      "  Total = col_integer(),\n",
      "  HP = col_integer(),\n",
      "  Attack = col_integer(),\n",
      "  Defense = col_integer(),\n",
      "  `Sp. Atk` = col_integer(),\n",
      "  `Sp. Def` = col_integer(),\n",
      "  Speed = col_integer(),\n",
      "  Stage = col_integer(),\n",
      "  Legendary = col_logical()\n",
      ")\n",
      "Parsed with column specification:\n",
      "cols(\n",
      "  `#` = col_integer(),\n",
      "  Name = col_character(),\n",
      "  `Type 1` = col_character(),\n",
      "  `Type 2` = col_character(),\n",
      "  Total = col_integer(),\n",
      "  HP = col_integer(),\n",
      "  Attack = col_integer(),\n",
      "  Defense = col_integer(),\n",
      "  `Sp. Atk` = col_integer(),\n",
      "  `Sp. Def` = col_integer(),\n",
      "  Speed = col_integer(),\n",
      "  Stage = col_integer(),\n",
      "  Legendary = col_logical()\n",
      ")\n"
     ]
    }
   ],
   "source": [
    "importPokemon <- lapply(pokemonFilez, read_csv)"
   ]
  },
  {
   "cell_type": "code",
   "execution_count": 14,
   "metadata": {
    "collapsed": false,
    "deletable": true,
    "editable": true,
    "scrolled": true
   },
   "outputs": [
    {
     "data": {
      "text/html": [
       "<table>\n",
       "<thead><tr><th scope=col>#</th><th scope=col>Name</th><th scope=col>Type 1</th><th scope=col>Type 2</th><th scope=col>Total</th><th scope=col>HP</th><th scope=col>Attack</th><th scope=col>Defense</th><th scope=col>Sp. Atk</th><th scope=col>Sp. Def</th><th scope=col>Speed</th><th scope=col>Stage</th><th scope=col>Legendary</th></tr></thead>\n",
       "<tbody>\n",
       "\t<tr><td>0         </td><td>Bulbasaur </td><td>Grass     </td><td>Poison    </td><td>318       </td><td>45        </td><td>49        </td><td>49        </td><td> 65       </td><td> 65       </td><td> 45       </td><td>1         </td><td>FALSE     </td></tr>\n",
       "\t<tr><td>1         </td><td>Ivysaur   </td><td>Grass     </td><td>Poison    </td><td>405       </td><td>60        </td><td>62        </td><td>63        </td><td> 80       </td><td> 80       </td><td> 60       </td><td>2         </td><td>FALSE     </td></tr>\n",
       "\t<tr><td>2         </td><td>Venusaur  </td><td>Grass     </td><td>Poison    </td><td>525       </td><td>80        </td><td>82        </td><td>83        </td><td>100       </td><td>100       </td><td> 80       </td><td>3         </td><td>FALSE     </td></tr>\n",
       "\t<tr><td>3         </td><td>Charmander</td><td>Fire      </td><td>NA        </td><td>309       </td><td>39        </td><td>52        </td><td>43        </td><td> 60       </td><td> 50       </td><td> 65       </td><td>1         </td><td>FALSE     </td></tr>\n",
       "\t<tr><td>4         </td><td>Charmeleon</td><td>Fire      </td><td>NA        </td><td>405       </td><td>58        </td><td>64        </td><td>58        </td><td> 80       </td><td> 65       </td><td> 80       </td><td>2         </td><td>FALSE     </td></tr>\n",
       "\t<tr><td>5         </td><td>Charizard </td><td>Fire      </td><td>Flying    </td><td>534       </td><td>78        </td><td>84        </td><td>78        </td><td>109       </td><td> 85       </td><td>100       </td><td>3         </td><td>FALSE     </td></tr>\n",
       "</tbody>\n",
       "</table>\n"
      ],
      "text/latex": [
       "\\begin{tabular}{r|lllllllllllll}\n",
       " \\# & Name & Type 1 & Type 2 & Total & HP & Attack & Defense & Sp. Atk & Sp. Def & Speed & Stage & Legendary\\\\\n",
       "\\hline\n",
       "\t 0          & Bulbasaur  & Grass      & Poison     & 318        & 45         & 49         & 49         &  65        &  65        &  45        & 1          & FALSE     \\\\\n",
       "\t 1          & Ivysaur    & Grass      & Poison     & 405        & 60         & 62         & 63         &  80        &  80        &  60        & 2          & FALSE     \\\\\n",
       "\t 2          & Venusaur   & Grass      & Poison     & 525        & 80         & 82         & 83         & 100        & 100        &  80        & 3          & FALSE     \\\\\n",
       "\t 3          & Charmander & Fire       & NA         & 309        & 39         & 52         & 43         &  60        &  50        &  65        & 1          & FALSE     \\\\\n",
       "\t 4          & Charmeleon & Fire       & NA         & 405        & 58         & 64         & 58         &  80        &  65        &  80        & 2          & FALSE     \\\\\n",
       "\t 5          & Charizard  & Fire       & Flying     & 534        & 78         & 84         & 78         & 109        &  85        & 100        & 3          & FALSE     \\\\\n",
       "\\end{tabular}\n"
      ],
      "text/markdown": [
       "\n",
       "# | Name | Type 1 | Type 2 | Total | HP | Attack | Defense | Sp. Atk | Sp. Def | Speed | Stage | Legendary | \n",
       "|---|---|---|---|---|---|\n",
       "| 0          | Bulbasaur  | Grass      | Poison     | 318        | 45         | 49         | 49         |  65        |  65        |  45        | 1          | FALSE      | \n",
       "| 1          | Ivysaur    | Grass      | Poison     | 405        | 60         | 62         | 63         |  80        |  80        |  60        | 2          | FALSE      | \n",
       "| 2          | Venusaur   | Grass      | Poison     | 525        | 80         | 82         | 83         | 100        | 100        |  80        | 3          | FALSE      | \n",
       "| 3          | Charmander | Fire       | NA         | 309        | 39         | 52         | 43         |  60        |  50        |  65        | 1          | FALSE      | \n",
       "| 4          | Charmeleon | Fire       | NA         | 405        | 58         | 64         | 58         |  80        |  65        |  80        | 2          | FALSE      | \n",
       "| 5          | Charizard  | Fire       | Flying     | 534        | 78         | 84         | 78         | 109        |  85        | 100        | 3          | FALSE      | \n",
       "\n",
       "\n"
      ],
      "text/plain": [
       "  # Name       Type 1 Type 2 Total HP Attack Defense Sp. Atk Sp. Def Speed\n",
       "1 0 Bulbasaur  Grass  Poison 318   45 49     49       65      65      45  \n",
       "2 1 Ivysaur    Grass  Poison 405   60 62     63       80      80      60  \n",
       "3 2 Venusaur   Grass  Poison 525   80 82     83      100     100      80  \n",
       "4 3 Charmander Fire   NA     309   39 52     43       60      50      65  \n",
       "5 4 Charmeleon Fire   NA     405   58 64     58       80      65      80  \n",
       "6 5 Charizard  Fire   Flying 534   78 84     78      109      85     100  \n",
       "  Stage Legendary\n",
       "1 1     FALSE    \n",
       "2 2     FALSE    \n",
       "3 3     FALSE    \n",
       "4 1     FALSE    \n",
       "5 2     FALSE    \n",
       "6 3     FALSE    "
      ]
     },
     "metadata": {},
     "output_type": "display_data"
    }
   ],
   "source": [
    "#Bind Rows together\n",
    "pokemonAnalytics <- bind_rows(importPokemon)\n",
    "head(pokemonAnalytics)"
   ]
  },
  {
   "cell_type": "code",
   "execution_count": 15,
   "metadata": {
    "collapsed": false,
    "deletable": true,
    "editable": true
   },
   "outputs": [
    {
     "name": "stdout",
     "output_type": "stream",
     "text": [
      "[1] 40\n"
     ]
    }
   ],
   "source": [
    "#Number of Rows\n",
    "nrowPokemon <- nrow(pokemonAnalytics)\n",
    "print(nrowPokemon)"
   ]
  },
  {
   "cell_type": "code",
   "execution_count": 16,
   "metadata": {
    "collapsed": false,
    "deletable": true,
    "editable": true
   },
   "outputs": [
    {
     "data": {
      "text/html": [
       "<table>\n",
       "<thead><tr><th scope=col>#</th><th scope=col>Name</th><th scope=col>Total</th><th scope=col>Attack</th><th scope=col>Defense</th></tr></thead>\n",
       "<tbody>\n",
       "\t<tr><td>0         </td><td>Bulbasaur </td><td>318       </td><td>49        </td><td>49        </td></tr>\n",
       "\t<tr><td>1         </td><td>Ivysaur   </td><td>405       </td><td>62        </td><td>63        </td></tr>\n",
       "\t<tr><td>2         </td><td>Venusaur  </td><td>525       </td><td>82        </td><td>83        </td></tr>\n",
       "\t<tr><td>3         </td><td>Charmander</td><td>309       </td><td>52        </td><td>43        </td></tr>\n",
       "\t<tr><td>4         </td><td>Charmeleon</td><td>405       </td><td>64        </td><td>58        </td></tr>\n",
       "</tbody>\n",
       "</table>\n"
      ],
      "text/latex": [
       "\\begin{tabular}{r|lllll}\n",
       " \\# & Name & Total & Attack & Defense\\\\\n",
       "\\hline\n",
       "\t 0          & Bulbasaur  & 318        & 49         & 49        \\\\\n",
       "\t 1          & Ivysaur    & 405        & 62         & 63        \\\\\n",
       "\t 2          & Venusaur   & 525        & 82         & 83        \\\\\n",
       "\t 3          & Charmander & 309        & 52         & 43        \\\\\n",
       "\t 4          & Charmeleon & 405        & 64         & 58        \\\\\n",
       "\\end{tabular}\n"
      ],
      "text/markdown": [
       "\n",
       "# | Name | Total | Attack | Defense | \n",
       "|---|---|---|---|---|\n",
       "| 0          | Bulbasaur  | 318        | 49         | 49         | \n",
       "| 1          | Ivysaur    | 405        | 62         | 63         | \n",
       "| 2          | Venusaur   | 525        | 82         | 83         | \n",
       "| 3          | Charmander | 309        | 52         | 43         | \n",
       "| 4          | Charmeleon | 405        | 64         | 58         | \n",
       "\n",
       "\n"
      ],
      "text/plain": [
       "  # Name       Total Attack Defense\n",
       "1 0 Bulbasaur  318   49     49     \n",
       "2 1 Ivysaur    405   62     63     \n",
       "3 2 Venusaur   525   82     83     \n",
       "4 3 Charmander 309   52     43     \n",
       "5 4 Charmeleon 405   64     58     "
      ]
     },
     "metadata": {},
     "output_type": "display_data"
    }
   ],
   "source": [
    "attackDefence <- pokemonAnalytics %>%\n",
    "select(-HP, -`Type 1`, -`Type 2`, -`Sp. Atk`, -`Sp. Def`, -Speed, -Stage, -Legendary)\n",
    "head(attackDefence, 5)"
   ]
  },
  {
   "cell_type": "markdown",
   "metadata": {
    "collapsed": false,
    "deletable": true,
    "editable": true
   },
   "source": [
    "## Dealing with Duplicates\n",
    "\n",
    "Often we see duplicated rows of data in the data frames we are working with. This could happen due to errors in data collection or in saving and loading the data.\n",
    "\n",
    "To check for duplicates, we can use the base R function duplicated(), which will return a logical vector telling us which rows are duplicate rows.\n",
    "\n",
    "Let’s say we have a data frame fruits that represents this table:\n",
    "\n",
    "item \tprice \tcalories\n",
    "\n",
    "“banana” \t“$1” \t105\n",
    "\n",
    "“apple” \t“$0.75” \t95\n",
    "\n",
    "“apple” \t“$0.75” \t95\n",
    "\n",
    "“peach” \t“$3” \t55\n",
    "\n",
    "“peach” \t“$4” \t55\n",
    "\n",
    "“clementine” \t“$2.5” \t35\n",
    "\n",
    "\n",
    "If we call fruits %>% duplicated(), we would get the following vector:\n",
    "\n",
    ">> [1] FALSE FALSE TRUE FALSE FALSE FALSE\n",
    "\n",
    "We can see that the third row, which represents an \"apple\" with price \"$0.75\" and 95 calories, is a duplicate row. Every value in this row is the same as in another row (the previous row).\n",
    "\n",
    "We can use the dplyr distinct() function to remove all rows of a data frame that are duplicates of another row.\n",
    "\n",
    "If we call fruits %>% distinct(), we would get the table:\n",
    "\n",
    "item \tprice \tcalories\n",
    "\n",
    "“banana” \t“$1” \t105\n",
    "\n",
    "“apple” \t“$0.75” \t95\n",
    "\n",
    "“peach” \t“$3” \t55\n",
    "\n",
    "“peach” \t“$4” \t55\n",
    "\n",
    "“clementine” \t“$2.5” \t35\n",
    "\n",
    "The \"apple\" row was deleted because it was exactly the same as another row. But the two \"peach\" rows remain because there is a difference in the price column.\n",
    "\n",
    "If we wanted to remove every row with a duplicate value in the item column, we could specify a subset:\n",
    "\n",
    ">>fruits %>%\n",
    "distinct(item,.keep_all=TRUE)\n",
    "\n",
    "By default, this keeps the first occurrence of the duplicate:\n",
    "\n",
    "item \tprice \tcalories\n",
    "\n",
    "“banana” \t“$1” \t105\n",
    "\n",
    "“apple” \t“$0.75” \t95\n",
    "\n",
    "“peach” \t“$3” \t55\n",
    "\n",
    "“clementine” \t“$2.5” \t35\n",
    "\f",
    "\n",
    "\n",
    "Make sure that the columns you drop duplicates from are specifically the ones where duplicates don’t belong. You wouldn’t want to drop duplicates with the price column as a subset, for example, because it’s okay if multiple items cost the same amount!\n"
   ]
  },
  {
   "cell_type": "code",
   "execution_count": 18,
   "metadata": {
    "collapsed": false,
    "deletable": true,
    "editable": true
   },
   "outputs": [
    {
     "data": {
      "text/html": [
       "<ol class=list-inline>\n",
       "\t<li>FALSE</li>\n",
       "\t<li>FALSE</li>\n",
       "\t<li>FALSE</li>\n",
       "\t<li>FALSE</li>\n",
       "\t<li>FALSE</li>\n",
       "\t<li>FALSE</li>\n",
       "\t<li>FALSE</li>\n",
       "\t<li>FALSE</li>\n",
       "\t<li>FALSE</li>\n",
       "\t<li>FALSE</li>\n",
       "\t<li>FALSE</li>\n",
       "\t<li>FALSE</li>\n",
       "\t<li>FALSE</li>\n",
       "\t<li>FALSE</li>\n",
       "\t<li>FALSE</li>\n",
       "\t<li>FALSE</li>\n",
       "\t<li>FALSE</li>\n",
       "\t<li>FALSE</li>\n",
       "\t<li>FALSE</li>\n",
       "\t<li>FALSE</li>\n",
       "\t<li>FALSE</li>\n",
       "\t<li>FALSE</li>\n",
       "\t<li>FALSE</li>\n",
       "\t<li>FALSE</li>\n",
       "\t<li>FALSE</li>\n",
       "\t<li>FALSE</li>\n",
       "\t<li>FALSE</li>\n",
       "\t<li>FALSE</li>\n",
       "\t<li>FALSE</li>\n",
       "\t<li>FALSE</li>\n",
       "\t<li>FALSE</li>\n",
       "\t<li>FALSE</li>\n",
       "\t<li>FALSE</li>\n",
       "\t<li>FALSE</li>\n",
       "\t<li>FALSE</li>\n",
       "\t<li>FALSE</li>\n",
       "\t<li>FALSE</li>\n",
       "\t<li>FALSE</li>\n",
       "\t<li>FALSE</li>\n",
       "\t<li>FALSE</li>\n",
       "</ol>\n"
      ],
      "text/latex": [
       "\\begin{enumerate*}\n",
       "\\item FALSE\n",
       "\\item FALSE\n",
       "\\item FALSE\n",
       "\\item FALSE\n",
       "\\item FALSE\n",
       "\\item FALSE\n",
       "\\item FALSE\n",
       "\\item FALSE\n",
       "\\item FALSE\n",
       "\\item FALSE\n",
       "\\item FALSE\n",
       "\\item FALSE\n",
       "\\item FALSE\n",
       "\\item FALSE\n",
       "\\item FALSE\n",
       "\\item FALSE\n",
       "\\item FALSE\n",
       "\\item FALSE\n",
       "\\item FALSE\n",
       "\\item FALSE\n",
       "\\item FALSE\n",
       "\\item FALSE\n",
       "\\item FALSE\n",
       "\\item FALSE\n",
       "\\item FALSE\n",
       "\\item FALSE\n",
       "\\item FALSE\n",
       "\\item FALSE\n",
       "\\item FALSE\n",
       "\\item FALSE\n",
       "\\item FALSE\n",
       "\\item FALSE\n",
       "\\item FALSE\n",
       "\\item FALSE\n",
       "\\item FALSE\n",
       "\\item FALSE\n",
       "\\item FALSE\n",
       "\\item FALSE\n",
       "\\item FALSE\n",
       "\\item FALSE\n",
       "\\end{enumerate*}\n"
      ],
      "text/markdown": [
       "1. FALSE\n",
       "2. FALSE\n",
       "3. FALSE\n",
       "4. FALSE\n",
       "5. FALSE\n",
       "6. FALSE\n",
       "7. FALSE\n",
       "8. FALSE\n",
       "9. FALSE\n",
       "10. FALSE\n",
       "11. FALSE\n",
       "12. FALSE\n",
       "13. FALSE\n",
       "14. FALSE\n",
       "15. FALSE\n",
       "16. FALSE\n",
       "17. FALSE\n",
       "18. FALSE\n",
       "19. FALSE\n",
       "20. FALSE\n",
       "21. FALSE\n",
       "22. FALSE\n",
       "23. FALSE\n",
       "24. FALSE\n",
       "25. FALSE\n",
       "26. FALSE\n",
       "27. FALSE\n",
       "28. FALSE\n",
       "29. FALSE\n",
       "30. FALSE\n",
       "31. FALSE\n",
       "32. FALSE\n",
       "33. FALSE\n",
       "34. FALSE\n",
       "35. FALSE\n",
       "36. FALSE\n",
       "37. FALSE\n",
       "38. FALSE\n",
       "39. FALSE\n",
       "40. FALSE\n",
       "\n",
       "\n"
      ],
      "text/plain": [
       " [1] FALSE FALSE FALSE FALSE FALSE FALSE FALSE FALSE FALSE FALSE FALSE FALSE\n",
       "[13] FALSE FALSE FALSE FALSE FALSE FALSE FALSE FALSE FALSE FALSE FALSE FALSE\n",
       "[25] FALSE FALSE FALSE FALSE FALSE FALSE FALSE FALSE FALSE FALSE FALSE FALSE\n",
       "[37] FALSE FALSE FALSE FALSE"
      ]
     },
     "metadata": {},
     "output_type": "display_data"
    }
   ],
   "source": [
    "pokemonAnalytics %>%\n",
    "duplicated()"
   ]
  },
  {
   "cell_type": "code",
   "execution_count": 19,
   "metadata": {
    "collapsed": false,
    "deletable": true,
    "editable": true,
    "scrolled": true
   },
   "outputs": [
    {
     "name": "stderr",
     "output_type": "stream",
     "text": [
      "Warning message in FUN(X[[i]], ...):\n",
      "“input string 2 is invalid in this locale”Warning message in FUN(X[[i]], ...):\n",
      "“input string 2 is invalid in this locale”Warning message in FUN(X[[i]], ...):\n",
      "“input string 2 is invalid in this locale”Warning message in FUN(X[[i]], ...):\n",
      "“input string 2 is invalid in this locale”Warning message in FUN(X[[i]], ...):\n",
      "“input string 2 is invalid in this locale”Warning message in FUN(X[[i]], ...):\n",
      "“input string 2 is invalid in this locale”Warning message in FUN(X[[i]], ...):\n",
      "“input string 2 is invalid in this locale”Warning message in FUN(X[[i]], ...):\n",
      "“input string 2 is invalid in this locale”Warning message in FUN(X[[i]], ...):\n",
      "“input string 2 is invalid in this locale”Warning message in FUN(X[[i]], ...):\n",
      "“input string 2 is invalid in this locale”Warning message in FUN(X[[i]], ...):\n",
      "“input string 2 is invalid in this locale”Warning message in FUN(X[[i]], ...):\n",
      "“input string 2 is invalid in this locale”Warning message in FUN(X[[i]], ...):\n",
      "“input string 2 is invalid in this locale”Warning message in FUN(X[[i]], ...):\n",
      "“input string 2 is invalid in this locale”Warning message in FUN(X[[i]], ...):\n",
      "“input string 2 is invalid in this locale”Warning message in FUN(X[[i]], ...):\n",
      "“input string 2 is invalid in this locale”Warning message in grepl(\"<html.*>\", data[[\"text/html\"]], ignore.case = TRUE):\n",
      "“input string 1 is invalid in this locale”"
     ]
    },
    {
     "data": {
      "text/html": [
       "<table>\n",
       "<thead><tr><th scope=col>#</th><th scope=col>Name</th><th scope=col>Type 1</th><th scope=col>Type 2</th><th scope=col>Total</th><th scope=col>HP</th><th scope=col>Attack</th><th scope=col>Defense</th><th scope=col>Sp. Atk</th><th scope=col>Sp. Def</th><th scope=col>Speed</th><th scope=col>Stage</th><th scope=col>Legendary</th></tr></thead>\n",
       "<tbody>\n",
       "\t<tr><td>0                 </td><td>Bulbasaur         </td><td>Grass             </td><td>Poison            </td><td>318               </td><td> 45               </td><td> 49               </td><td> 49               </td><td> 65               </td><td> 65               </td><td> 45               </td><td>1                 </td><td>FALSE             </td></tr>\n",
       "\t<tr><td>1                 </td><td>Ivysaur           </td><td>Grass             </td><td>Poison            </td><td>405               </td><td> 60               </td><td> 62               </td><td> 63               </td><td> 80               </td><td> 80               </td><td> 60               </td><td>2                 </td><td>FALSE             </td></tr>\n",
       "\t<tr><td>2                 </td><td>Venusaur          </td><td>Grass             </td><td>Poison            </td><td>525               </td><td> 80               </td><td> 82               </td><td> 83               </td><td>100               </td><td>100               </td><td> 80               </td><td>3                 </td><td>FALSE             </td></tr>\n",
       "\t<tr><td>3                 </td><td>Charmander        </td><td>Fire              </td><td>NA                </td><td>309               </td><td> 39               </td><td> 52               </td><td> 43               </td><td> 60               </td><td> 50               </td><td> 65               </td><td>1                 </td><td>FALSE             </td></tr>\n",
       "\t<tr><td>4                 </td><td>Charmeleon        </td><td>Fire              </td><td>NA                </td><td>405               </td><td> 58               </td><td> 64               </td><td> 58               </td><td> 80               </td><td> 65               </td><td> 80               </td><td>2                 </td><td>FALSE             </td></tr>\n",
       "\t<tr><td>5                 </td><td>Charizard         </td><td>Fire              </td><td>Flying            </td><td>534               </td><td> 78               </td><td> 84               </td><td> 78               </td><td>109               </td><td> 85               </td><td>100               </td><td>3                 </td><td>FALSE             </td></tr>\n",
       "\t<tr><td>6                 </td><td>Squirtle          </td><td>Water             </td><td>NA                </td><td>314               </td><td> 44               </td><td> 48               </td><td> 65               </td><td> 50               </td><td> 64               </td><td> 43               </td><td>1                 </td><td>FALSE             </td></tr>\n",
       "\t<tr><td>7                 </td><td>Wartortle         </td><td>Water             </td><td>NA                </td><td>405               </td><td> 59               </td><td> 63               </td><td> 80               </td><td> 65               </td><td> 80               </td><td> 58               </td><td>2                 </td><td>FALSE             </td></tr>\n",
       "\t<tr><td>8                 </td><td>Blastoise         </td><td>Water             </td><td>NA                </td><td>530               </td><td> 79               </td><td> 83               </td><td>100               </td><td> 85               </td><td>105               </td><td> 78               </td><td>3                 </td><td>FALSE             </td></tr>\n",
       "\t<tr><td>9                 </td><td>Caterpie          </td><td>Bug               </td><td>NA                </td><td>195               </td><td> 45               </td><td> 30               </td><td> 35               </td><td> 20               </td><td> 20               </td><td> 45               </td><td>1                 </td><td>FALSE             </td></tr>\n",
       "\t<tr><td>0                 </td><td>Metapod           </td><td>Bug               </td><td>NA                </td><td>205               </td><td> 50               </td><td> 20               </td><td> 55               </td><td> 25               </td><td> 25               </td><td> 30               </td><td>2                 </td><td>FALSE             </td></tr>\n",
       "\t<tr><td>1                 </td><td>Butterfree        </td><td>Bug               </td><td>Flying            </td><td>395               </td><td> 60               </td><td> 45               </td><td> 50               </td><td> 90               </td><td> 80               </td><td> 70               </td><td>3                 </td><td>FALSE             </td></tr>\n",
       "\t<tr><td>2                 </td><td>Weedle            </td><td>Bug               </td><td>Poison            </td><td>195               </td><td> 40               </td><td> 35               </td><td> 30               </td><td> 20               </td><td> 20               </td><td> 50               </td><td>1                 </td><td>FALSE             </td></tr>\n",
       "\t<tr><td>3                 </td><td>Kakuna            </td><td>Bug               </td><td>Poison            </td><td>205               </td><td> 45               </td><td> 25               </td><td> 50               </td><td> 25               </td><td> 25               </td><td> 35               </td><td>2                 </td><td>FALSE             </td></tr>\n",
       "\t<tr><td>4                 </td><td>Beedrill          </td><td>Bug               </td><td>Poison            </td><td>395               </td><td> 65               </td><td> 90               </td><td> 40               </td><td> 45               </td><td> 80               </td><td> 75               </td><td>3                 </td><td>FALSE             </td></tr>\n",
       "\t<tr><td>5                 </td><td>Pidgey            </td><td>Normal            </td><td>Flying            </td><td>251               </td><td> 40               </td><td> 45               </td><td> 40               </td><td> 35               </td><td> 35               </td><td> 56               </td><td>1                 </td><td>FALSE             </td></tr>\n",
       "\t<tr><td>6                 </td><td>Pidgeotto         </td><td>Normal            </td><td>Flying            </td><td>349               </td><td> 63               </td><td> 60               </td><td> 55               </td><td> 50               </td><td> 50               </td><td> 71               </td><td>2                 </td><td>FALSE             </td></tr>\n",
       "\t<tr><td>7                 </td><td>Pidgeot           </td><td>Normal            </td><td>Flying            </td><td>479               </td><td> 83               </td><td> 80               </td><td> 75               </td><td> 70               </td><td> 70               </td><td>101               </td><td>3                 </td><td>FALSE             </td></tr>\n",
       "\t<tr><td>8                 </td><td>Rattata           </td><td>Normal            </td><td>NA                </td><td>253               </td><td> 30               </td><td> 56               </td><td> 35               </td><td> 25               </td><td> 35               </td><td> 72               </td><td>1                 </td><td>FALSE             </td></tr>\n",
       "\t<tr><td>9                 </td><td>Raticate          </td><td>Normal            </td><td>NA                </td><td>413               </td><td> 55               </td><td> 81               </td><td> 60               </td><td> 50               </td><td> 70               </td><td> 97               </td><td>2                 </td><td>FALSE             </td></tr>\n",
       "\t<tr><td>0                 </td><td>Spearow           </td><td>Normal            </td><td>Flying            </td><td>262               </td><td> 40               </td><td> 60               </td><td> 30               </td><td> 31               </td><td> 31               </td><td> 70               </td><td>1                 </td><td>FALSE             </td></tr>\n",
       "\t<tr><td>1                 </td><td>Fearow            </td><td>Normal            </td><td>Flying            </td><td>442               </td><td> 65               </td><td> 90               </td><td> 65               </td><td> 61               </td><td> 61               </td><td>100               </td><td>2                 </td><td>FALSE             </td></tr>\n",
       "\t<tr><td>2                 </td><td>Ekans             </td><td>Poison            </td><td>NA                </td><td>288               </td><td> 35               </td><td> 60               </td><td> 44               </td><td> 40               </td><td> 54               </td><td> 55               </td><td>1                 </td><td>FALSE             </td></tr>\n",
       "\t<tr><td>3                 </td><td>Arbok             </td><td>Poison            </td><td>NA                </td><td>438               </td><td> 60               </td><td> 85               </td><td> 69               </td><td> 65               </td><td> 79               </td><td> 80               </td><td>2                 </td><td>FALSE             </td></tr>\n",
       "\t<tr><td>4                 </td><td>Pikachu           </td><td>Electric          </td><td>NA                </td><td>320               </td><td> 35               </td><td> 55               </td><td> 40               </td><td> 50               </td><td> 50               </td><td> 90               </td><td>1                 </td><td>FALSE             </td></tr>\n",
       "\t<tr><td>5                 </td><td>Raichu            </td><td>Electric          </td><td>NA                </td><td>485               </td><td> 60               </td><td> 90               </td><td> 55               </td><td> 90               </td><td> 80               </td><td>110               </td><td>2                 </td><td>FALSE             </td></tr>\n",
       "\t<tr><td>6                 </td><td>Sandshrew         </td><td>Ground            </td><td>NA                </td><td>300               </td><td> 50               </td><td> 75               </td><td> 85               </td><td> 20               </td><td> 30               </td><td> 40               </td><td>1                 </td><td>FALSE             </td></tr>\n",
       "\t<tr><td>7                 </td><td>Sandslash         </td><td>Ground            </td><td>NA                </td><td>450               </td><td> 75               </td><td>100               </td><td>110               </td><td> 45               </td><td> 55               </td><td> 65               </td><td>2                 </td><td>FALSE             </td></tr>\n",
       "\t<tr><td>8                  </td><td>Nidoran<89><aa><db></td><td>Poison             </td><td>NA                 </td><td>275                </td><td> 55                </td><td> 47                </td><td> 52                </td><td> 40                </td><td> 40                </td><td> 41                </td><td>1                  </td><td>FALSE              </td></tr>\n",
       "\t<tr><td>9                 </td><td>Nidorina          </td><td>Poison            </td><td>NA                </td><td>365               </td><td> 70               </td><td> 62               </td><td> 67               </td><td> 55               </td><td> 55               </td><td> 56               </td><td>2                 </td><td>FALSE             </td></tr>\n",
       "\t<tr><td>0                 </td><td>Nidoqueen         </td><td>Poison            </td><td>Ground            </td><td>505               </td><td> 90               </td><td> 92               </td><td> 87               </td><td> 75               </td><td> 85               </td><td> 76               </td><td>3                 </td><td>FALSE             </td></tr>\n",
       "\t<tr><td>1                 </td><td>Nidoran           </td><td>Poison            </td><td>NA                </td><td>273               </td><td> 46               </td><td> 57               </td><td> 40               </td><td> 40               </td><td> 40               </td><td> 50               </td><td>1                 </td><td>FALSE             </td></tr>\n",
       "\t<tr><td>2                 </td><td>Nidorino          </td><td>Poison            </td><td>NA                </td><td>365               </td><td> 61               </td><td> 72               </td><td> 57               </td><td> 55               </td><td> 55               </td><td> 65               </td><td>2                 </td><td>FALSE             </td></tr>\n",
       "\t<tr><td>3                 </td><td>Nidoking          </td><td>Poison            </td><td>Ground            </td><td>505               </td><td> 81               </td><td>102               </td><td> 77               </td><td> 85               </td><td> 75               </td><td> 85               </td><td>3                 </td><td>FALSE             </td></tr>\n",
       "\t<tr><td>4                 </td><td>Clefairy          </td><td>Fairy             </td><td>NA                </td><td>323               </td><td> 70               </td><td> 45               </td><td> 48               </td><td> 60               </td><td> 65               </td><td> 35               </td><td>1                 </td><td>FALSE             </td></tr>\n",
       "\t<tr><td>5                 </td><td>Clefable          </td><td>Fairy             </td><td>NA                </td><td>483               </td><td> 95               </td><td> 70               </td><td> 73               </td><td> 95               </td><td> 90               </td><td> 60               </td><td>2                 </td><td>FALSE             </td></tr>\n",
       "\t<tr><td>6                 </td><td>Vulpix            </td><td>Fire              </td><td>NA                </td><td>299               </td><td> 38               </td><td> 41               </td><td> 40               </td><td> 50               </td><td> 65               </td><td> 65               </td><td>1                 </td><td>FALSE             </td></tr>\n",
       "\t<tr><td>7                 </td><td>Ninetales         </td><td>Fire              </td><td>NA                </td><td>505               </td><td> 73               </td><td> 76               </td><td> 75               </td><td> 81               </td><td>100               </td><td>100               </td><td>2                 </td><td>FALSE             </td></tr>\n",
       "\t<tr><td>8                 </td><td>Jigglypuff        </td><td>Normal            </td><td>Fairy             </td><td>270               </td><td>115               </td><td> 45               </td><td> 20               </td><td> 45               </td><td> 25               </td><td> 20               </td><td>1                 </td><td>FALSE             </td></tr>\n",
       "\t<tr><td>9                 </td><td>Wigglytuff        </td><td>Normal            </td><td>Fairy             </td><td>435               </td><td>140               </td><td> 70               </td><td> 45               </td><td> 85               </td><td> 50               </td><td> 45               </td><td>2                 </td><td>FALSE             </td></tr>\n",
       "</tbody>\n",
       "</table>\n"
      ],
      "text/markdown": [
       "\n",
       "# | Name | Type 1 | Type 2 | Total | HP | Attack | Defense | Sp. Atk | Sp. Def | Speed | Stage | Legendary | \n",
       "|---|---|---|---|---|---|---|---|---|---|---|---|---|---|---|---|---|---|---|---|---|---|---|---|---|---|---|---|---|---|---|---|---|---|---|---|---|---|---|---|\n",
       "| 0                  | Bulbasaur          | Grass              | Poison             | 318                |  45                |  49                |  49                |  65                |  65                |  45                | 1                  | FALSE              | \n",
       "| 1                  | Ivysaur            | Grass              | Poison             | 405                |  60                |  62                |  63                |  80                |  80                |  60                | 2                  | FALSE              | \n",
       "| 2                  | Venusaur           | Grass              | Poison             | 525                |  80                |  82                |  83                | 100                | 100                |  80                | 3                  | FALSE              | \n",
       "| 3                  | Charmander         | Fire               | NA                 | 309                |  39                |  52                |  43                |  60                |  50                |  65                | 1                  | FALSE              | \n",
       "| 4                  | Charmeleon         | Fire               | NA                 | 405                |  58                |  64                |  58                |  80                |  65                |  80                | 2                  | FALSE              | \n",
       "| 5                  | Charizard          | Fire               | Flying             | 534                |  78                |  84                |  78                | 109                |  85                | 100                | 3                  | FALSE              | \n",
       "| 6                  | Squirtle           | Water              | NA                 | 314                |  44                |  48                |  65                |  50                |  64                |  43                | 1                  | FALSE              | \n",
       "| 7                  | Wartortle          | Water              | NA                 | 405                |  59                |  63                |  80                |  65                |  80                |  58                | 2                  | FALSE              | \n",
       "| 8                  | Blastoise          | Water              | NA                 | 530                |  79                |  83                | 100                |  85                | 105                |  78                | 3                  | FALSE              | \n",
       "| 9                  | Caterpie           | Bug                | NA                 | 195                |  45                |  30                |  35                |  20                |  20                |  45                | 1                  | FALSE              | \n",
       "| 0                  | Metapod            | Bug                | NA                 | 205                |  50                |  20                |  55                |  25                |  25                |  30                | 2                  | FALSE              | \n",
       "| 1                  | Butterfree         | Bug                | Flying             | 395                |  60                |  45                |  50                |  90                |  80                |  70                | 3                  | FALSE              | \n",
       "| 2                  | Weedle             | Bug                | Poison             | 195                |  40                |  35                |  30                |  20                |  20                |  50                | 1                  | FALSE              | \n",
       "| 3                  | Kakuna             | Bug                | Poison             | 205                |  45                |  25                |  50                |  25                |  25                |  35                | 2                  | FALSE              | \n",
       "| 4                  | Beedrill           | Bug                | Poison             | 395                |  65                |  90                |  40                |  45                |  80                |  75                | 3                  | FALSE              | \n",
       "| 5                  | Pidgey             | Normal             | Flying             | 251                |  40                |  45                |  40                |  35                |  35                |  56                | 1                  | FALSE              | \n",
       "| 6                  | Pidgeotto          | Normal             | Flying             | 349                |  63                |  60                |  55                |  50                |  50                |  71                | 2                  | FALSE              | \n",
       "| 7                  | Pidgeot            | Normal             | Flying             | 479                |  83                |  80                |  75                |  70                |  70                | 101                | 3                  | FALSE              | \n",
       "| 8                  | Rattata            | Normal             | NA                 | 253                |  30                |  56                |  35                |  25                |  35                |  72                | 1                  | FALSE              | \n",
       "| 9                  | Raticate           | Normal             | NA                 | 413                |  55                |  81                |  60                |  50                |  70                |  97                | 2                  | FALSE              | \n",
       "| 0                  | Spearow            | Normal             | Flying             | 262                |  40                |  60                |  30                |  31                |  31                |  70                | 1                  | FALSE              | \n",
       "| 1                  | Fearow             | Normal             | Flying             | 442                |  65                |  90                |  65                |  61                |  61                | 100                | 2                  | FALSE              | \n",
       "| 2                  | Ekans              | Poison             | NA                 | 288                |  35                |  60                |  44                |  40                |  54                |  55                | 1                  | FALSE              | \n",
       "| 3                  | Arbok              | Poison             | NA                 | 438                |  60                |  85                |  69                |  65                |  79                |  80                | 2                  | FALSE              | \n",
       "| 4                  | Pikachu            | Electric           | NA                 | 320                |  35                |  55                |  40                |  50                |  50                |  90                | 1                  | FALSE              | \n",
       "| 5                  | Raichu             | Electric           | NA                 | 485                |  60                |  90                |  55                |  90                |  80                | 110                | 2                  | FALSE              | \n",
       "| 6                  | Sandshrew          | Ground             | NA                 | 300                |  50                |  75                |  85                |  20                |  30                |  40                | 1                  | FALSE              | \n",
       "| 7                  | Sandslash          | Ground             | NA                 | 450                |  75                | 100                | 110                |  45                |  55                |  65                | 2                  | FALSE              | \n",
       "| 8                   | Nidoran<89><aa><db> | Poison              | NA                  | 275                 |  55                 |  47                 |  52                 |  40                 |  40                 |  41                 | 1                   | FALSE               | \n",
       "| 9                  | Nidorina           | Poison             | NA                 | 365                |  70                |  62                |  67                |  55                |  55                |  56                | 2                  | FALSE              | \n",
       "| 0                  | Nidoqueen          | Poison             | Ground             | 505                |  90                |  92                |  87                |  75                |  85                |  76                | 3                  | FALSE              | \n",
       "| 1                  | Nidoran            | Poison             | NA                 | 273                |  46                |  57                |  40                |  40                |  40                |  50                | 1                  | FALSE              | \n",
       "| 2                  | Nidorino           | Poison             | NA                 | 365                |  61                |  72                |  57                |  55                |  55                |  65                | 2                  | FALSE              | \n",
       "| 3                  | Nidoking           | Poison             | Ground             | 505                |  81                | 102                |  77                |  85                |  75                |  85                | 3                  | FALSE              | \n",
       "| 4                  | Clefairy           | Fairy              | NA                 | 323                |  70                |  45                |  48                |  60                |  65                |  35                | 1                  | FALSE              | \n",
       "| 5                  | Clefable           | Fairy              | NA                 | 483                |  95                |  70                |  73                |  95                |  90                |  60                | 2                  | FALSE              | \n",
       "| 6                  | Vulpix             | Fire               | NA                 | 299                |  38                |  41                |  40                |  50                |  65                |  65                | 1                  | FALSE              | \n",
       "| 7                  | Ninetales          | Fire               | NA                 | 505                |  73                |  76                |  75                |  81                | 100                | 100                | 2                  | FALSE              | \n",
       "| 8                  | Jigglypuff         | Normal             | Fairy              | 270                | 115                |  45                |  20                |  45                |  25                |  20                | 1                  | FALSE              | \n",
       "| 9                  | Wigglytuff         | Normal             | Fairy              | 435                | 140                |  70                |  45                |  85                |  50                |  45                | 2                  | FALSE              | \n",
       "\n",
       "\n"
      ],
      "text/plain": [
       "   # Name                Type 1   Type 2 Total HP  Attack Defense Sp. Atk\n",
       "1  0 Bulbasaur           Grass    Poison 318    45  49     49      65    \n",
       "2  1 Ivysaur             Grass    Poison 405    60  62     63      80    \n",
       "3  2 Venusaur            Grass    Poison 525    80  82     83     100    \n",
       "4  3 Charmander          Fire     NA     309    39  52     43      60    \n",
       "5  4 Charmeleon          Fire     NA     405    58  64     58      80    \n",
       "6  5 Charizard           Fire     Flying 534    78  84     78     109    \n",
       "7  6 Squirtle            Water    NA     314    44  48     65      50    \n",
       "8  7 Wartortle           Water    NA     405    59  63     80      65    \n",
       "9  8 Blastoise           Water    NA     530    79  83    100      85    \n",
       "10 9 Caterpie            Bug      NA     195    45  30     35      20    \n",
       "11 0 Metapod             Bug      NA     205    50  20     55      25    \n",
       "12 1 Butterfree          Bug      Flying 395    60  45     50      90    \n",
       "13 2 Weedle              Bug      Poison 195    40  35     30      20    \n",
       "14 3 Kakuna              Bug      Poison 205    45  25     50      25    \n",
       "15 4 Beedrill            Bug      Poison 395    65  90     40      45    \n",
       "16 5 Pidgey              Normal   Flying 251    40  45     40      35    \n",
       "17 6 Pidgeotto           Normal   Flying 349    63  60     55      50    \n",
       "18 7 Pidgeot             Normal   Flying 479    83  80     75      70    \n",
       "19 8 Rattata             Normal   NA     253    30  56     35      25    \n",
       "20 9 Raticate            Normal   NA     413    55  81     60      50    \n",
       "21 0 Spearow             Normal   Flying 262    40  60     30      31    \n",
       "22 1 Fearow              Normal   Flying 442    65  90     65      61    \n",
       "23 2 Ekans               Poison   NA     288    35  60     44      40    \n",
       "24 3 Arbok               Poison   NA     438    60  85     69      65    \n",
       "25 4 Pikachu             Electric NA     320    35  55     40      50    \n",
       "26 5 Raichu              Electric NA     485    60  90     55      90    \n",
       "27 6 Sandshrew           Ground   NA     300    50  75     85      20    \n",
       "28 7 Sandslash           Ground   NA     450    75 100    110      45    \n",
       "29 8 Nidoran\\x89\\xaa\\xdb Poison   NA     275    55  47     52      40    \n",
       "30 9 Nidorina            Poison   NA     365    70  62     67      55    \n",
       "31 0 Nidoqueen           Poison   Ground 505    90  92     87      75    \n",
       "32 1 Nidoran             Poison   NA     273    46  57     40      40    \n",
       "33 2 Nidorino            Poison   NA     365    61  72     57      55    \n",
       "34 3 Nidoking            Poison   Ground 505    81 102     77      85    \n",
       "35 4 Clefairy            Fairy    NA     323    70  45     48      60    \n",
       "36 5 Clefable            Fairy    NA     483    95  70     73      95    \n",
       "37 6 Vulpix              Fire     NA     299    38  41     40      50    \n",
       "38 7 Ninetales           Fire     NA     505    73  76     75      81    \n",
       "39 8 Jigglypuff          Normal   Fairy  270   115  45     20      45    \n",
       "40 9 Wigglytuff          Normal   Fairy  435   140  70     45      85    \n",
       "   Sp. Def Speed Stage Legendary\n",
       "1   65      45   1     FALSE    \n",
       "2   80      60   2     FALSE    \n",
       "3  100      80   3     FALSE    \n",
       "4   50      65   1     FALSE    \n",
       "5   65      80   2     FALSE    \n",
       "6   85     100   3     FALSE    \n",
       "7   64      43   1     FALSE    \n",
       "8   80      58   2     FALSE    \n",
       "9  105      78   3     FALSE    \n",
       "10  20      45   1     FALSE    \n",
       "11  25      30   2     FALSE    \n",
       "12  80      70   3     FALSE    \n",
       "13  20      50   1     FALSE    \n",
       "14  25      35   2     FALSE    \n",
       "15  80      75   3     FALSE    \n",
       "16  35      56   1     FALSE    \n",
       "17  50      71   2     FALSE    \n",
       "18  70     101   3     FALSE    \n",
       "19  35      72   1     FALSE    \n",
       "20  70      97   2     FALSE    \n",
       "21  31      70   1     FALSE    \n",
       "22  61     100   2     FALSE    \n",
       "23  54      55   1     FALSE    \n",
       "24  79      80   2     FALSE    \n",
       "25  50      90   1     FALSE    \n",
       "26  80     110   2     FALSE    \n",
       "27  30      40   1     FALSE    \n",
       "28  55      65   2     FALSE    \n",
       "29  40      41   1     FALSE    \n",
       "30  55      56   2     FALSE    \n",
       "31  85      76   3     FALSE    \n",
       "32  40      50   1     FALSE    \n",
       "33  55      65   2     FALSE    \n",
       "34  75      85   3     FALSE    \n",
       "35  65      35   1     FALSE    \n",
       "36  90      60   2     FALSE    \n",
       "37  65      65   1     FALSE    \n",
       "38 100     100   2     FALSE    \n",
       "39  25      20   1     FALSE    \n",
       "40  50      45   2     FALSE    "
      ]
     },
     "metadata": {},
     "output_type": "display_data"
    }
   ],
   "source": [
    "pokemonAnalytics %>%\n",
    "distinct(Name, .keep_all = TRUE)"
   ]
  },
  {
   "cell_type": "markdown",
   "metadata": {
    "deletable": true,
    "editable": true
   },
   "source": [
    "## Splitting By Index\n",
    "\n",
    "In trying to get clean data, we want to make sure each column represents one type of measurement. Often, multiple measurements are recorded in the same column, and we want to separate these out so that we can do individual analysis on each variable.\n",
    "\n",
    "Let’s say we have a column “birthday” with data formatted in MMDDYYYY format. In other words, “11011993” represents a birthday of November 1, 1993. We want to split this data into day, month, and year so that we can use these columns as separate features.\n",
    "\n",
    "In this case, we know the exact structure of these strings. The first two characters will always correspond to the month, the second two to the day, and the rest of the string will always correspond to year. We can easily break the data into three separate columns by splitting the strings into substrings using str_sub(), a helpful function from the stringr package:\n",
    "\n",
    "## Create the 'month' column\n",
    ">df %>%\n",
    "  mutate(month = str_sub(birthday,1,2))\n",
    " \n",
    "## Create the 'day' column\n",
    ">df %>%\n",
    "mutate(day = str_sub(birthday,3,4))\n",
    " \n",
    "## Create the 'year' column\n",
    ">df %>%\n",
    "mutate(year = str_sub(birthday,5))"
   ]
  },
  {
   "cell_type": "code",
   "execution_count": 20,
   "metadata": {
    "collapsed": false,
    "deletable": true,
    "editable": true
   },
   "outputs": [
    {
     "data": {
      "text/html": [
       "<table>\n",
       "<thead><tr><th scope=col>#</th><th scope=col>Name</th><th scope=col>Type 1</th><th scope=col>Type 2</th><th scope=col>Total</th><th scope=col>HP</th><th scope=col>Attack</th><th scope=col>Defense</th><th scope=col>Sp. Atk</th><th scope=col>Sp. Def</th><th scope=col>Speed</th><th scope=col>Stage</th><th scope=col>Legendary</th><th scope=col>HundredsPlace</th></tr></thead>\n",
       "<tbody>\n",
       "\t<tr><td>0         </td><td>Bulbasaur </td><td>Grass     </td><td>Poison    </td><td>318       </td><td>45        </td><td>49        </td><td>49        </td><td> 65       </td><td> 65       </td><td> 45       </td><td>1         </td><td>FALSE     </td><td>3         </td></tr>\n",
       "\t<tr><td>1         </td><td>Ivysaur   </td><td>Grass     </td><td>Poison    </td><td>405       </td><td>60        </td><td>62        </td><td>63        </td><td> 80       </td><td> 80       </td><td> 60       </td><td>2         </td><td>FALSE     </td><td>4         </td></tr>\n",
       "\t<tr><td>2         </td><td>Venusaur  </td><td>Grass     </td><td>Poison    </td><td>525       </td><td>80        </td><td>82        </td><td>83        </td><td>100       </td><td>100       </td><td> 80       </td><td>3         </td><td>FALSE     </td><td>5         </td></tr>\n",
       "\t<tr><td>3         </td><td>Charmander</td><td>Fire      </td><td>NA        </td><td>309       </td><td>39        </td><td>52        </td><td>43        </td><td> 60       </td><td> 50       </td><td> 65       </td><td>1         </td><td>FALSE     </td><td>3         </td></tr>\n",
       "\t<tr><td>4         </td><td>Charmeleon</td><td>Fire      </td><td>NA        </td><td>405       </td><td>58        </td><td>64        </td><td>58        </td><td> 80       </td><td> 65       </td><td> 80       </td><td>2         </td><td>FALSE     </td><td>4         </td></tr>\n",
       "\t<tr><td>5         </td><td>Charizard </td><td>Fire      </td><td>Flying    </td><td>534       </td><td>78        </td><td>84        </td><td>78        </td><td>109       </td><td> 85       </td><td>100       </td><td>3         </td><td>FALSE     </td><td>5         </td></tr>\n",
       "</tbody>\n",
       "</table>\n"
      ],
      "text/latex": [
       "\\begin{tabular}{r|llllllllllllll}\n",
       " \\# & Name & Type 1 & Type 2 & Total & HP & Attack & Defense & Sp. Atk & Sp. Def & Speed & Stage & Legendary & HundredsPlace\\\\\n",
       "\\hline\n",
       "\t 0          & Bulbasaur  & Grass      & Poison     & 318        & 45         & 49         & 49         &  65        &  65        &  45        & 1          & FALSE      & 3         \\\\\n",
       "\t 1          & Ivysaur    & Grass      & Poison     & 405        & 60         & 62         & 63         &  80        &  80        &  60        & 2          & FALSE      & 4         \\\\\n",
       "\t 2          & Venusaur   & Grass      & Poison     & 525        & 80         & 82         & 83         & 100        & 100        &  80        & 3          & FALSE      & 5         \\\\\n",
       "\t 3          & Charmander & Fire       & NA         & 309        & 39         & 52         & 43         &  60        &  50        &  65        & 1          & FALSE      & 3         \\\\\n",
       "\t 4          & Charmeleon & Fire       & NA         & 405        & 58         & 64         & 58         &  80        &  65        &  80        & 2          & FALSE      & 4         \\\\\n",
       "\t 5          & Charizard  & Fire       & Flying     & 534        & 78         & 84         & 78         & 109        &  85        & 100        & 3          & FALSE      & 5         \\\\\n",
       "\\end{tabular}\n"
      ],
      "text/markdown": [
       "\n",
       "# | Name | Type 1 | Type 2 | Total | HP | Attack | Defense | Sp. Atk | Sp. Def | Speed | Stage | Legendary | HundredsPlace | \n",
       "|---|---|---|---|---|---|\n",
       "| 0          | Bulbasaur  | Grass      | Poison     | 318        | 45         | 49         | 49         |  65        |  65        |  45        | 1          | FALSE      | 3          | \n",
       "| 1          | Ivysaur    | Grass      | Poison     | 405        | 60         | 62         | 63         |  80        |  80        |  60        | 2          | FALSE      | 4          | \n",
       "| 2          | Venusaur   | Grass      | Poison     | 525        | 80         | 82         | 83         | 100        | 100        |  80        | 3          | FALSE      | 5          | \n",
       "| 3          | Charmander | Fire       | NA         | 309        | 39         | 52         | 43         |  60        |  50        |  65        | 1          | FALSE      | 3          | \n",
       "| 4          | Charmeleon | Fire       | NA         | 405        | 58         | 64         | 58         |  80        |  65        |  80        | 2          | FALSE      | 4          | \n",
       "| 5          | Charizard  | Fire       | Flying     | 534        | 78         | 84         | 78         | 109        |  85        | 100        | 3          | FALSE      | 5          | \n",
       "\n",
       "\n"
      ],
      "text/plain": [
       "  # Name       Type 1 Type 2 Total HP Attack Defense Sp. Atk Sp. Def Speed\n",
       "1 0 Bulbasaur  Grass  Poison 318   45 49     49       65      65      45  \n",
       "2 1 Ivysaur    Grass  Poison 405   60 62     63       80      80      60  \n",
       "3 2 Venusaur   Grass  Poison 525   80 82     83      100     100      80  \n",
       "4 3 Charmander Fire   NA     309   39 52     43       60      50      65  \n",
       "5 4 Charmeleon Fire   NA     405   58 64     58       80      65      80  \n",
       "6 5 Charizard  Fire   Flying 534   78 84     78      109      85     100  \n",
       "  Stage Legendary HundredsPlace\n",
       "1 1     FALSE     3            \n",
       "2 2     FALSE     4            \n",
       "3 3     FALSE     5            \n",
       "4 1     FALSE     3            \n",
       "5 2     FALSE     4            \n",
       "6 3     FALSE     5            "
      ]
     },
     "metadata": {},
     "output_type": "display_data"
    }
   ],
   "source": [
    "library(stringr)\n",
    "\n",
    "stringBreakUno <- pokemonAnalytics %>%\n",
    "mutate(HundredsPlace = str_sub(Total,0,1))\n",
    "\n",
    "head(stringBreakUno)"
   ]
  },
  {
   "cell_type": "code",
   "execution_count": 21,
   "metadata": {
    "collapsed": false,
    "deletable": true,
    "editable": true
   },
   "outputs": [
    {
     "data": {
      "text/html": [
       "<table>\n",
       "<thead><tr><th scope=col>#</th><th scope=col>Name</th><th scope=col>Type 1</th><th scope=col>Type 2</th><th scope=col>Total</th><th scope=col>HP</th><th scope=col>Attack</th><th scope=col>Defense</th><th scope=col>Sp. Atk</th><th scope=col>Sp. Def</th><th scope=col>Speed</th><th scope=col>Stage</th><th scope=col>Legendary</th><th scope=col>TensPlace</th></tr></thead>\n",
       "<tbody>\n",
       "\t<tr><td>0         </td><td>Bulbasaur </td><td>Grass     </td><td>Poison    </td><td>318       </td><td>45        </td><td>49        </td><td>49        </td><td> 65       </td><td> 65       </td><td> 45       </td><td>1         </td><td>FALSE     </td><td>18        </td></tr>\n",
       "\t<tr><td>1         </td><td>Ivysaur   </td><td>Grass     </td><td>Poison    </td><td>405       </td><td>60        </td><td>62        </td><td>63        </td><td> 80       </td><td> 80       </td><td> 60       </td><td>2         </td><td>FALSE     </td><td>05        </td></tr>\n",
       "\t<tr><td>2         </td><td>Venusaur  </td><td>Grass     </td><td>Poison    </td><td>525       </td><td>80        </td><td>82        </td><td>83        </td><td>100       </td><td>100       </td><td> 80       </td><td>3         </td><td>FALSE     </td><td>25        </td></tr>\n",
       "\t<tr><td>3         </td><td>Charmander</td><td>Fire      </td><td>NA        </td><td>309       </td><td>39        </td><td>52        </td><td>43        </td><td> 60       </td><td> 50       </td><td> 65       </td><td>1         </td><td>FALSE     </td><td>09        </td></tr>\n",
       "\t<tr><td>4         </td><td>Charmeleon</td><td>Fire      </td><td>NA        </td><td>405       </td><td>58        </td><td>64        </td><td>58        </td><td> 80       </td><td> 65       </td><td> 80       </td><td>2         </td><td>FALSE     </td><td>05        </td></tr>\n",
       "\t<tr><td>5         </td><td>Charizard </td><td>Fire      </td><td>Flying    </td><td>534       </td><td>78        </td><td>84        </td><td>78        </td><td>109       </td><td> 85       </td><td>100       </td><td>3         </td><td>FALSE     </td><td>34        </td></tr>\n",
       "</tbody>\n",
       "</table>\n"
      ],
      "text/latex": [
       "\\begin{tabular}{r|llllllllllllll}\n",
       " \\# & Name & Type 1 & Type 2 & Total & HP & Attack & Defense & Sp. Atk & Sp. Def & Speed & Stage & Legendary & TensPlace\\\\\n",
       "\\hline\n",
       "\t 0          & Bulbasaur  & Grass      & Poison     & 318        & 45         & 49         & 49         &  65        &  65        &  45        & 1          & FALSE      & 18        \\\\\n",
       "\t 1          & Ivysaur    & Grass      & Poison     & 405        & 60         & 62         & 63         &  80        &  80        &  60        & 2          & FALSE      & 05        \\\\\n",
       "\t 2          & Venusaur   & Grass      & Poison     & 525        & 80         & 82         & 83         & 100        & 100        &  80        & 3          & FALSE      & 25        \\\\\n",
       "\t 3          & Charmander & Fire       & NA         & 309        & 39         & 52         & 43         &  60        &  50        &  65        & 1          & FALSE      & 09        \\\\\n",
       "\t 4          & Charmeleon & Fire       & NA         & 405        & 58         & 64         & 58         &  80        &  65        &  80        & 2          & FALSE      & 05        \\\\\n",
       "\t 5          & Charizard  & Fire       & Flying     & 534        & 78         & 84         & 78         & 109        &  85        & 100        & 3          & FALSE      & 34        \\\\\n",
       "\\end{tabular}\n"
      ],
      "text/markdown": [
       "\n",
       "# | Name | Type 1 | Type 2 | Total | HP | Attack | Defense | Sp. Atk | Sp. Def | Speed | Stage | Legendary | TensPlace | \n",
       "|---|---|---|---|---|---|\n",
       "| 0          | Bulbasaur  | Grass      | Poison     | 318        | 45         | 49         | 49         |  65        |  65        |  45        | 1          | FALSE      | 18         | \n",
       "| 1          | Ivysaur    | Grass      | Poison     | 405        | 60         | 62         | 63         |  80        |  80        |  60        | 2          | FALSE      | 05         | \n",
       "| 2          | Venusaur   | Grass      | Poison     | 525        | 80         | 82         | 83         | 100        | 100        |  80        | 3          | FALSE      | 25         | \n",
       "| 3          | Charmander | Fire       | NA         | 309        | 39         | 52         | 43         |  60        |  50        |  65        | 1          | FALSE      | 09         | \n",
       "| 4          | Charmeleon | Fire       | NA         | 405        | 58         | 64         | 58         |  80        |  65        |  80        | 2          | FALSE      | 05         | \n",
       "| 5          | Charizard  | Fire       | Flying     | 534        | 78         | 84         | 78         | 109        |  85        | 100        | 3          | FALSE      | 34         | \n",
       "\n",
       "\n"
      ],
      "text/plain": [
       "  # Name       Type 1 Type 2 Total HP Attack Defense Sp. Atk Sp. Def Speed\n",
       "1 0 Bulbasaur  Grass  Poison 318   45 49     49       65      65      45  \n",
       "2 1 Ivysaur    Grass  Poison 405   60 62     63       80      80      60  \n",
       "3 2 Venusaur   Grass  Poison 525   80 82     83      100     100      80  \n",
       "4 3 Charmander Fire   NA     309   39 52     43       60      50      65  \n",
       "5 4 Charmeleon Fire   NA     405   58 64     58       80      65      80  \n",
       "6 5 Charizard  Fire   Flying 534   78 84     78      109      85     100  \n",
       "  Stage Legendary TensPlace\n",
       "1 1     FALSE     18       \n",
       "2 2     FALSE     05       \n",
       "3 3     FALSE     25       \n",
       "4 1     FALSE     09       \n",
       "5 2     FALSE     05       \n",
       "6 3     FALSE     34       "
      ]
     },
     "metadata": {},
     "output_type": "display_data"
    }
   ],
   "source": [
    "stringBreakDuo <- pokemonAnalytics %>%\n",
    "mutate(TensPlace = str_sub(Total,2))\n",
    "head(stringBreakDuo)"
   ]
  },
  {
   "cell_type": "code",
   "execution_count": 22,
   "metadata": {
    "collapsed": false,
    "deletable": true,
    "editable": true
   },
   "outputs": [
    {
     "data": {
      "text/html": [
       "<table>\n",
       "<thead><tr><th scope=col>#</th><th scope=col>Name</th><th scope=col>Type 1</th><th scope=col>Type 2</th><th scope=col>Total</th><th scope=col>HP</th><th scope=col>Attack</th><th scope=col>Defense</th><th scope=col>Sp. Atk</th><th scope=col>Sp. Def</th><th scope=col>Speed</th><th scope=col>Stage</th><th scope=col>Legendary</th><th scope=col>OnesPlace</th></tr></thead>\n",
       "<tbody>\n",
       "\t<tr><td>0         </td><td>Bulbasaur </td><td>Grass     </td><td>Poison    </td><td>318       </td><td>45        </td><td>49        </td><td>49        </td><td> 65       </td><td> 65       </td><td> 45       </td><td>1         </td><td>FALSE     </td><td>8         </td></tr>\n",
       "\t<tr><td>1         </td><td>Ivysaur   </td><td>Grass     </td><td>Poison    </td><td>405       </td><td>60        </td><td>62        </td><td>63        </td><td> 80       </td><td> 80       </td><td> 60       </td><td>2         </td><td>FALSE     </td><td>5         </td></tr>\n",
       "\t<tr><td>2         </td><td>Venusaur  </td><td>Grass     </td><td>Poison    </td><td>525       </td><td>80        </td><td>82        </td><td>83        </td><td>100       </td><td>100       </td><td> 80       </td><td>3         </td><td>FALSE     </td><td>5         </td></tr>\n",
       "\t<tr><td>3         </td><td>Charmander</td><td>Fire      </td><td>NA        </td><td>309       </td><td>39        </td><td>52        </td><td>43        </td><td> 60       </td><td> 50       </td><td> 65       </td><td>1         </td><td>FALSE     </td><td>9         </td></tr>\n",
       "\t<tr><td>4         </td><td>Charmeleon</td><td>Fire      </td><td>NA        </td><td>405       </td><td>58        </td><td>64        </td><td>58        </td><td> 80       </td><td> 65       </td><td> 80       </td><td>2         </td><td>FALSE     </td><td>5         </td></tr>\n",
       "\t<tr><td>5         </td><td>Charizard </td><td>Fire      </td><td>Flying    </td><td>534       </td><td>78        </td><td>84        </td><td>78        </td><td>109       </td><td> 85       </td><td>100       </td><td>3         </td><td>FALSE     </td><td>4         </td></tr>\n",
       "</tbody>\n",
       "</table>\n"
      ],
      "text/latex": [
       "\\begin{tabular}{r|llllllllllllll}\n",
       " \\# & Name & Type 1 & Type 2 & Total & HP & Attack & Defense & Sp. Atk & Sp. Def & Speed & Stage & Legendary & OnesPlace\\\\\n",
       "\\hline\n",
       "\t 0          & Bulbasaur  & Grass      & Poison     & 318        & 45         & 49         & 49         &  65        &  65        &  45        & 1          & FALSE      & 8         \\\\\n",
       "\t 1          & Ivysaur    & Grass      & Poison     & 405        & 60         & 62         & 63         &  80        &  80        &  60        & 2          & FALSE      & 5         \\\\\n",
       "\t 2          & Venusaur   & Grass      & Poison     & 525        & 80         & 82         & 83         & 100        & 100        &  80        & 3          & FALSE      & 5         \\\\\n",
       "\t 3          & Charmander & Fire       & NA         & 309        & 39         & 52         & 43         &  60        &  50        &  65        & 1          & FALSE      & 9         \\\\\n",
       "\t 4          & Charmeleon & Fire       & NA         & 405        & 58         & 64         & 58         &  80        &  65        &  80        & 2          & FALSE      & 5         \\\\\n",
       "\t 5          & Charizard  & Fire       & Flying     & 534        & 78         & 84         & 78         & 109        &  85        & 100        & 3          & FALSE      & 4         \\\\\n",
       "\\end{tabular}\n"
      ],
      "text/markdown": [
       "\n",
       "# | Name | Type 1 | Type 2 | Total | HP | Attack | Defense | Sp. Atk | Sp. Def | Speed | Stage | Legendary | OnesPlace | \n",
       "|---|---|---|---|---|---|\n",
       "| 0          | Bulbasaur  | Grass      | Poison     | 318        | 45         | 49         | 49         |  65        |  65        |  45        | 1          | FALSE      | 8          | \n",
       "| 1          | Ivysaur    | Grass      | Poison     | 405        | 60         | 62         | 63         |  80        |  80        |  60        | 2          | FALSE      | 5          | \n",
       "| 2          | Venusaur   | Grass      | Poison     | 525        | 80         | 82         | 83         | 100        | 100        |  80        | 3          | FALSE      | 5          | \n",
       "| 3          | Charmander | Fire       | NA         | 309        | 39         | 52         | 43         |  60        |  50        |  65        | 1          | FALSE      | 9          | \n",
       "| 4          | Charmeleon | Fire       | NA         | 405        | 58         | 64         | 58         |  80        |  65        |  80        | 2          | FALSE      | 5          | \n",
       "| 5          | Charizard  | Fire       | Flying     | 534        | 78         | 84         | 78         | 109        |  85        | 100        | 3          | FALSE      | 4          | \n",
       "\n",
       "\n"
      ],
      "text/plain": [
       "  # Name       Type 1 Type 2 Total HP Attack Defense Sp. Atk Sp. Def Speed\n",
       "1 0 Bulbasaur  Grass  Poison 318   45 49     49       65      65      45  \n",
       "2 1 Ivysaur    Grass  Poison 405   60 62     63       80      80      60  \n",
       "3 2 Venusaur   Grass  Poison 525   80 82     83      100     100      80  \n",
       "4 3 Charmander Fire   NA     309   39 52     43       60      50      65  \n",
       "5 4 Charmeleon Fire   NA     405   58 64     58       80      65      80  \n",
       "6 5 Charizard  Fire   Flying 534   78 84     78      109      85     100  \n",
       "  Stage Legendary OnesPlace\n",
       "1 1     FALSE     8        \n",
       "2 2     FALSE     5        \n",
       "3 3     FALSE     5        \n",
       "4 1     FALSE     9        \n",
       "5 2     FALSE     5        \n",
       "6 3     FALSE     4        "
      ]
     },
     "metadata": {},
     "output_type": "display_data"
    }
   ],
   "source": [
    "stringBreakTre <- pokemonAnalytics %>%\n",
    "mutate(OnesPlace = str_sub(Total,3))\n",
    "\n",
    "head(stringBreakTre)"
   ]
  },
  {
   "cell_type": "code",
   "execution_count": 23,
   "metadata": {
    "collapsed": false,
    "deletable": true,
    "editable": true
   },
   "outputs": [
    {
     "data": {
      "text/html": [
       "<table>\n",
       "<thead><tr><th scope=col>#</th><th scope=col>Name</th><th scope=col>Type 1</th><th scope=col>Type 2</th><th scope=col>Total</th><th scope=col>HP</th><th scope=col>Attack</th><th scope=col>Defense</th><th scope=col>Sp. Atk</th><th scope=col>Sp. Def</th><th scope=col>Speed</th><th scope=col>Stage</th><th scope=col>Legendary</th><th scope=col>email</th></tr></thead>\n",
       "<tbody>\n",
       "\t<tr><td>0              </td><td>Bulbasaur      </td><td>Grass          </td><td>Poison         </td><td>318            </td><td>45             </td><td>49             </td><td>49             </td><td> 65            </td><td> 65            </td><td> 45            </td><td>1              </td><td>FALSE          </td><td>Bulbasaur@Grass</td></tr>\n",
       "\t<tr><td>1              </td><td>Ivysaur        </td><td>Grass          </td><td>Poison         </td><td>405            </td><td>60             </td><td>62             </td><td>63             </td><td> 80            </td><td> 80            </td><td> 60            </td><td>2              </td><td>FALSE          </td><td>Ivysaur@Grass  </td></tr>\n",
       "\t<tr><td>2              </td><td>Venusaur       </td><td>Grass          </td><td>Poison         </td><td>525            </td><td>80             </td><td>82             </td><td>83             </td><td>100            </td><td>100            </td><td> 80            </td><td>3              </td><td>FALSE          </td><td>Venusaur@Grass </td></tr>\n",
       "\t<tr><td>3              </td><td>Charmander     </td><td>Fire           </td><td>NA             </td><td>309            </td><td>39             </td><td>52             </td><td>43             </td><td> 60            </td><td> 50            </td><td> 65            </td><td>1              </td><td>FALSE          </td><td>Charmander@Fire</td></tr>\n",
       "\t<tr><td>4              </td><td>Charmeleon     </td><td>Fire           </td><td>NA             </td><td>405            </td><td>58             </td><td>64             </td><td>58             </td><td> 80            </td><td> 65            </td><td> 80            </td><td>2              </td><td>FALSE          </td><td>Charmeleon@Fire</td></tr>\n",
       "\t<tr><td>5              </td><td>Charizard      </td><td>Fire           </td><td>Flying         </td><td>534            </td><td>78             </td><td>84             </td><td>78             </td><td>109            </td><td> 85            </td><td>100            </td><td>3              </td><td>FALSE          </td><td>Charizard@Fire </td></tr>\n",
       "</tbody>\n",
       "</table>\n"
      ],
      "text/latex": [
       "\\begin{tabular}{r|llllllllllllll}\n",
       " \\# & Name & Type 1 & Type 2 & Total & HP & Attack & Defense & Sp. Atk & Sp. Def & Speed & Stage & Legendary & email\\\\\n",
       "\\hline\n",
       "\t 0               & Bulbasaur       & Grass           & Poison          & 318             & 45              & 49              & 49              &  65             &  65             &  45             & 1               & FALSE           & Bulbasaur@Grass\\\\\n",
       "\t 1               & Ivysaur         & Grass           & Poison          & 405             & 60              & 62              & 63              &  80             &  80             &  60             & 2               & FALSE           & Ivysaur@Grass  \\\\\n",
       "\t 2               & Venusaur        & Grass           & Poison          & 525             & 80              & 82              & 83              & 100             & 100             &  80             & 3               & FALSE           & Venusaur@Grass \\\\\n",
       "\t 3               & Charmander      & Fire            & NA              & 309             & 39              & 52              & 43              &  60             &  50             &  65             & 1               & FALSE           & Charmander@Fire\\\\\n",
       "\t 4               & Charmeleon      & Fire            & NA              & 405             & 58              & 64              & 58              &  80             &  65             &  80             & 2               & FALSE           & Charmeleon@Fire\\\\\n",
       "\t 5               & Charizard       & Fire            & Flying          & 534             & 78              & 84              & 78              & 109             &  85             & 100             & 3               & FALSE           & Charizard@Fire \\\\\n",
       "\\end{tabular}\n"
      ],
      "text/markdown": [
       "\n",
       "# | Name | Type 1 | Type 2 | Total | HP | Attack | Defense | Sp. Atk | Sp. Def | Speed | Stage | Legendary | email | \n",
       "|---|---|---|---|---|---|\n",
       "| 0               | Bulbasaur       | Grass           | Poison          | 318             | 45              | 49              | 49              |  65             |  65             |  45             | 1               | FALSE           | Bulbasaur@Grass | \n",
       "| 1               | Ivysaur         | Grass           | Poison          | 405             | 60              | 62              | 63              |  80             |  80             |  60             | 2               | FALSE           | Ivysaur@Grass   | \n",
       "| 2               | Venusaur        | Grass           | Poison          | 525             | 80              | 82              | 83              | 100             | 100             |  80             | 3               | FALSE           | Venusaur@Grass  | \n",
       "| 3               | Charmander      | Fire            | NA              | 309             | 39              | 52              | 43              |  60             |  50             |  65             | 1               | FALSE           | Charmander@Fire | \n",
       "| 4               | Charmeleon      | Fire            | NA              | 405             | 58              | 64              | 58              |  80             |  65             |  80             | 2               | FALSE           | Charmeleon@Fire | \n",
       "| 5               | Charizard       | Fire            | Flying          | 534             | 78              | 84              | 78              | 109             |  85             | 100             | 3               | FALSE           | Charizard@Fire  | \n",
       "\n",
       "\n"
      ],
      "text/plain": [
       "  # Name       Type 1 Type 2 Total HP Attack Defense Sp. Atk Sp. Def Speed\n",
       "1 0 Bulbasaur  Grass  Poison 318   45 49     49       65      65      45  \n",
       "2 1 Ivysaur    Grass  Poison 405   60 62     63       80      80      60  \n",
       "3 2 Venusaur   Grass  Poison 525   80 82     83      100     100      80  \n",
       "4 3 Charmander Fire   NA     309   39 52     43       60      50      65  \n",
       "5 4 Charmeleon Fire   NA     405   58 64     58       80      65      80  \n",
       "6 5 Charizard  Fire   Flying 534   78 84     78      109      85     100  \n",
       "  Stage Legendary email          \n",
       "1 1     FALSE     Bulbasaur@Grass\n",
       "2 2     FALSE     Ivysaur@Grass  \n",
       "3 3     FALSE     Venusaur@Grass \n",
       "4 1     FALSE     Charmander@Fire\n",
       "5 2     FALSE     Charmeleon@Fire\n",
       "6 3     FALSE     Charizard@Fire "
      ]
     },
     "metadata": {},
     "output_type": "display_data"
    }
   ],
   "source": [
    "#paste() and paste0() are used to Concatenate\n",
    "#we have added a simple mail for our Pokemons\n",
    "letsTry <- pokemonAnalytics %>%\n",
    "mutate(email = paste0(Name,'@',`Type 1`))\n",
    "head(letsTry)"
   ]
  },
  {
   "cell_type": "markdown",
   "metadata": {
    "deletable": true,
    "editable": true
   },
   "source": [
    "# Splitting By Character\n",
    "\n",
    "Let’s say we have a column called \"type\" with data entries in the format \"admin_US\" or \"user_Kenya\", as shown in the table below.\n",
    "\n",
    "id \ttype\n",
    "\n",
    "1011 \t“user@Kenya”\n",
    "\n",
    "1112 \t“admin@US”\n",
    "\n",
    "1113 \t“moderator@UK”\n",
    "\n",
    "Just like we saw before, this column actually contains two types of data. One seems to be the user type (with values like “admin” or “user”) and one seems to be the country this user is in (with values like “US” or “Kenya”).\n",
    "\n",
    "We can no longer just split along the first 4 characters because admin and user are of different lengths. Instead, we know that we want to split along the \"_\". We can thus use the tidyr function separate() to split this column into two, separate columns:\n",
    "\n",
    "## Create the 'user_type' and 'country' columns\n",
    ">df %>%\n",
    "  separate(type,c('user_type','country'),'@')\n",
    "\n",
    "    type is the column to split\n",
    "    c('user_type','country') is a vector with the names of the two new columns\n",
    "    '@' is the character to split on\n",
    "\n",
    "This would transform the table above into a table like:\n",
    "\n",
    "id \ttype \tcountry \tusertype\n",
    "\n",
    "1011 \t“user@Kenya” \t“Kenya” \t“user”\n",
    "\n",
    "1112 \t“admin@US” \t“US” \t“admin”\n",
    "\n",
    "1113 \t“moderator@UK” \t“UK” \t“moderator”\n"
   ]
  },
  {
   "cell_type": "code",
   "execution_count": 24,
   "metadata": {
    "collapsed": false,
    "deletable": true,
    "editable": true
   },
   "outputs": [
    {
     "data": {
      "text/html": [
       "<table>\n",
       "<thead><tr><th scope=col>#</th><th scope=col>Name</th><th scope=col>Type 1</th><th scope=col>Type 2</th><th scope=col>Total</th><th scope=col>HP</th><th scope=col>Attack</th><th scope=col>Defense</th><th scope=col>Sp. Atk</th><th scope=col>Sp. Def</th><th scope=col>Speed</th><th scope=col>Stage</th><th scope=col>Legendary</th><th scope=col>NameP</th><th scope=col>PowerP</th></tr></thead>\n",
       "<tbody>\n",
       "\t<tr><td>0         </td><td>Bulbasaur </td><td>Grass     </td><td>Poison    </td><td>318       </td><td>45        </td><td>49        </td><td>49        </td><td> 65       </td><td> 65       </td><td> 45       </td><td>1         </td><td>FALSE     </td><td>Bulbasaur </td><td>Grass     </td></tr>\n",
       "\t<tr><td>1         </td><td>Ivysaur   </td><td>Grass     </td><td>Poison    </td><td>405       </td><td>60        </td><td>62        </td><td>63        </td><td> 80       </td><td> 80       </td><td> 60       </td><td>2         </td><td>FALSE     </td><td>Ivysaur   </td><td>Grass     </td></tr>\n",
       "\t<tr><td>2         </td><td>Venusaur  </td><td>Grass     </td><td>Poison    </td><td>525       </td><td>80        </td><td>82        </td><td>83        </td><td>100       </td><td>100       </td><td> 80       </td><td>3         </td><td>FALSE     </td><td>Venusaur  </td><td>Grass     </td></tr>\n",
       "\t<tr><td>3         </td><td>Charmander</td><td>Fire      </td><td>NA        </td><td>309       </td><td>39        </td><td>52        </td><td>43        </td><td> 60       </td><td> 50       </td><td> 65       </td><td>1         </td><td>FALSE     </td><td>Charmander</td><td>Fire      </td></tr>\n",
       "\t<tr><td>4         </td><td>Charmeleon</td><td>Fire      </td><td>NA        </td><td>405       </td><td>58        </td><td>64        </td><td>58        </td><td> 80       </td><td> 65       </td><td> 80       </td><td>2         </td><td>FALSE     </td><td>Charmeleon</td><td>Fire      </td></tr>\n",
       "\t<tr><td>5         </td><td>Charizard </td><td>Fire      </td><td>Flying    </td><td>534       </td><td>78        </td><td>84        </td><td>78        </td><td>109       </td><td> 85       </td><td>100       </td><td>3         </td><td>FALSE     </td><td>Charizard </td><td>Fire      </td></tr>\n",
       "</tbody>\n",
       "</table>\n"
      ],
      "text/latex": [
       "\\begin{tabular}{r|lllllllllllllll}\n",
       " \\# & Name & Type 1 & Type 2 & Total & HP & Attack & Defense & Sp. Atk & Sp. Def & Speed & Stage & Legendary & NameP & PowerP\\\\\n",
       "\\hline\n",
       "\t 0          & Bulbasaur  & Grass      & Poison     & 318        & 45         & 49         & 49         &  65        &  65        &  45        & 1          & FALSE      & Bulbasaur  & Grass     \\\\\n",
       "\t 1          & Ivysaur    & Grass      & Poison     & 405        & 60         & 62         & 63         &  80        &  80        &  60        & 2          & FALSE      & Ivysaur    & Grass     \\\\\n",
       "\t 2          & Venusaur   & Grass      & Poison     & 525        & 80         & 82         & 83         & 100        & 100        &  80        & 3          & FALSE      & Venusaur   & Grass     \\\\\n",
       "\t 3          & Charmander & Fire       & NA         & 309        & 39         & 52         & 43         &  60        &  50        &  65        & 1          & FALSE      & Charmander & Fire      \\\\\n",
       "\t 4          & Charmeleon & Fire       & NA         & 405        & 58         & 64         & 58         &  80        &  65        &  80        & 2          & FALSE      & Charmeleon & Fire      \\\\\n",
       "\t 5          & Charizard  & Fire       & Flying     & 534        & 78         & 84         & 78         & 109        &  85        & 100        & 3          & FALSE      & Charizard  & Fire      \\\\\n",
       "\\end{tabular}\n"
      ],
      "text/markdown": [
       "\n",
       "# | Name | Type 1 | Type 2 | Total | HP | Attack | Defense | Sp. Atk | Sp. Def | Speed | Stage | Legendary | NameP | PowerP | \n",
       "|---|---|---|---|---|---|\n",
       "| 0          | Bulbasaur  | Grass      | Poison     | 318        | 45         | 49         | 49         |  65        |  65        |  45        | 1          | FALSE      | Bulbasaur  | Grass      | \n",
       "| 1          | Ivysaur    | Grass      | Poison     | 405        | 60         | 62         | 63         |  80        |  80        |  60        | 2          | FALSE      | Ivysaur    | Grass      | \n",
       "| 2          | Venusaur   | Grass      | Poison     | 525        | 80         | 82         | 83         | 100        | 100        |  80        | 3          | FALSE      | Venusaur   | Grass      | \n",
       "| 3          | Charmander | Fire       | NA         | 309        | 39         | 52         | 43         |  60        |  50        |  65        | 1          | FALSE      | Charmander | Fire       | \n",
       "| 4          | Charmeleon | Fire       | NA         | 405        | 58         | 64         | 58         |  80        |  65        |  80        | 2          | FALSE      | Charmeleon | Fire       | \n",
       "| 5          | Charizard  | Fire       | Flying     | 534        | 78         | 84         | 78         | 109        |  85        | 100        | 3          | FALSE      | Charizard  | Fire       | \n",
       "\n",
       "\n"
      ],
      "text/plain": [
       "  # Name       Type 1 Type 2 Total HP Attack Defense Sp. Atk Sp. Def Speed\n",
       "1 0 Bulbasaur  Grass  Poison 318   45 49     49       65      65      45  \n",
       "2 1 Ivysaur    Grass  Poison 405   60 62     63       80      80      60  \n",
       "3 2 Venusaur   Grass  Poison 525   80 82     83      100     100      80  \n",
       "4 3 Charmander Fire   NA     309   39 52     43       60      50      65  \n",
       "5 4 Charmeleon Fire   NA     405   58 64     58       80      65      80  \n",
       "6 5 Charizard  Fire   Flying 534   78 84     78      109      85     100  \n",
       "  Stage Legendary NameP      PowerP\n",
       "1 1     FALSE     Bulbasaur  Grass \n",
       "2 2     FALSE     Ivysaur    Grass \n",
       "3 3     FALSE     Venusaur   Grass \n",
       "4 1     FALSE     Charmander Fire  \n",
       "5 2     FALSE     Charmeleon Fire  \n",
       "6 3     FALSE     Charizard  Fire  "
      ]
     },
     "metadata": {},
     "output_type": "display_data"
    }
   ],
   "source": [
    "separateStrings <- letsTry %>%\n",
    "separate(email, c('NameP', 'PowerP'), '@')\n",
    "head(separateStrings)"
   ]
  },
  {
   "cell_type": "code",
   "execution_count": 25,
   "metadata": {
    "collapsed": false,
    "deletable": true,
    "editable": true
   },
   "outputs": [
    {
     "name": "stdout",
     "output_type": "stream",
     "text": [
      "Classes ‘tbl_df’, ‘tbl’ and 'data.frame':\t40 obs. of  13 variables:\n",
      " $ #        : int  0 1 2 3 4 5 6 7 8 9 ...\n",
      " $ Name     : chr  \"Bulbasaur\" \"Ivysaur\" \"Venusaur\" \"Charmander\" ...\n",
      " $ Type 1   : chr  \"Grass\" \"Grass\" \"Grass\" \"Fire\" ...\n",
      " $ Type 2   : chr  \"Poison\" \"Poison\" \"Poison\" NA ...\n",
      " $ Total    : int  318 405 525 309 405 534 314 405 530 195 ...\n",
      " $ HP       : int  45 60 80 39 58 78 44 59 79 45 ...\n",
      " $ Attack   : int  49 62 82 52 64 84 48 63 83 30 ...\n",
      " $ Defense  : int  49 63 83 43 58 78 65 80 100 35 ...\n",
      " $ Sp. Atk  : int  65 80 100 60 80 109 50 65 85 20 ...\n",
      " $ Sp. Def  : int  65 80 100 50 65 85 64 80 105 20 ...\n",
      " $ Speed    : int  45 60 80 65 80 100 43 58 78 45 ...\n",
      " $ Stage    : int  1 2 3 1 2 3 1 2 3 1 ...\n",
      " $ Legendary: logi  FALSE FALSE FALSE FALSE FALSE FALSE ...\n"
     ]
    }
   ],
   "source": [
    "#Data Types\n",
    "str(pokemonAnalytics)"
   ]
  },
  {
   "cell_type": "code",
   "execution_count": 26,
   "metadata": {
    "collapsed": false,
    "deletable": true,
    "editable": true
   },
   "outputs": [
    {
     "ename": "ERROR",
     "evalue": "Error in parse(text = x, srcfile = src): <text>:1:18: unexpected '$'\n1: barIt <- barplot($\n                     ^\n",
     "output_type": "error",
     "traceback": [
      "Error in parse(text = x, srcfile = src): <text>:1:18: unexpected '$'\n1: barIt <- barplot($\n                     ^\nTraceback:\n"
     ]
    }
   ],
   "source": [
    "barIt <- barplot($pokemonAnalytics)\n",
    "head(barIt)"
   ]
  },
  {
   "cell_type": "markdown",
   "metadata": {
    "collapsed": true,
    "deletable": true,
    "editable": true
   },
   "source": [
    "## Some Visualizations"
   ]
  },
  {
   "cell_type": "code",
   "execution_count": 27,
   "metadata": {
    "collapsed": false,
    "deletable": true,
    "editable": true
   },
   "outputs": [
    {
     "data": {
      "text/html": [
       "<table>\n",
       "<thead><tr><th scope=col>#</th><th scope=col>Name</th><th scope=col>Type 1</th><th scope=col>Type 2</th><th scope=col>Total</th><th scope=col>HP</th><th scope=col>Attack</th><th scope=col>Defense</th><th scope=col>Sp. Atk</th><th scope=col>Sp. Def</th><th scope=col>Speed</th><th scope=col>Stage</th><th scope=col>Legendary</th></tr></thead>\n",
       "<tbody>\n",
       "\t<tr><td>0         </td><td>Bulbasaur </td><td>Grass     </td><td>Poison    </td><td>318       </td><td>45        </td><td>49        </td><td>49        </td><td> 65       </td><td> 65       </td><td> 45       </td><td>1         </td><td>FALSE     </td></tr>\n",
       "\t<tr><td>1         </td><td>Ivysaur   </td><td>Grass     </td><td>Poison    </td><td>405       </td><td>60        </td><td>62        </td><td>63        </td><td> 80       </td><td> 80       </td><td> 60       </td><td>2         </td><td>FALSE     </td></tr>\n",
       "\t<tr><td>2         </td><td>Venusaur  </td><td>Grass     </td><td>Poison    </td><td>525       </td><td>80        </td><td>82        </td><td>83        </td><td>100       </td><td>100       </td><td> 80       </td><td>3         </td><td>FALSE     </td></tr>\n",
       "\t<tr><td>3         </td><td>Charmander</td><td>Fire      </td><td>NA        </td><td>309       </td><td>39        </td><td>52        </td><td>43        </td><td> 60       </td><td> 50       </td><td> 65       </td><td>1         </td><td>FALSE     </td></tr>\n",
       "\t<tr><td>4         </td><td>Charmeleon</td><td>Fire      </td><td>NA        </td><td>405       </td><td>58        </td><td>64        </td><td>58        </td><td> 80       </td><td> 65       </td><td> 80       </td><td>2         </td><td>FALSE     </td></tr>\n",
       "\t<tr><td>5         </td><td>Charizard </td><td>Fire      </td><td>Flying    </td><td>534       </td><td>78        </td><td>84        </td><td>78        </td><td>109       </td><td> 85       </td><td>100       </td><td>3         </td><td>FALSE     </td></tr>\n",
       "</tbody>\n",
       "</table>\n"
      ],
      "text/latex": [
       "\\begin{tabular}{r|lllllllllllll}\n",
       " \\# & Name & Type 1 & Type 2 & Total & HP & Attack & Defense & Sp. Atk & Sp. Def & Speed & Stage & Legendary\\\\\n",
       "\\hline\n",
       "\t 0          & Bulbasaur  & Grass      & Poison     & 318        & 45         & 49         & 49         &  65        &  65        &  45        & 1          & FALSE     \\\\\n",
       "\t 1          & Ivysaur    & Grass      & Poison     & 405        & 60         & 62         & 63         &  80        &  80        &  60        & 2          & FALSE     \\\\\n",
       "\t 2          & Venusaur   & Grass      & Poison     & 525        & 80         & 82         & 83         & 100        & 100        &  80        & 3          & FALSE     \\\\\n",
       "\t 3          & Charmander & Fire       & NA         & 309        & 39         & 52         & 43         &  60        &  50        &  65        & 1          & FALSE     \\\\\n",
       "\t 4          & Charmeleon & Fire       & NA         & 405        & 58         & 64         & 58         &  80        &  65        &  80        & 2          & FALSE     \\\\\n",
       "\t 5          & Charizard  & Fire       & Flying     & 534        & 78         & 84         & 78         & 109        &  85        & 100        & 3          & FALSE     \\\\\n",
       "\\end{tabular}\n"
      ],
      "text/markdown": [
       "\n",
       "# | Name | Type 1 | Type 2 | Total | HP | Attack | Defense | Sp. Atk | Sp. Def | Speed | Stage | Legendary | \n",
       "|---|---|---|---|---|---|\n",
       "| 0          | Bulbasaur  | Grass      | Poison     | 318        | 45         | 49         | 49         |  65        |  65        |  45        | 1          | FALSE      | \n",
       "| 1          | Ivysaur    | Grass      | Poison     | 405        | 60         | 62         | 63         |  80        |  80        |  60        | 2          | FALSE      | \n",
       "| 2          | Venusaur   | Grass      | Poison     | 525        | 80         | 82         | 83         | 100        | 100        |  80        | 3          | FALSE      | \n",
       "| 3          | Charmander | Fire       | NA         | 309        | 39         | 52         | 43         |  60        |  50        |  65        | 1          | FALSE      | \n",
       "| 4          | Charmeleon | Fire       | NA         | 405        | 58         | 64         | 58         |  80        |  65        |  80        | 2          | FALSE      | \n",
       "| 5          | Charizard  | Fire       | Flying     | 534        | 78         | 84         | 78         | 109        |  85        | 100        | 3          | FALSE      | \n",
       "\n",
       "\n"
      ],
      "text/plain": [
       "  # Name       Type 1 Type 2 Total HP Attack Defense Sp. Atk Sp. Def Speed\n",
       "1 0 Bulbasaur  Grass  Poison 318   45 49     49       65      65      45  \n",
       "2 1 Ivysaur    Grass  Poison 405   60 62     63       80      80      60  \n",
       "3 2 Venusaur   Grass  Poison 525   80 82     83      100     100      80  \n",
       "4 3 Charmander Fire   NA     309   39 52     43       60      50      65  \n",
       "5 4 Charmeleon Fire   NA     405   58 64     58       80      65      80  \n",
       "6 5 Charizard  Fire   Flying 534   78 84     78      109      85     100  \n",
       "  Stage Legendary\n",
       "1 1     FALSE    \n",
       "2 2     FALSE    \n",
       "3 3     FALSE    \n",
       "4 1     FALSE    \n",
       "5 2     FALSE    \n",
       "6 3     FALSE    "
      ]
     },
     "metadata": {},
     "output_type": "display_data"
    }
   ],
   "source": [
    "head(pokemonAnalytics)"
   ]
  },
  {
   "cell_type": "code",
   "execution_count": 28,
   "metadata": {
    "collapsed": false,
    "deletable": true,
    "editable": true
   },
   "outputs": [
    {
     "name": "stdout",
     "output_type": "stream",
     "text": [
      "               Group.1   x\n",
      "1                Arbok  85\n",
      "2             Beedrill  90\n",
      "3            Blastoise  83\n",
      "4            Bulbasaur  49\n",
      "5           Butterfree  45\n",
      "6             Caterpie  30\n",
      "7            Charizard  84\n",
      "8           Charmander  52\n",
      "9           Charmeleon  64\n",
      "10            Clefable  70\n",
      "11            Clefairy  45\n",
      "12               Ekans  60\n",
      "13              Fearow  90\n",
      "14             Ivysaur  62\n",
      "15          Jigglypuff  45\n",
      "16              Kakuna  25\n",
      "17             Metapod  20\n",
      "18            Nidoking 102\n",
      "19           Nidoqueen  92\n",
      "20             Nidoran  57\n",
      "21 Nidoran\\x89\\xaa\\xdb  47\n",
      "22            Nidorina  62\n",
      "23            Nidorino  72\n",
      "24           Ninetales  76\n",
      "25             Pidgeot  80\n",
      "26           Pidgeotto  60\n",
      "27              Pidgey  45\n",
      "28             Pikachu  55\n",
      "29              Raichu  90\n",
      "30            Raticate  81\n",
      "31             Rattata  56\n",
      "32           Sandshrew  75\n",
      "33           Sandslash 100\n",
      "34             Spearow  60\n",
      "35            Squirtle  48\n",
      "36            Venusaur  82\n",
      "37              Vulpix  41\n",
      "38           Wartortle  63\n",
      "39              Weedle  35\n",
      "40          Wigglytuff  70\n"
     ]
    }
   ],
   "source": [
    "outputBar <- aggregate(pokemonAnalytics$Attack, \n",
    "                       by=list(pokemonAnalytics$Name), FUN=sum)\n",
    "print(outputBar)"
   ]
  },
  {
   "cell_type": "code",
   "execution_count": 29,
   "metadata": {
    "collapsed": false,
    "deletable": true,
    "editable": true,
    "scrolled": false
   },
   "outputs": [
    {
     "data": {
      "image/png": "[encoded data removed]",
      "text/plain": [
       "Plot with title “Attack Strength of Pokemons”"
      ]
     },
     "metadata": {},
     "output_type": "display_data"
    }
   ],
   "source": [
    "barplot(outputBar$x,\n",
    "        main = \"Attack Strength of Pokemons\",\n",
    "        xlab = \"Pokemons\",\n",
    "        ylab = \"Attack power\",\n",
    "        names = outputBar$Group.1)"
   ]
  },
  {
   "cell_type": "markdown",
   "metadata": {
    "deletable": true,
    "editable": true
   },
   "source": [
    "# GGPLOT\n",
    "\n",
    "Associating the Data\n",
    "\n",
    "Before we go any further, let’s stop to understand when the data gets bound to the visualization:\n",
    "\n",
    "    Data is bound to a ggplot2 visualization by passing a data frame as the first argument in the ggplot() function call. You can include the named argument like ggplot(data=df_variable) or simply pass in the data frame like ggplot(data frame).\n",
    "    Because the data is bound at this step, this means that the rest of our layers, which are function calls we add with a + plus sign, all have access to the data frame and can use the column names as variables.\n",
    "\n",
    "For example, assume we have a data frame sales with the columns cost and profit. In this example, we assign the data frame sales to the ggplot() object that is initailized:\n",
    "\n",
    ">viz <- ggplot(data=sales) + \n",
    "  geom_point(aes(x=cost, y=profit))\n",
    "\n",
    ">viz # renders plot\n",
    "\n",
    "In the example above:\n",
    "\n",
    "    The ggplot object or canvas was initialized with the data frame sales assigned to it\n",
    "    The subsequent geom_point layer used the cost and profit columns to define the scales of the axes for that particular geom. Notice that it simply referred to those columns with their column names.\n",
    "    We state the variable name of the visualization ggplot object so we can see the plot.\n",
    "\n",
    "Note: There are other ways to bind data to layers if you want each layer to have a different dataset, but the most readable and popular way to bind the dataframe happens at the ggplot() step and your layers use data from that dataframe.\n",
    "\n",
    "\n",
    "What are aesthetics?\n",
    "\n",
    "In the context of ggplot, aesthetics are the instructions that determine the visual properties of the plot and its geometries.\n",
    "\n",
    "Aesthetics can include things like the scales for the x and y axes, the color of the data on the plot based on a property or simply on a color preference, or the size or shape of different geometries.\n",
    "\n",
    "There are two ways to set aesthetics, by manually specifying individual attributes or by providing aesthetic mappings. We’ll explore aesthetic mappings first and come back to manual aesthetics later in the lesson. Aesthetic mappings “map” variables from the data frame to visual properties in the plot. You can provide aesthetic mappings in two ways using the aes() mapping function:\n",
    "\n",
    "    At the canvas level: All subsequent layers on the canvas will inherit the aesthetic mappings you define when you create a ggplot object with ggplot().\n",
    "    At the geom level: Only that layer will use the aesthetic mappings you provide.\n",
    "\n",
    "Let’s discuss inherited aesthetics first, or aesthetics you define at the canvas level. Here’s an example of code that assigns aes() mappings for the x and y scales at the canvas level:\n",
    "\n",
    ">viz <- ggplot(data=airquality, aes(x=Ozone, y=Temp)) + geom_point() + geom_smooth()"
   ]
  },
  {
   "cell_type": "code",
   "execution_count": 30,
   "metadata": {
    "collapsed": false,
    "deletable": true,
    "editable": true
   },
   "outputs": [],
   "source": [
    "library(readr)\n",
    "library(dplyr)\n",
    "library(ggplot2)"
   ]
  },
  {
   "cell_type": "code",
   "execution_count": 31,
   "metadata": {
    "collapsed": false,
    "deletable": true,
    "editable": true
   },
   "outputs": [
    {
     "name": "stderr",
     "output_type": "stream",
     "text": [
      "Parsed with column specification:\n",
      "cols(\n",
      "  Film = col_character(),\n",
      "  Genre = col_character(),\n",
      "  `Lead Studio` = col_character(),\n",
      "  `Audience score %` = col_integer(),\n",
      "  Profitability = col_double(),\n",
      "  `Rotten Tomatoes %` = col_integer(),\n",
      "  `Worldwide Gross` = col_character(),\n",
      "  Year = col_integer()\n",
      ")\n"
     ]
    },
    {
     "data": {
      "text/html": [
       "<table>\n",
       "<thead><tr><th scope=col>Film</th><th scope=col>Genre</th><th scope=col>Lead Studio</th><th scope=col>Audience score %</th><th scope=col>Profitability</th><th scope=col>Rotten Tomatoes %</th><th scope=col>Worldwide Gross</th><th scope=col>Year</th></tr></thead>\n",
       "<tbody>\n",
       "\t<tr><td>Zack and Miri Make a Porno        </td><td>Romance                           </td><td>The Weinstein Company             </td><td>70                                </td><td>1.747542                          </td><td>64                                </td><td>$41.94                            </td><td>2008                              </td></tr>\n",
       "\t<tr><td>Youth in Revolt                   </td><td>Comedy                            </td><td>The Weinstein Company             </td><td>52                                </td><td>1.090000                          </td><td>68                                </td><td>$19.62                            </td><td>2010                              </td></tr>\n",
       "\t<tr><td>You Will Meet a Tall Dark Stranger</td><td>Comedy                            </td><td>Independent                       </td><td>35                                </td><td>1.211818                          </td><td>43                                </td><td>$26.66                            </td><td>2010                              </td></tr>\n",
       "\t<tr><td>When in Rome                      </td><td>Comedy                            </td><td>Disney                            </td><td>44                                </td><td>0.000000                          </td><td>15                                </td><td>$43.04                            </td><td>2010                              </td></tr>\n",
       "\t<tr><td>What Happens in Vegas             </td><td>Comedy                            </td><td>Fox                               </td><td>72                                </td><td>6.267647                          </td><td>28                                </td><td>$219.37                           </td><td>2008                              </td></tr>\n",
       "\t<tr><td>Water For Elephants               </td><td>Drama                             </td><td>20th Century Fox                  </td><td>72                                </td><td>3.081421                          </td><td>60                                </td><td>$117.09                           </td><td>2011                              </td></tr>\n",
       "</tbody>\n",
       "</table>\n"
      ],
      "text/latex": [
       "\\begin{tabular}{r|llllllll}\n",
       " Film & Genre & Lead Studio & Audience score \\% & Profitability & Rotten Tomatoes \\% & Worldwide Gross & Year\\\\\n",
       "\\hline\n",
       "\t Zack and Miri Make a Porno         & Romance                            & The Weinstein Company              & 70                                 & 1.747542                           & 64                                 & \\$41.94                           & 2008                              \\\\\n",
       "\t Youth in Revolt                    & Comedy                             & The Weinstein Company              & 52                                 & 1.090000                           & 68                                 & \\$19.62                           & 2010                              \\\\\n",
       "\t You Will Meet a Tall Dark Stranger & Comedy                             & Independent                        & 35                                 & 1.211818                           & 43                                 & \\$26.66                           & 2010                              \\\\\n",
       "\t When in Rome                       & Comedy                             & Disney                             & 44                                 & 0.000000                           & 15                                 & \\$43.04                           & 2010                              \\\\\n",
       "\t What Happens in Vegas              & Comedy                             & Fox                                & 72                                 & 6.267647                           & 28                                 & \\$219.37                          & 2008                              \\\\\n",
       "\t Water For Elephants                & Drama                              & 20th Century Fox                   & 72                                 & 3.081421                           & 60                                 & \\$117.09                          & 2011                              \\\\\n",
       "\\end{tabular}\n"
      ],
      "text/markdown": [
       "\n",
       "Film | Genre | Lead Studio | Audience score % | Profitability | Rotten Tomatoes % | Worldwide Gross | Year | \n",
       "|---|---|---|---|---|---|\n",
       "| Zack and Miri Make a Porno         | Romance                            | The Weinstein Company              | 70                                 | 1.747542                           | 64                                 | $41.94                             | 2008                               | \n",
       "| Youth in Revolt                    | Comedy                             | The Weinstein Company              | 52                                 | 1.090000                           | 68                                 | $19.62                             | 2010                               | \n",
       "| You Will Meet a Tall Dark Stranger | Comedy                             | Independent                        | 35                                 | 1.211818                           | 43                                 | $26.66                             | 2010                               | \n",
       "| When in Rome                       | Comedy                             | Disney                             | 44                                 | 0.000000                           | 15                                 | $43.04                             | 2010                               | \n",
       "| What Happens in Vegas              | Comedy                             | Fox                                | 72                                 | 6.267647                           | 28                                 | $219.37                            | 2008                               | \n",
       "| Water For Elephants                | Drama                              | 20th Century Fox                   | 72                                 | 3.081421                           | 60                                 | $117.09                            | 2011                               | \n",
       "\n",
       "\n"
      ],
      "text/plain": [
       "  Film                               Genre   Lead Studio          \n",
       "1 Zack and Miri Make a Porno         Romance The Weinstein Company\n",
       "2 Youth in Revolt                    Comedy  The Weinstein Company\n",
       "3 You Will Meet a Tall Dark Stranger Comedy  Independent          \n",
       "4 When in Rome                       Comedy  Disney               \n",
       "5 What Happens in Vegas              Comedy  Fox                  \n",
       "6 Water For Elephants                Drama   20th Century Fox     \n",
       "  Audience score % Profitability Rotten Tomatoes % Worldwide Gross Year\n",
       "1 70               1.747542      64                $41.94          2008\n",
       "2 52               1.090000      68                $19.62          2010\n",
       "3 35               1.211818      43                $26.66          2010\n",
       "4 44               0.000000      15                $43.04          2010\n",
       "5 72               6.267647      28                $219.37         2008\n",
       "6 72               3.081421      60                $117.09         2011"
      ]
     },
     "metadata": {},
     "output_type": "display_data"
    }
   ],
   "source": [
    "moviesGG <- read_csv('movies.csv')\n",
    "head(moviesGG)"
   ]
  },
  {
   "cell_type": "code",
   "execution_count": 32,
   "metadata": {
    "collapsed": false,
    "deletable": true,
    "editable": true
   },
   "outputs": [
    {
     "name": "stderr",
     "output_type": "stream",
     "text": [
      "`geom_smooth()` using method = 'loess'\n"
     ]
    },
    {
     "data": {},
     "metadata": {},
     "output_type": "display_data"
    },
    {
     "data": {
      "image/png": "[encoded data removed]",
      "text/plain": [
       "plot without title"
      ]
     },
     "metadata": {},
     "output_type": "display_data"
    }
   ],
   "source": [
    "plotScatter <- ggplot(data=moviesGG, \n",
    "                      aes(x=`Audience score %`,\n",
    "                          y=`Rotten Tomatoes %`)) + geom_point(aes(color=`Genre`)) + geom_smooth()\n",
    "plotScatter"
   ]
  },
  {
   "cell_type": "markdown",
   "metadata": {
    "collapsed": true,
    "deletable": true,
    "editable": true
   },
   "source": [
    "# T Test One Tailed "
   ]
  },
  {
   "cell_type": "code",
   "execution_count": 33,
   "metadata": {
    "collapsed": false,
    "deletable": true,
    "editable": true
   },
   "outputs": [
    {
     "data": {
      "text/html": [
       "<ol class=list-inline>\n",
       "\t<li>63</li>\n",
       "\t<li>63</li>\n",
       "\t<li>66</li>\n",
       "\t<li>67</li>\n",
       "\t<li>68</li>\n",
       "\t<li>69</li>\n",
       "</ol>\n"
      ],
      "text/latex": [
       "\\begin{enumerate*}\n",
       "\\item 63\n",
       "\\item 63\n",
       "\\item 66\n",
       "\\item 67\n",
       "\\item 68\n",
       "\\item 69\n",
       "\\end{enumerate*}\n"
      ],
      "text/markdown": [
       "1. 63\n",
       "2. 63\n",
       "3. 66\n",
       "4. 67\n",
       "5. 68\n",
       "6. 69\n",
       "\n",
       "\n"
      ],
      "text/plain": [
       "[1] 63 63 66 67 68 69"
      ]
     },
     "metadata": {},
     "output_type": "display_data"
    }
   ],
   "source": [
    "library(readr)\n",
    "library(dplyr)\n",
    "library(ggplot2)\n",
    "\n",
    "dataHeights <- c(63,63,66,67,68,69,70,70,71,71)\n",
    "head(dataHeights)"
   ]
  },
  {
   "cell_type": "code",
   "execution_count": 34,
   "metadata": {
    "collapsed": false,
    "deletable": true,
    "editable": true
   },
   "outputs": [
    {
     "data": {
      "text/html": [
       "67.8"
      ],
      "text/latex": [
       "67.8"
      ],
      "text/markdown": [
       "67.8"
      ],
      "text/plain": [
       "[1] 67.8"
      ]
     },
     "metadata": {},
     "output_type": "display_data"
    }
   ],
   "source": [
    "meanVal <- mean(dataHeights)\n",
    "meanVal"
   ]
  },
  {
   "cell_type": "code",
   "execution_count": 35,
   "metadata": {
    "collapsed": false,
    "deletable": true,
    "editable": true
   },
   "outputs": [
    {
     "data": {
      "text/plain": [
       "\n",
       "\tOne Sample t-test\n",
       "\n",
       "data:  dataHeights\n",
       "t = 1.8904, df = 9, p-value = 0.09128\n",
       "alternative hypothesis: true mean is not equal to 66\n",
       "95 percent confidence interval:\n",
       " 65.646 69.954\n",
       "sample estimates:\n",
       "mean of x \n",
       "     67.8 \n"
      ]
     },
     "metadata": {},
     "output_type": "display_data"
    }
   ],
   "source": [
    "tTest <- t.test(dataHeights, mu=66)\n",
    "tTest"
   ]
  },
  {
   "cell_type": "markdown",
   "metadata": {
    "deletable": true,
    "editable": true
   },
   "source": [
    "Null Hypothesis is accepted, p-value > 0.05"
   ]
  },
  {
   "cell_type": "markdown",
   "metadata": {
    "deletable": true,
    "editable": true
   },
   "source": [
    "# Two sample T Test"
   ]
  },
  {
   "cell_type": "code",
   "execution_count": 47,
   "metadata": {
    "collapsed": false,
    "deletable": true,
    "editable": true
   },
   "outputs": [
    {
     "data": {
      "text/html": [
       "<table>\n",
       "<thead><tr><th scope=col>groupOne</th><th scope=col>groupTwo</th></tr></thead>\n",
       "<tbody>\n",
       "\t<tr><td>18</td><td>29</td></tr>\n",
       "\t<tr><td>20</td><td>28</td></tr>\n",
       "\t<tr><td>36</td><td>26</td></tr>\n",
       "\t<tr><td>50</td><td>35</td></tr>\n",
       "\t<tr><td>49</td><td>30</td></tr>\n",
       "\t<tr><td>36</td><td>44</td></tr>\n",
       "\t<tr><td>34</td><td>46</td></tr>\n",
       "\t<tr><td>49</td><td> 0</td></tr>\n",
       "\t<tr><td>47</td><td> 0</td></tr>\n",
       "</tbody>\n",
       "</table>\n"
      ],
      "text/latex": [
       "\\begin{tabular}{r|ll}\n",
       " groupOne & groupTwo\\\\\n",
       "\\hline\n",
       "\t 18 & 29\\\\\n",
       "\t 20 & 28\\\\\n",
       "\t 36 & 26\\\\\n",
       "\t 50 & 35\\\\\n",
       "\t 49 & 30\\\\\n",
       "\t 36 & 44\\\\\n",
       "\t 34 & 46\\\\\n",
       "\t 49 &  0\\\\\n",
       "\t 47 &  0\\\\\n",
       "\\end{tabular}\n"
      ],
      "text/markdown": [
       "\n",
       "groupOne | groupTwo | \n",
       "|---|---|---|---|---|---|---|---|---|\n",
       "| 18 | 29 | \n",
       "| 20 | 28 | \n",
       "| 36 | 26 | \n",
       "| 50 | 35 | \n",
       "| 49 | 30 | \n",
       "| 36 | 44 | \n",
       "| 34 | 46 | \n",
       "| 49 |  0 | \n",
       "| 47 |  0 | \n",
       "\n",
       "\n"
      ],
      "text/plain": [
       "  groupOne groupTwo\n",
       "1 18       29      \n",
       "2 20       28      \n",
       "3 36       26      \n",
       "4 50       35      \n",
       "5 49       30      \n",
       "6 36       44      \n",
       "7 34       46      \n",
       "8 49        0      \n",
       "9 47        0      "
      ]
     },
     "metadata": {},
     "output_type": "display_data"
    }
   ],
   "source": [
    "groupOne <- c(18,20,36,50,49,36,34,49,47)\n",
    "groupTwo <- c(29,28,26,35,30,44,46,0,0)\n",
    "twoSample"
   ]
  },
  {
   "cell_type": "code",
   "execution_count": 48,
   "metadata": {
    "collapsed": false,
    "deletable": true,
    "editable": true
   },
   "outputs": [
    {
     "data": {
      "text/html": [
       "37.6666666666667"
      ],
      "text/latex": [
       "37.6666666666667"
      ],
      "text/markdown": [
       "37.6666666666667"
      ],
      "text/plain": [
       "[1] 37.66667"
      ]
     },
     "metadata": {},
     "output_type": "display_data"
    }
   ],
   "source": [
    "meanGroupOne <- mean(groupOne)\n",
    "meanGroupOne"
   ]
  },
  {
   "cell_type": "code",
   "execution_count": 49,
   "metadata": {
    "collapsed": false,
    "deletable": true,
    "editable": true
   },
   "outputs": [
    {
     "data": {
      "text/html": [
       "26.4444444444444"
      ],
      "text/latex": [
       "26.4444444444444"
      ],
      "text/markdown": [
       "26.4444444444444"
      ],
      "text/plain": [
       "[1] 26.44444"
      ]
     },
     "metadata": {},
     "output_type": "display_data"
    }
   ],
   "source": [
    "meanGroupTwo <- mean(groupTwo)\n",
    "meanGroupTwo"
   ]
  },
  {
   "cell_type": "code",
   "execution_count": 50,
   "metadata": {
    "collapsed": false,
    "deletable": true,
    "editable": true
   },
   "outputs": [
    {
     "data": {
      "text/html": [
       "12.3186849947549"
      ],
      "text/latex": [
       "12.3186849947549"
      ],
      "text/markdown": [
       "12.3186849947549"
      ],
      "text/plain": [
       "[1] 12.31868"
      ]
     },
     "metadata": {},
     "output_type": "display_data"
    }
   ],
   "source": [
    "sdGroupOne <- sd(groupOne)\n",
    "sdGroupOne"
   ]
  },
  {
   "cell_type": "code",
   "execution_count": 51,
   "metadata": {
    "collapsed": false,
    "deletable": true,
    "editable": true
   },
   "outputs": [
    {
     "data": {
      "text/html": [
       "16.5235522142721"
      ],
      "text/latex": [
       "16.5235522142721"
      ],
      "text/markdown": [
       "16.5235522142721"
      ],
      "text/plain": [
       "[1] 16.52355"
      ]
     },
     "metadata": {},
     "output_type": "display_data"
    }
   ],
   "source": [
    "sdGroupTwo <- sd(groupTwo)\n",
    "sdGroupTwo"
   ]
  },
  {
   "cell_type": "code",
   "execution_count": 52,
   "metadata": {
    "collapsed": false,
    "deletable": true,
    "editable": true
   },
   "outputs": [
    {
     "data": {
      "text/plain": [
       "\n",
       "\tWelch Two Sample t-test\n",
       "\n",
       "data:  groupOne and groupTwo\n",
       "t = 1.6335, df = 14.794, p-value = 0.1235\n",
       "alternative hypothesis: true difference in means is not equal to 0\n",
       "95 percent confidence interval:\n",
       " -3.438708 25.883152\n",
       "sample estimates:\n",
       "mean of x mean of y \n",
       " 37.66667  26.44444 \n"
      ]
     },
     "metadata": {},
     "output_type": "display_data"
    }
   ],
   "source": [
    "#Two Sample t-test\n",
    "tTestiT <- t.test(groupOne, groupTwo)\n",
    "tTestiT"
   ]
  },
  {
   "cell_type": "raw",
   "metadata": {
    "deletable": true,
    "editable": true
   },
   "source": [
    "H0 is Accepted"
   ]
  },
  {
   "cell_type": "code",
   "execution_count": null,
   "metadata": {
    "collapsed": false,
    "deletable": true,
    "editable": true
   },
   "outputs": [],
   "source": []
  },
  {
   "cell_type": "code",
   "execution_count": null,
   "metadata": {
    "collapsed": true,
    "deletable": true,
    "editable": true
   },
   "outputs": [],
   "source": []
  },
  {
   "cell_type": "code",
   "execution_count": null,
   "metadata": {
    "collapsed": true,
    "deletable": true,
    "editable": true
   },
   "outputs": [],
   "source": []
  },
  {
   "cell_type": "code",
   "execution_count": null,
   "metadata": {
    "collapsed": true,
    "deletable": true,
    "editable": true
   },
   "outputs": [],
   "source": []
  },
  {
   "cell_type": "code",
   "execution_count": null,
   "metadata": {
    "collapsed": true,
    "deletable": true,
    "editable": true
   },
   "outputs": [],
   "source": []
  },
  {
   "cell_type": "code",
   "execution_count": null,
   "metadata": {
    "collapsed": true,
    "deletable": true,
    "editable": true
   },
   "outputs": [],
   "source": []
  }
 ],
 "metadata": {
  "kernelspec": {
   "display_name": "R",
   "language": "R",
   "name": "ir"
  },
  "language_info": {
   "codemirror_mode": "r",
   "file_extension": ".r",
   "mimetype": "text/x-r-source",
   "name": "R",
   "pygments_lexer": "r",
   "version": "3.3.3"
  }
 },
 "nbformat": 4,
 "nbformat_minor": 2
}
